{
 "cells": [
  {
   "cell_type": "code",
   "execution_count": 2,
   "metadata": {
    "application/vnd.databricks.v1+cell": {
     "inputWidgets": {},
     "nuid": "5ae44a5e-11a8-4c71-9bc8-1e1e153656ed",
     "showTitle": false,
     "title": ""
    }
   },
   "outputs": [],
   "source": [
    "import findspark\n",
    "findspark.init()\n",
    "import pyspark\n",
    "from pyspark.sql import SparkSession\n",
    "spark = SparkSession.builder.getOrCreate()\n"
   ]
  },
  {
   "cell_type": "code",
   "execution_count": 54,
   "metadata": {},
   "outputs": [],
   "source": [
    "#spark.read.csv() 메소드를 이용하여 csv 파일을 로드하고 DataFrame으로 변환. \n",
    "# pandas_df = pd.read_csv('/FileStore/tables/titanic_train.csv', header='infer')\n",
    "df=spark.read.csv('C:\\\\Users\\\\jihun\\\\Downloads\\\\stats (7).csv',header=True,inferSchema=True)\n",
    "\n",
    "\n",
    "from pyspark.sql.types import StructType,StructField, StringType\n",
    "import re\n",
    "\n",
    "for each in df.schema.names:\n",
    "    df = df.withColumnRenamed(each,  re.sub(r'\\s+([a-zA-Z_][a-zA-Z_0-9]*)\\s*','',each.replace(' ', '')))\n",
    "# 일부 컬럼에 있는 공백 없애기    \n",
    "    \n",
    "# pandas DataFrame을 spark DataFrame으로 부터 생성. \n",
    "pdf = df.select('*').toPandas()\n"
   ]
  },
  {
   "cell_type": "code",
   "execution_count": null,
   "metadata": {},
   "outputs": [],
   "source": []
  },
  {
   "cell_type": "code",
   "execution_count": 55,
   "metadata": {},
   "outputs": [
    {
     "data": {
      "text/plain": [
       "DataFrame[last_name: string, first_name: string, player_id: int, year: int, p_k_percent: double, p_bb_percent: double, xwoba: double, z_swing_percent: double, z_swing_miss_percent: double, oz_swing_percent: double, oz_swing_miss_percent: double, oz_contact_percent: double, out_zone_percent: double, iz_contact_percent: double, in_zone_percent: double, edge_percent: double, whiff_percent: double, fastball_avg_speed: double, fastball_avg_spin: int, fastball_avg_break: double, breaking_avg_speed: double, breaking_avg_spin: int, breaking_avg_break: double, offspeed_avg_speed: double, offspeed_avg_spin: int, offspeed_avg_break: double, _c26: string]"
      ]
     },
     "execution_count": 55,
     "metadata": {},
     "output_type": "execute_result"
    }
   ],
   "source": [
    "df.cache()"
   ]
  },
  {
   "cell_type": "code",
   "execution_count": 56,
   "metadata": {},
   "outputs": [
    {
     "name": "stdout",
     "output_type": "stream",
     "text": [
      "+----------+----------+---------+----+-----------+------------+-----+---------------+--------------------+----------------+---------------------+------------------+----------------+------------------+---------------+------------+-------------+------------------+-----------------+------------------+------------------+-----------------+------------------+------------------+-----------------+------------------+----+\n",
      "| last_name|first_name|player_id|year|p_k_percent|p_bb_percent|xwoba|z_swing_percent|z_swing_miss_percent|oz_swing_percent|oz_swing_miss_percent|oz_contact_percent|out_zone_percent|iz_contact_percent|in_zone_percent|edge_percent|whiff_percent|fastball_avg_speed|fastball_avg_spin|fastball_avg_break|breaking_avg_speed|breaking_avg_spin|breaking_avg_break|offspeed_avg_speed|offspeed_avg_spin|offspeed_avg_break|_c26|\n",
      "+----------+----------+---------+----+-----------+------------+-----+---------------+--------------------+----------------+---------------------+------------------+----------------+------------------+---------------+------------+-------------+------------------+-----------------+------------------+------------------+-----------------+------------------+------------------+-----------------+------------------+----+\n",
      "|     Perez|    Oliver|   424144|2020|       19.4|         8.3|0.274|           62.3|                10.6|            23.8|                 45.2|              54.8|            46.3|              88.3|           53.7|        43.8|         19.2|              89.9|             2114|              19.4|              76.1|             2195|              10.3|              null|             null|              null|null|\n",
      "|Wainwright|      Adam|   425794|2020|       20.6|         5.7|0.324|           62.9|                15.2|            30.2|                 41.4|              58.6|            51.6|              83.7|           48.4|        43.0|         24.1|              87.6|             2253|              13.5|              73.5|             2791|              22.0|              81.8|             1683|              15.3|null|\n",
      "|   Greinke|      Zack|   425844|2020|       24.5|         3.3|0.299|           59.7|                17.0|            26.3|                 46.5|              53.5|            56.4|              82.6|           43.6|        43.7|         27.7|              88.1|             2327|              17.6|              77.7|             2425|              12.2|              86.2|             1668|              14.0|null|\n",
      "|     Petit|  Yusmeiro|   433589|2020|       19.3|         5.7|0.328|           73.2|                22.6|            31.6|                 34.0|              66.0|            50.2|              76.5|           49.8|        41.0|         26.1|              86.7|             2134|              17.4|              74.3|             2000|              13.3|              81.3|             1753|              18.3|null|\n",
      "|   Sanchez|    Anibal|   434671|2020|       17.6|         7.3|0.355|           70.3|                16.8|            28.7|                 36.8|              61.8|            54.6|              81.6|           45.4|        43.5|         23.4|              88.6|             2152|              16.2|              76.8|             2044|               4.9|              79.6|             1492|              15.0|null|\n",
      "|    Rondon|    Hector|   444468|2020|       23.7|        11.3|0.355|           67.2|                 9.3|            27.3|                 42.6|              53.7|            50.8|              89.9|           49.2|        45.1|         19.1|              95.6|             2034|              17.7|              85.4|             2290|               6.2|              88.3|             1719|              16.4|null|\n",
      "|  Kintzler|   Brandon|   445213|2020|       13.9|        10.9|0.325|           61.0|                 5.0|            28.5|                 35.3|              64.7|            52.2|              95.0|           47.8|        48.1|         15.2|              91.3|             1943|              18.1|              84.6|             2322|               3.4|              85.9|             2065|              20.0|null|\n",
      "|    Jansen|    Kenley|   445276|2020|       32.4|         8.8|0.266|           70.7|                27.7|            34.4|                 36.8|              63.2|            49.6|              71.7|           50.4|        45.1|         30.6|              91.3|             2449|              16.9|              81.6|             2334|               8.5|              null|             null|              null|null|\n",
      "|    Chavez|     Jesse|   445926|2020|       16.9|         9.1|0.393|           62.0|                14.0|            19.4|                 20.0|              80.0|            50.8|              86.0|           49.2|        43.3|         15.4|              90.2|             2197|              16.7|              83.3|             2268|               6.1|              85.2|             1988|              18.7|null|\n",
      "|  Detwiler|      Ross|   446321|2020|       18.5|         6.2|0.294|           74.0|                20.7|            27.3|                 45.5|              54.5|            51.8|              78.4|           48.2|        41.5|         27.7|              91.1|             2183|              18.7|              82.7|             2176|               3.3|              85.2|             1726|              14.5|null|\n",
      "+----------+----------+---------+----+-----------+------------+-----+---------------+--------------------+----------------+---------------------+------------------+----------------+------------------+---------------+------------+-------------+------------------+-----------------+------------------+------------------+-----------------+------------------+------------------+-----------------+------------------+----+\n",
      "\n"
     ]
    }
   ],
   "source": [
    "df.limit(10).show()"
   ]
  },
  {
   "cell_type": "code",
   "execution_count": null,
   "metadata": {},
   "outputs": [],
   "source": []
  },
  {
   "cell_type": "code",
   "execution_count": 58,
   "metadata": {
    "application/vnd.databricks.v1+cell": {
     "inputWidgets": {},
     "nuid": "57de06d7-a178-409a-bf47-c663ad76c168",
     "showTitle": false,
     "title": ""
    }
   },
   "outputs": [],
   "source": [
    "## SQL 사용이 가능할 수 있도록 titanic_sdf DataFrame을 DB View로 생성. \n",
    "df.createOrReplaceTempView('df_view')"
   ]
  },
  {
   "cell_type": "code",
   "execution_count": 13,
   "metadata": {},
   "outputs": [
    {
     "name": "stdout",
     "output_type": "stream",
     "text": [
      "+----------+-----------+---------+----+-----------+------------+-----+---------------+--------------------+----------------+---------------------+------------------+----------------+------------------+---------------+------------+-------------+------------------+-----------------+------------------+------------------+-----------------+------------------+------------------+-----------------+------------------+----+\n",
      "| last_name| first_name|player_id|year|p_k_percent|p_bb_percent|xwoba|z_swing_percent|z_swing_miss_percent|oz_swing_percent|oz_swing_miss_percent|oz_contact_percent|out_zone_percent|iz_contact_percent|in_zone_percent|edge_percent|whiff_percent|fastball_avg_speed|fastball_avg_spin|fastball_avg_break|breaking_avg_speed|breaking_avg_spin|breaking_avg_break|offspeed_avg_speed|offspeed_avg_spin|offspeed_avg_break|_c26|\n",
      "+----------+-----------+---------+----+-----------+------------+-----+---------------+--------------------+----------------+---------------------+------------------+----------------+------------------+---------------+------------+-------------+------------------+-----------------+------------------+------------------+-----------------+------------------+------------------+-----------------+------------------+----+\n",
      "|     Perez|     Oliver|   424144|2020|       19.4|         8.3|0.274|           62.3|                10.6|            23.8|                 45.2|              54.8|            46.3|              88.3|           53.7|        43.8|         19.2|              89.9|             2114|              19.4|              76.1|             2195|              10.3|              null|             null|              null|null|\n",
      "|Wainwright|       Adam|   425794|2020|       20.6|         5.7|0.324|           62.9|                15.2|            30.2|                 41.4|              58.6|            51.6|              83.7|           48.4|        43.0|         24.1|              87.6|             2253|              13.5|              73.5|             2791|              22.0|              81.8|             1683|              15.3|null|\n",
      "|   Greinke|       Zack|   425844|2020|       24.5|         3.3|0.299|           59.7|                17.0|            26.3|                 46.5|              53.5|            56.4|              82.6|           43.6|        43.7|         27.7|              88.1|             2327|              17.6|              77.7|             2425|              12.2|              86.2|             1668|              14.0|null|\n",
      "|     Petit|   Yusmeiro|   433589|2020|       19.3|         5.7|0.328|           73.2|                22.6|            31.6|                 34.0|              66.0|            50.2|              76.5|           49.8|        41.0|         26.1|              86.7|             2134|              17.4|              74.3|             2000|              13.3|              81.3|             1753|              18.3|null|\n",
      "|   Sanchez|     Anibal|   434671|2020|       17.6|         7.3|0.355|           70.3|                16.8|            28.7|                 36.8|              61.8|            54.6|              81.6|           45.4|        43.5|         23.4|              88.6|             2152|              16.2|              76.8|             2044|               4.9|              79.6|             1492|              15.0|null|\n",
      "|    Rondon|     Hector|   444468|2020|       23.7|        11.3|0.355|           67.2|                 9.3|            27.3|                 42.6|              53.7|            50.8|              89.9|           49.2|        45.1|         19.1|              95.6|             2034|              17.7|              85.4|             2290|               6.2|              88.3|             1719|              16.4|null|\n",
      "|  Kintzler|    Brandon|   445213|2020|       13.9|        10.9|0.325|           61.0|                 5.0|            28.5|                 35.3|              64.7|            52.2|              95.0|           47.8|        48.1|         15.2|              91.3|             1943|              18.1|              84.6|             2322|               3.4|              85.9|             2065|              20.0|null|\n",
      "|    Jansen|     Kenley|   445276|2020|       32.4|         8.8|0.266|           70.7|                27.7|            34.4|                 36.8|              63.2|            49.6|              71.7|           50.4|        45.1|         30.6|              91.3|             2449|              16.9|              81.6|             2334|               8.5|              null|             null|              null|null|\n",
      "|    Chavez|      Jesse|   445926|2020|       16.9|         9.1|0.393|           62.0|                14.0|            19.4|                 20.0|              80.0|            50.8|              86.0|           49.2|        43.3|         15.4|              90.2|             2197|              16.7|              83.3|             2268|               6.1|              85.2|             1988|              18.7|null|\n",
      "|  Detwiler|       Ross|   446321|2020|       18.5|         6.2|0.294|           74.0|                20.7|            27.3|                 45.5|              54.5|            51.8|              78.4|           48.2|        41.5|         27.7|              91.1|             2183|              18.7|              82.7|             2176|               3.3|              85.2|             1726|              14.5|null|\n",
      "|      Hill|       Rich|   448179|2020|       19.9|        10.9|0.342|           58.1|                13.2|            26.8|                 22.0|              75.6|            49.4|              86.8|           50.6|        42.0|         15.9|              87.3|             2390|              20.2|              72.6|             2839|              23.0|              83.4|             1724|              19.0|null|\n",
      "|    Guerra|     Junior|   448855|2020|       20.4|        14.6|0.321|           72.0|                18.3|            28.4|                 44.4|              55.6|            55.0|              80.9|           45.0|        38.1|         26.8|              94.0|             2446|              19.8|              81.8|             2720|              11.0|              86.1|             1244|              16.2|null|\n",
      "|    Morton|    Charlie|   450203|2020|       24.7|         5.9|0.305|           69.2|                17.0|            31.4|                 45.3|              53.7|            45.9|              82.6|           54.1|        42.3|         24.9|              92.1|             2287|              16.7|              78.2|             2887|              20.0|              85.9|             2036|              19.4|null|\n",
      "|    Lester|        Jon|   452657|2020|       15.8|         6.4|0.363|           67.4|                11.3|            25.9|                 32.4|              67.6|            55.6|              88.1|           44.4|        40.9|         18.1|              88.4|             2240|              14.2|              73.4|             2569|              11.8|              83.3|             1913|              15.1|null|\n",
      "|    Hughes|      Jared|   453172|2020|       19.3|        12.8|0.328|           63.0|                23.7|            34.9|                 41.1|              57.8|            62.6|              76.3|           37.4|        44.2|         32.1|              91.4|             2026|              15.4|              80.8|             2064|              14.4|              84.2|             1528|              10.0|null|\n",
      "|   Kennedy|        Ian|   453178|2020|       21.7|         7.2|0.377|           71.6|                18.8|            29.2|                 28.6|              71.4|            46.0|              80.2|           54.0|        41.8|         21.3|              92.1|             2367|              15.1|              80.5|             2568|              15.2|              86.7|             1851|              16.7|null|\n",
      "|    Miller|     Andrew|   453192|2020|       29.1|         9.1| 0.22|           64.9|                23.8|            22.2|                 50.0|              50.0|            52.7|              74.6|           47.3|        39.5|         31.0|              90.2|             2106|              15.6|              80.1|             2605|              13.0|              null|             null|              null|null|\n",
      "|    Watson|       Tony|   453265|2020|       20.5|         4.1|0.303|           62.7|                17.6|            38.9|                 38.1|              61.9|            57.9|              81.1|           42.1|        39.6|         27.0|              89.8|             2283|              18.2|              81.2|             2338|               3.8|              84.1|             2257|              20.4|null|\n",
      "|      Bard|     Daniel|   453268|2020|       25.5|         9.4|0.306|           68.6|                22.5|            24.5|                 48.9|              51.1|            45.5|              76.8|           54.5|        46.3|         28.6|              97.0|             2671|              14.8|              87.6|             2815|               6.7|              89.7|             2126|              16.3|null|\n",
      "|   LeBlanc|       Wade|   453281|2020|       12.6|         7.8|0.323|           62.8|                17.4|            28.3|                 40.4|              59.6|            50.1|              80.0|           49.9|        44.1|         24.6|              85.1|             1908|              13.7|              72.9|             2269|              14.3|              78.9|             1598|              16.2|null|\n",
      "+----------+-----------+---------+----+-----------+------------+-----+---------------+--------------------+----------------+---------------------+------------------+----------------+------------------+---------------+------------+-------------+------------------+-----------------+------------------+------------------+-----------------+------------------+------------------+-----------------+------------------+----+\n",
      "only showing top 20 rows\n",
      "\n"
     ]
    }
   ],
   "source": [
    "spark.sql('select * from df_view').show()"
   ]
  },
  {
   "cell_type": "code",
   "execution_count": 14,
   "metadata": {},
   "outputs": [
    {
     "data": {
      "text/plain": [
       "DataFrame[last_name: string,  first_name: string, player_id: int, year: int, p_k_percent: double, p_bb_percent: double, xwoba: double, z_swing_percent: double, z_swing_miss_percent: double, oz_swing_percent: double, oz_swing_miss_percent: double, oz_contact_percent: double, out_zone_percent: double, iz_contact_percent: double, in_zone_percent: double, edge_percent: double, whiff_percent: double, fastball_avg_speed: double, fastball_avg_spin: int, fastball_avg_break: double, breaking_avg_speed: double, breaking_avg_spin: int, breaking_avg_break: double, offspeed_avg_speed: double, offspeed_avg_spin: int, offspeed_avg_break: double, _c26: string]"
      ]
     },
     "execution_count": 14,
     "metadata": {},
     "output_type": "execute_result"
    }
   ],
   "source": [
    "spark.sql('select * from df_view limit(10)')"
   ]
  },
  {
   "cell_type": "code",
   "execution_count": 23,
   "metadata": {},
   "outputs": [
    {
     "name": "stdout",
     "output_type": "stream",
     "text": [
      "+----------------+-----+\n",
      "|upper(last_name)|xwoba|\n",
      "+----------------+-----+\n",
      "|           PEREZ|0.274|\n",
      "|      WAINWRIGHT|0.324|\n",
      "|         GREINKE|0.299|\n",
      "|           PETIT|0.328|\n",
      "|         SANCHEZ|0.355|\n",
      "|          RONDON|0.355|\n",
      "|        KINTZLER|0.325|\n",
      "|          JANSEN|0.266|\n",
      "|          CHAVEZ|0.393|\n",
      "|        DETWILER|0.294|\n",
      "|            HILL|0.342|\n",
      "|          GUERRA|0.321|\n",
      "|          MORTON|0.305|\n",
      "|          LESTER|0.363|\n",
      "|          HUGHES|0.328|\n",
      "|         KENNEDY|0.377|\n",
      "|          MILLER| 0.22|\n",
      "|          WATSON|0.303|\n",
      "|            BARD|0.306|\n",
      "|         LEBLANC|0.323|\n",
      "+----------------+-----+\n",
      "only showing top 20 rows\n",
      "\n"
     ]
    }
   ],
   "source": [
    "spark.sql('select upper(last_name),xwoba from df_view').show()"
   ]
  },
  {
   "cell_type": "code",
   "execution_count": 27,
   "metadata": {
    "application/vnd.databricks.v1+cell": {
     "inputWidgets": {},
     "nuid": "89d70e4d-b03c-4a0c-8ebe-c498c36149af",
     "showTitle": false,
     "title": ""
    }
   },
   "outputs": [
    {
     "name": "stdout",
     "output_type": "stream",
     "text": [
      "+--------------------------+\n",
      "|substring(last_name, 0, 1)|\n",
      "+--------------------------+\n",
      "|                         P|\n",
      "|                         W|\n",
      "|                         G|\n",
      "|                         P|\n",
      "|                         S|\n",
      "|                         R|\n",
      "|                         K|\n",
      "|                         J|\n",
      "|                         C|\n",
      "|                         D|\n",
      "|                         H|\n",
      "|                         G|\n",
      "|                         M|\n",
      "|                         L|\n",
      "|                         H|\n",
      "|                         K|\n",
      "|                         M|\n",
      "|                         W|\n",
      "|                         B|\n",
      "|                         L|\n",
      "+--------------------------+\n",
      "only showing top 20 rows\n",
      "\n"
     ]
    }
   ],
   "source": [
    "spark.sql('select substring(last_name, 0, 1) from df_view').show()"
   ]
  },
  {
   "cell_type": "code",
   "execution_count": 62,
   "metadata": {},
   "outputs": [
    {
     "name": "stdout",
     "output_type": "stream",
     "text": [
      "+---------+----------+------------------+-----+\n",
      "|last_name|first_name|fastball_avg_speed|xwoba|\n",
      "+---------+----------+------------------+-----+\n",
      "|Zastryzny|       Rob|              88.9|0.212|\n",
      "|     Hart|    Donnie|              88.3|  0.2|\n",
      "|    Smith|       Joe|              89.0|0.249|\n",
      "|    Suter|     Brent|              87.5|0.223|\n",
      "|   Rogers|     Tyler|              82.4|0.218|\n",
      "|   McHugh|    Collin|              88.3|0.233|\n",
      "|    O'Day|    Darren|              86.6|0.244|\n",
      "|     Nuno|     Vidal|              89.0|0.249|\n",
      "|   Cimber|      Adam|              86.5|0.248|\n",
      "+---------+----------+------------------+-----+\n",
      "\n"
     ]
    }
   ],
   "source": [
    "spark.sql(\"\"\"select last_name,first_name,fastball_avg_speed,xwoba from df_view\n",
    "where fastball_avg_speed < 90 and xwoba < 0.25\n",
    "\"\"\").show()"
   ]
  },
  {
   "cell_type": "code",
   "execution_count": null,
   "metadata": {},
   "outputs": [],
   "source": []
  },
  {
   "cell_type": "code",
   "execution_count": null,
   "metadata": {},
   "outputs": [],
   "source": []
  },
  {
   "cell_type": "code",
   "execution_count": null,
   "metadata": {},
   "outputs": [],
   "source": []
  },
  {
   "cell_type": "code",
   "execution_count": 0,
   "metadata": {
    "application/vnd.databricks.v1+cell": {
     "inputWidgets": {},
     "nuid": "797abab3-a13f-40dc-af06-a03e4b61a3bf",
     "showTitle": false,
     "title": ""
    }
   },
   "outputs": [
    {
     "data": {
      "text/html": [
       "<style scoped>\n",
       "  .ansiout {\n",
       "    display: block;\n",
       "    unicode-bidi: embed;\n",
       "    white-space: pre-wrap;\n",
       "    word-wrap: break-word;\n",
       "    word-break: break-all;\n",
       "    font-family: \"Source Code Pro\", \"Menlo\", monospace;;\n",
       "    font-size: 13px;\n",
       "    color: #555;\n",
       "    margin-left: 4px;\n",
       "    line-height: 19px;\n",
       "  }\n",
       "</style>"
      ]
     },
     "metadata": {
      "application/vnd.databricks.v1+output": {
       "arguments": {},
       "data": "",
       "errorSummary": "",
       "errorTraceType": null,
       "metadata": {},
       "type": "ipynbError"
      }
     },
     "output_type": "display_data"
    }
   ],
   "source": [
    "%sql\n",
    "select pclass, name, age from titanic_view where upper(name) like '%MR.%' "
   ]
  },
  {
   "cell_type": "code",
   "execution_count": 0,
   "metadata": {
    "application/vnd.databricks.v1+cell": {
     "inputWidgets": {},
     "nuid": "96c0717d-4230-4a76-96ea-8439c3b68c72",
     "showTitle": false,
     "title": ""
    }
   },
   "outputs": [
    {
     "data": {
      "text/html": [
       "<style scoped>\n",
       "  .ansiout {\n",
       "    display: block;\n",
       "    unicode-bidi: embed;\n",
       "    white-space: pre-wrap;\n",
       "    word-wrap: break-word;\n",
       "    word-break: break-all;\n",
       "    font-family: \"Source Code Pro\", \"Menlo\", monospace;;\n",
       "    font-size: 13px;\n",
       "    color: #555;\n",
       "    margin-left: 4px;\n",
       "    line-height: 19px;\n",
       "  }\n",
       "</style>"
      ]
     },
     "metadata": {
      "application/vnd.databricks.v1+output": {
       "arguments": {},
       "data": "",
       "errorSummary": "",
       "errorTraceType": null,
       "metadata": {},
       "type": "ipynbError"
      }
     },
     "output_type": "display_data"
    }
   ],
   "source": [
    "%sql\n",
    "select * from titanic_view where pclass in (1, 2) "
   ]
  },
  {
   "cell_type": "code",
   "execution_count": 0,
   "metadata": {
    "application/vnd.databricks.v1+cell": {
     "inputWidgets": {},
     "nuid": "217d0758-f76b-4e20-be77-4c63554d8220",
     "showTitle": false,
     "title": ""
    }
   },
   "outputs": [
    {
     "data": {
      "text/html": [
       "<style scoped>\n",
       "  .ansiout {\n",
       "    display: block;\n",
       "    unicode-bidi: embed;\n",
       "    white-space: pre-wrap;\n",
       "    word-wrap: break-word;\n",
       "    word-break: break-all;\n",
       "    font-family: \"Source Code Pro\", \"Menlo\", monospace;;\n",
       "    font-size: 13px;\n",
       "    color: #555;\n",
       "    margin-left: 4px;\n",
       "    line-height: 19px;\n",
       "  }\n",
       "</style>"
      ]
     },
     "metadata": {
      "application/vnd.databricks.v1+output": {
       "arguments": {},
       "data": "",
       "errorSummary": "",
       "errorTraceType": null,
       "metadata": {},
       "type": "ipynbError"
      }
     },
     "output_type": "display_data"
    }
   ],
   "source": [
    "%sql\n",
    "-- order by 절로 정렬. pclass로 오름 차순 정렬 후 10건만 추출. \n",
    "select * from titanic_view order by pclass limit 10 -- titanic_sdf.orderBy('pclass').limit(10).show()"
   ]
  },
  {
   "cell_type": "code",
   "execution_count": 0,
   "metadata": {
    "application/vnd.databricks.v1+cell": {
     "inputWidgets": {},
     "nuid": "c134d69b-761d-4485-9dd9-ab52b99580b6",
     "showTitle": false,
     "title": ""
    }
   },
   "outputs": [
    {
     "data": {
      "text/html": [
       "<style scoped>\n",
       "  .ansiout {\n",
       "    display: block;\n",
       "    unicode-bidi: embed;\n",
       "    white-space: pre-wrap;\n",
       "    word-wrap: break-word;\n",
       "    word-break: break-all;\n",
       "    font-family: \"Source Code Pro\", \"Menlo\", monospace;;\n",
       "    font-size: 13px;\n",
       "    color: #555;\n",
       "    margin-left: 4px;\n",
       "    line-height: 19px;\n",
       "  }\n",
       "</style>"
      ]
     },
     "metadata": {
      "application/vnd.databricks.v1+output": {
       "arguments": {},
       "data": "",
       "errorSummary": "",
       "errorTraceType": null,
       "metadata": {},
       "type": "ipynbError"
      }
     },
     "output_type": "display_data"
    }
   ],
   "source": [
    "%sql\n",
    "-- pclass는 오름차순, name은 내림차순으로 정렬\n",
    "select * from titanic_view order by pclass asc, name desc"
   ]
  },
  {
   "cell_type": "code",
   "execution_count": 0,
   "metadata": {
    "application/vnd.databricks.v1+cell": {
     "inputWidgets": {},
     "nuid": "15343fe2-94ac-4acf-ae4f-f89aedcf53ba",
     "showTitle": false,
     "title": ""
    }
   },
   "outputs": [
    {
     "data": {
      "text/html": [
       "<style scoped>\n",
       "  .ansiout {\n",
       "    display: block;\n",
       "    unicode-bidi: embed;\n",
       "    white-space: pre-wrap;\n",
       "    word-wrap: break-word;\n",
       "    word-break: break-all;\n",
       "    font-family: \"Source Code Pro\", \"Menlo\", monospace;;\n",
       "    font-size: 13px;\n",
       "    color: #555;\n",
       "    margin-left: 4px;\n",
       "    line-height: 19px;\n",
       "  }\n",
       "</style>"
      ]
     },
     "metadata": {
      "application/vnd.databricks.v1+output": {
       "arguments": {},
       "data": "",
       "errorSummary": "",
       "errorTraceType": null,
       "metadata": {},
       "type": "ipynbError"
      }
     },
     "output_type": "display_data"
    }
   ],
   "source": [
    "%sql\n",
    "-- view의 건수 추출 \n",
    "select count(*) as cnt from titanic_view -- titanic_sdf.count()"
   ]
  },
  {
   "cell_type": "code",
   "execution_count": 0,
   "metadata": {
    "application/vnd.databricks.v1+cell": {
     "inputWidgets": {},
     "nuid": "b8db7044-5ec3-4501-a7eb-67e9e317322e",
     "showTitle": false,
     "title": ""
    }
   },
   "outputs": [
    {
     "data": {
      "text/html": [
       "<style scoped>\n",
       "  .ansiout {\n",
       "    display: block;\n",
       "    unicode-bidi: embed;\n",
       "    white-space: pre-wrap;\n",
       "    word-wrap: break-word;\n",
       "    word-break: break-all;\n",
       "    font-family: \"Source Code Pro\", \"Menlo\", monospace;;\n",
       "    font-size: 13px;\n",
       "    color: #555;\n",
       "    margin-left: 4px;\n",
       "    line-height: 19px;\n",
       "  }\n",
       "</style>"
      ]
     },
     "metadata": {
      "application/vnd.databricks.v1+output": {
       "arguments": {},
       "data": "",
       "errorSummary": "",
       "errorTraceType": null,
       "metadata": {},
       "type": "ipynbError"
      }
     },
     "output_type": "display_data"
    }
   ],
   "source": [
    "%sql\n",
    "-- titanic_view의 최대 age, 최소 age, 평균 sibsp 값을 추출. \n",
    "select max(age), min(age), avg(sibsp) from titanic_view \n"
   ]
  },
  {
   "cell_type": "code",
   "execution_count": 0,
   "metadata": {
    "application/vnd.databricks.v1+cell": {
     "inputWidgets": {},
     "nuid": "4a7adb51-d629-4013-ae67-bb93704820ff",
     "showTitle": false,
     "title": ""
    }
   },
   "outputs": [
    {
     "data": {
      "text/html": [
       "<style scoped>\n",
       "  .ansiout {\n",
       "    display: block;\n",
       "    unicode-bidi: embed;\n",
       "    white-space: pre-wrap;\n",
       "    word-wrap: break-word;\n",
       "    word-break: break-all;\n",
       "    font-family: \"Source Code Pro\", \"Menlo\", monospace;;\n",
       "    font-size: 13px;\n",
       "    color: #555;\n",
       "    margin-left: 4px;\n",
       "    line-height: 19px;\n",
       "  }\n",
       "</style>"
      ]
     },
     "metadata": {
      "application/vnd.databricks.v1+output": {
       "arguments": {},
       "data": "",
       "errorSummary": "",
       "errorTraceType": null,
       "metadata": {},
       "type": "ipynbError"
      }
     },
     "output_type": "display_data"
    }
   ],
   "source": [
    "%sql\n",
    "-- pclass로 group by 하여 pclass 레벨로 최대 age, 최소 age, 평균 sibsp 값을 추출. \n",
    "select pclass, max(age), min(age), avg(sibsp) from titanic_view group by pclass"
   ]
  },
  {
   "cell_type": "code",
   "execution_count": 0,
   "metadata": {
    "application/vnd.databricks.v1+cell": {
     "inputWidgets": {},
     "nuid": "613fe4e3-7c03-4a5a-b374-8d5d8c58e467",
     "showTitle": false,
     "title": ""
    }
   },
   "outputs": [
    {
     "data": {
      "text/html": [
       "<style scoped>\n",
       "  .ansiout {\n",
       "    display: block;\n",
       "    unicode-bidi: embed;\n",
       "    white-space: pre-wrap;\n",
       "    word-wrap: break-word;\n",
       "    word-break: break-all;\n",
       "    font-family: \"Source Code Pro\", \"Menlo\", monospace;;\n",
       "    font-size: 13px;\n",
       "    color: #555;\n",
       "    margin-left: 4px;\n",
       "    line-height: 19px;\n",
       "  }\n",
       "</style>"
      ]
     },
     "metadata": {
      "application/vnd.databricks.v1+output": {
       "arguments": {},
       "data": "",
       "errorSummary": "",
       "errorTraceType": null,
       "metadata": {},
       "type": "ipynbError"
      }
     },
     "output_type": "display_data"
    }
   ],
   "source": [
    "%sql\n",
    "-- pclass로 group by 하여 pclass 레벨로 최대 age, 최소 age, 평균 sibsp 값을 추출. \n",
    "select pclass, max(age) as max_age, min(age) as min_age, avg(sibsp) as avg_sibsp from titanic_view group by pclass having max(age) > 70\n",
    "/* \n",
    "import pyspark.sql.functions as F\n",
    "titanic_sdf.groupBy('pclass').agg(F.max(col('age')).alias('max_age'), \n",
    "                                  F.min(col('age')).alis('min_age'), \n",
    "                                  F.avg(col('sibsp')).alias('avg_sibsp')).filter(col('max_age') > 70).show()\n",
    "*/"
   ]
  },
  {
   "cell_type": "code",
   "execution_count": 0,
   "metadata": {
    "application/vnd.databricks.v1+cell": {
     "inputWidgets": {},
     "nuid": "fe096bd4-3167-4093-b44e-d7878c732d30",
     "showTitle": false,
     "title": ""
    }
   },
   "outputs": [
    {
     "data": {
      "text/html": [
       "<style scoped>\n",
       "  .ansiout {\n",
       "    display: block;\n",
       "    unicode-bidi: embed;\n",
       "    white-space: pre-wrap;\n",
       "    word-wrap: break-word;\n",
       "    word-break: break-all;\n",
       "    font-family: \"Source Code Pro\", \"Menlo\", monospace;;\n",
       "    font-size: 13px;\n",
       "    color: #555;\n",
       "    margin-left: 4px;\n",
       "    line-height: 19px;\n",
       "  }\n",
       "</style>"
      ]
     },
     "metadata": {
      "application/vnd.databricks.v1+output": {
       "arguments": {},
       "data": "",
       "errorSummary": "",
       "errorTraceType": null,
       "metadata": {},
       "type": "ipynbError"
      }
     },
     "output_type": "display_data"
    }
   ],
   "source": [
    "%sql\n",
    "\n",
    "select pclass, max_age, min_age, avg_sibsp\n",
    "from ( \n",
    "      select pclass, max(age) as max_age, min(age) as min_age, avg(sibsp) as avg_sibsp from titanic_view group by pclass\n",
    ") where max_age > 70"
   ]
  },
  {
   "cell_type": "code",
   "execution_count": 0,
   "metadata": {
    "application/vnd.databricks.v1+cell": {
     "inputWidgets": {},
     "nuid": "1ee2225c-ab61-4fa4-bed5-95beb5e07c2d",
     "showTitle": false,
     "title": ""
    }
   },
   "outputs": [
    {
     "data": {
      "text/html": [
       "<style scoped>\n",
       "  .ansiout {\n",
       "    display: block;\n",
       "    unicode-bidi: embed;\n",
       "    white-space: pre-wrap;\n",
       "    word-wrap: break-word;\n",
       "    word-break: break-all;\n",
       "    font-family: \"Source Code Pro\", \"Menlo\", monospace;;\n",
       "    font-size: 13px;\n",
       "    color: #555;\n",
       "    margin-left: 4px;\n",
       "    line-height: 19px;\n",
       "  }\n",
       "</style>"
      ]
     },
     "metadata": {
      "application/vnd.databricks.v1+output": {
       "arguments": {},
       "data": "",
       "errorSummary": "",
       "errorTraceType": null,
       "metadata": {},
       "type": "ipynbError"
      }
     },
     "output_type": "display_data"
    }
   ],
   "source": [
    "%sql\n",
    "-- 아래 update sql은 동작하지 않음. \n",
    "update titanic_view set fare=fare*10 -- titanic_sdf.withColumn('Fare', col('Fare')*10)"
   ]
  },
  {
   "cell_type": "code",
   "execution_count": 0,
   "metadata": {
    "application/vnd.databricks.v1+cell": {
     "inputWidgets": {},
     "nuid": "8f604590-ffed-4fe4-a323-c49e9ee47c96",
     "showTitle": false,
     "title": ""
    }
   },
   "outputs": [
    {
     "data": {
      "text/html": [
       "<style scoped>\n",
       "  .ansiout {\n",
       "    display: block;\n",
       "    unicode-bidi: embed;\n",
       "    white-space: pre-wrap;\n",
       "    word-wrap: break-word;\n",
       "    word-break: break-all;\n",
       "    font-family: \"Source Code Pro\", \"Menlo\", monospace;;\n",
       "    font-size: 13px;\n",
       "    color: #555;\n",
       "    margin-left: 4px;\n",
       "    line-height: 19px;\n",
       "  }\n",
       "</style>"
      ]
     },
     "metadata": {
      "application/vnd.databricks.v1+output": {
       "arguments": {},
       "data": "",
       "errorSummary": "",
       "errorTraceType": null,
       "metadata": {},
       "type": "ipynbError"
      }
     },
     "output_type": "display_data"
    }
   ],
   "source": [
    "%sql\n",
    "\n",
    "delete from titanic_view;"
   ]
  },
  {
   "cell_type": "code",
   "execution_count": 0,
   "metadata": {
    "application/vnd.databricks.v1+cell": {
     "inputWidgets": {},
     "nuid": "ab2e2648-b55f-4684-b5e0-110ac36dd9aa",
     "showTitle": false,
     "title": ""
    }
   },
   "outputs": [
    {
     "data": {
      "text/html": [
       "<style scoped>\n",
       "  .ansiout {\n",
       "    display: block;\n",
       "    unicode-bidi: embed;\n",
       "    white-space: pre-wrap;\n",
       "    word-wrap: break-word;\n",
       "    word-break: break-all;\n",
       "    font-family: \"Source Code Pro\", \"Menlo\", monospace;;\n",
       "    font-size: 13px;\n",
       "    color: #555;\n",
       "    margin-left: 4px;\n",
       "    line-height: 19px;\n",
       "  }\n",
       "</style>"
      ]
     },
     "metadata": {
      "application/vnd.databricks.v1+output": {
       "arguments": {},
       "data": "",
       "errorSummary": "",
       "errorTraceType": null,
       "metadata": {},
       "type": "ipynbError"
      }
     },
     "output_type": "display_data"
    }
   ],
   "source": [
    "%sql\n",
    "-- Null 조건(Not Null 조건 )\n",
    "select * from titanic_view where age is null and cabin is not null -- titanic_sdf.filter(F.col('age').isNull & F.col('cabin').isNotNull())"
   ]
  },
  {
   "cell_type": "code",
   "execution_count": 0,
   "metadata": {
    "application/vnd.databricks.v1+cell": {
     "inputWidgets": {},
     "nuid": "d4f5c5c8-af21-4733-b876-008c5c77be49",
     "showTitle": false,
     "title": ""
    }
   },
   "outputs": [
    {
     "data": {
      "text/html": [
       "<style scoped>\n",
       "  .ansiout {\n",
       "    display: block;\n",
       "    unicode-bidi: embed;\n",
       "    white-space: pre-wrap;\n",
       "    word-wrap: break-word;\n",
       "    word-break: break-all;\n",
       "    font-family: \"Source Code Pro\", \"Menlo\", monospace;;\n",
       "    font-size: 13px;\n",
       "    color: #555;\n",
       "    margin-left: 4px;\n",
       "    line-height: 19px;\n",
       "  }\n",
       "</style>"
      ]
     },
     "metadata": {
      "application/vnd.databricks.v1+output": {
       "arguments": {},
       "data": "",
       "errorSummary": "",
       "errorTraceType": null,
       "metadata": {},
       "type": "ipynbError"
      }
     },
     "output_type": "display_data"
    }
   ],
   "source": [
    "import pyspark.sql.functions as F\n",
    "\n",
    "titanic_sdf.filter((F.col('age').isNull()) & (F.col('cabin').isNotNull())).show()"
   ]
  },
  {
   "cell_type": "code",
   "execution_count": 0,
   "metadata": {
    "application/vnd.databricks.v1+cell": {
     "inputWidgets": {},
     "nuid": "f3a2f244-e171-4af1-8127-daafff1858c2",
     "showTitle": false,
     "title": ""
    }
   },
   "outputs": [
    {
     "data": {
      "text/html": [
       "<style scoped>\n",
       "  .ansiout {\n",
       "    display: block;\n",
       "    unicode-bidi: embed;\n",
       "    white-space: pre-wrap;\n",
       "    word-wrap: break-word;\n",
       "    word-break: break-all;\n",
       "    font-family: \"Source Code Pro\", \"Menlo\", monospace;;\n",
       "    font-size: 13px;\n",
       "    color: #555;\n",
       "    margin-left: 4px;\n",
       "    line-height: 19px;\n",
       "  }\n",
       "</style>"
      ]
     },
     "metadata": {
      "application/vnd.databricks.v1+output": {
       "arguments": {},
       "data": "",
       "errorSummary": "",
       "errorTraceType": null,
       "metadata": {},
       "type": "ipynbError"
      }
     },
     "output_type": "display_data"
    }
   ],
   "source": [
    "%sql\n",
    "\n",
    "-- select case when 조건으로 if elif else 조건에 따라 값 생성. \n",
    "Select a.*, CASE WHEN age <= 5 THEN 'Baby'\n",
    "                 WHEN age <=12 Then 'Child'\n",
    "                 WHEN age <= 18 THEN 'Teenage'\n",
    "                 WHEN age <= 25 THEN 'Student'\n",
    "                 WHEN age <=35 THEN 'Young Adult'\n",
    "                 WHEN age <=60 THEN 'Adult'\n",
    "                 WHEN age IS NULL THEN 'NA'\n",
    "                 ELSE 'Elderly' END as Age_Category from titanic_view a"
   ]
  },
  {
   "cell_type": "code",
   "execution_count": 0,
   "metadata": {
    "application/vnd.databricks.v1+cell": {
     "inputWidgets": {},
     "nuid": "72ea7c46-f268-45ea-8e64-ad2bbba2ce2c",
     "showTitle": false,
     "title": ""
    }
   },
   "outputs": [
    {
     "data": {
      "text/html": [
       "<style scoped>\n",
       "  .ansiout {\n",
       "    display: block;\n",
       "    unicode-bidi: embed;\n",
       "    white-space: pre-wrap;\n",
       "    word-wrap: break-word;\n",
       "    word-break: break-all;\n",
       "    font-family: \"Source Code Pro\", \"Menlo\", monospace;;\n",
       "    font-size: 13px;\n",
       "    color: #555;\n",
       "    margin-left: 4px;\n",
       "    line-height: 19px;\n",
       "  }\n",
       "</style>"
      ]
     },
     "metadata": {
      "application/vnd.databricks.v1+output": {
       "arguments": {},
       "data": "",
       "errorSummary": "",
       "errorTraceType": null,
       "metadata": {},
       "type": "ipynbError"
      }
     },
     "output_type": "display_data"
    }
   ],
   "source": [
    "titanic_sdf.withColumn('Age_category', F.when(F.col('Age') <= 5, 'Baby')\n",
    "                                      .when(F.col('Age') <= 12, 'Child')\n",
    "                                      .when(F.col('Age') <= 18, 'Teenage')\n",
    "                                      .when(F.col('Age') <= 25, 'Student')\n",
    "                                      .when(F.col('Age') <= 35, 'Young Adult')\n",
    "                                      .when(F.col('Age') <= 60, 'Adult')\n",
    "                                      .when(F.col('Age').isNull(), 'NA')\n",
    "                                      .otherwise('Elderly')).show()"
   ]
  },
  {
   "cell_type": "markdown",
   "metadata": {
    "application/vnd.databricks.v1+cell": {
     "inputWidgets": {},
     "nuid": "4936c211-a48b-47ab-bb5e-56b1edf807d5",
     "showTitle": false,
     "title": ""
    }
   },
   "source": [
    "### Databricks의 내장된 Graph 시각화 기능 사용하기. \n",
    "* 일반적으로 spark의 경우 spark DataFrame을 pandas Dataframe으로 변환 후 matplotlib 이나 seaborn을 적용하여 시각화\n",
    "* Spark에서 Pandas API와 매우 유사하게 DataFrame을 사용할 수 있도록 해주는 Koalas 패키지가 있음. Spark 3.2 부터는 Pandas API로 Koalas 패키지가 통합됨. \n",
    "* Databricks는 Graph 시각화 기능이 내장되어 있음. 이를 이용하여 손쉽게 시각화 가능. \n",
    "* 시각화 기능을 적용할 때에는 클라이언트 레벨에서 너무 많은 데이터를 가공하지 않도록 유의(매우 많은 시간과 리소스 소모)"
   ]
  },
  {
   "cell_type": "code",
   "execution_count": 0,
   "metadata": {
    "application/vnd.databricks.v1+cell": {
     "inputWidgets": {},
     "nuid": "f0da006c-6de9-4d4c-9cfe-dd7e942014b9",
     "showTitle": false,
     "title": ""
    }
   },
   "outputs": [
    {
     "data": {
      "text/html": [
       "<style scoped>\n",
       "  .ansiout {\n",
       "    display: block;\n",
       "    unicode-bidi: embed;\n",
       "    white-space: pre-wrap;\n",
       "    word-wrap: break-word;\n",
       "    word-break: break-all;\n",
       "    font-family: \"Source Code Pro\", \"Menlo\", monospace;;\n",
       "    font-size: 13px;\n",
       "    color: #555;\n",
       "    margin-left: 4px;\n",
       "    line-height: 19px;\n",
       "  }\n",
       "</style>"
      ]
     },
     "metadata": {
      "application/vnd.databricks.v1+output": {
       "arguments": {},
       "data": "",
       "errorSummary": "",
       "errorTraceType": null,
       "metadata": {},
       "type": "ipynbError"
      }
     },
     "output_type": "display_data"
    }
   ],
   "source": [
    "%sql\n",
    "--bar chart\n",
    "select pclass, count(*) from titanic_view group by pclass"
   ]
  },
  {
   "cell_type": "code",
   "execution_count": 0,
   "metadata": {
    "application/vnd.databricks.v1+cell": {
     "inputWidgets": {},
     "nuid": "2a19bc1a-2985-444f-90d3-04fb95a09304",
     "showTitle": false,
     "title": ""
    }
   },
   "outputs": [
    {
     "data": {
      "text/html": [
       "<style scoped>\n",
       "  .ansiout {\n",
       "    display: block;\n",
       "    unicode-bidi: embed;\n",
       "    white-space: pre-wrap;\n",
       "    word-wrap: break-word;\n",
       "    word-break: break-all;\n",
       "    font-family: \"Source Code Pro\", \"Menlo\", monospace;;\n",
       "    font-size: 13px;\n",
       "    color: #555;\n",
       "    margin-left: 4px;\n",
       "    line-height: 19px;\n",
       "  }\n",
       "</style>"
      ]
     },
     "metadata": {
      "application/vnd.databricks.v1+output": {
       "arguments": {},
       "data": "",
       "errorSummary": "",
       "errorTraceType": null,
       "metadata": {},
       "type": "ipynbError"
      }
     },
     "output_type": "display_data"
    }
   ],
   "source": [
    "## SQL뿐만 아니라 DataFrame도 display() 적용 시 Databricks 시각화 기능 적용 가능. \n",
    "display(titanic_sdf.groupBy('Pclass').count())"
   ]
  },
  {
   "cell_type": "code",
   "execution_count": 0,
   "metadata": {
    "application/vnd.databricks.v1+cell": {
     "inputWidgets": {},
     "nuid": "0a63f973-ac18-49df-99b2-88f4c41b7b5d",
     "showTitle": false,
     "title": ""
    }
   },
   "outputs": [
    {
     "data": {
      "text/html": [
       "<style scoped>\n",
       "  .ansiout {\n",
       "    display: block;\n",
       "    unicode-bidi: embed;\n",
       "    white-space: pre-wrap;\n",
       "    word-wrap: break-word;\n",
       "    word-break: break-all;\n",
       "    font-family: \"Source Code Pro\", \"Menlo\", monospace;;\n",
       "    font-size: 13px;\n",
       "    color: #555;\n",
       "    margin-left: 4px;\n",
       "    line-height: 19px;\n",
       "  }\n",
       "</style>"
      ]
     },
     "metadata": {
      "application/vnd.databricks.v1+output": {
       "arguments": {},
       "data": "",
       "errorSummary": "",
       "errorTraceType": null,
       "metadata": {},
       "type": "ipynbError"
      }
     },
     "output_type": "display_data"
    }
   ],
   "source": [
    "%sql\n",
    "-- histogram\n",
    "select survived from titanic_view"
   ]
  },
  {
   "cell_type": "code",
   "execution_count": 0,
   "metadata": {
    "application/vnd.databricks.v1+cell": {
     "inputWidgets": {},
     "nuid": "fe6acb69-3b0b-45d9-babc-d2c5f6c8d93f",
     "showTitle": false,
     "title": ""
    }
   },
   "outputs": [
    {
     "data": {
      "text/html": [
       "<style scoped>\n",
       "  .ansiout {\n",
       "    display: block;\n",
       "    unicode-bidi: embed;\n",
       "    white-space: pre-wrap;\n",
       "    word-wrap: break-word;\n",
       "    word-break: break-all;\n",
       "    font-family: \"Source Code Pro\", \"Menlo\", monospace;;\n",
       "    font-size: 13px;\n",
       "    color: #555;\n",
       "    margin-left: 4px;\n",
       "    line-height: 19px;\n",
       "  }\n",
       "</style>"
      ]
     },
     "metadata": {
      "application/vnd.databricks.v1+output": {
       "arguments": {},
       "data": "",
       "errorSummary": "",
       "errorTraceType": null,
       "metadata": {},
       "type": "ipynbError"
      }
     },
     "output_type": "display_data"
    }
   ],
   "source": [
    "%sql\n",
    "-- bar chart\n",
    "select Survived, count(*) from titanic_view group by Survived order by 2 desc"
   ]
  },
  {
   "cell_type": "code",
   "execution_count": 0,
   "metadata": {
    "application/vnd.databricks.v1+cell": {
     "inputWidgets": {},
     "nuid": "7d685429-4b57-4e3c-a2ff-655eda73df8c",
     "showTitle": false,
     "title": ""
    }
   },
   "outputs": [
    {
     "data": {
      "text/html": [
       "<style scoped>\n",
       "  .ansiout {\n",
       "    display: block;\n",
       "    unicode-bidi: embed;\n",
       "    white-space: pre-wrap;\n",
       "    word-wrap: break-word;\n",
       "    word-break: break-all;\n",
       "    font-family: \"Source Code Pro\", \"Menlo\", monospace;;\n",
       "    font-size: 13px;\n",
       "    color: #555;\n",
       "    margin-left: 4px;\n",
       "    line-height: 19px;\n",
       "  }\n",
       "</style>"
      ]
     },
     "metadata": {
      "application/vnd.databricks.v1+output": {
       "arguments": {},
       "data": "",
       "errorSummary": "",
       "errorTraceType": null,
       "metadata": {},
       "type": "ipynbError"
      }
     },
     "output_type": "display_data"
    }
   ],
   "source": [
    "%sql \n",
    "-- Sex 별로 생존/사망 건수를 비교하여 보여 주기. \n",
    "select Survived, Sex, count(*) from titanic_view group by survived, sex;"
   ]
  },
  {
   "cell_type": "code",
   "execution_count": 0,
   "metadata": {
    "application/vnd.databricks.v1+cell": {
     "inputWidgets": {},
     "nuid": "e4f65a3d-80f9-4bfe-979d-f1bfe6a9f821",
     "showTitle": false,
     "title": ""
    }
   },
   "outputs": [
    {
     "data": {
      "text/html": [
       "<style scoped>\n",
       "  .ansiout {\n",
       "    display: block;\n",
       "    unicode-bidi: embed;\n",
       "    white-space: pre-wrap;\n",
       "    word-wrap: break-word;\n",
       "    word-break: break-all;\n",
       "    font-family: \"Source Code Pro\", \"Menlo\", monospace;;\n",
       "    font-size: 13px;\n",
       "    color: #555;\n",
       "    margin-left: 4px;\n",
       "    line-height: 19px;\n",
       "  }\n",
       "</style>"
      ]
     },
     "metadata": {
      "application/vnd.databricks.v1+output": {
       "arguments": {},
       "data": "",
       "errorSummary": "",
       "errorTraceType": null,
       "metadata": {},
       "type": "ipynbError"
      }
     },
     "output_type": "display_data"
    }
   ],
   "source": [
    "%sql\n",
    "-- pclass와 sex 별로 생존/사망 건수를 비교하여 보여 주기 \n",
    "select Survived, Sex, Pclass, count(*) cnt from titanic_view group by survived, sex, pclass;"
   ]
  },
  {
   "cell_type": "code",
   "execution_count": 0,
   "metadata": {
    "application/vnd.databricks.v1+cell": {
     "inputWidgets": {},
     "nuid": "5de32b7a-43c7-4f15-97aa-8263336bf749",
     "showTitle": false,
     "title": ""
    }
   },
   "outputs": [
    {
     "data": {
      "text/html": [
       "<style scoped>\n",
       "  .ansiout {\n",
       "    display: block;\n",
       "    unicode-bidi: embed;\n",
       "    white-space: pre-wrap;\n",
       "    word-wrap: break-word;\n",
       "    word-break: break-all;\n",
       "    font-family: \"Source Code Pro\", \"Menlo\", monospace;;\n",
       "    font-size: 13px;\n",
       "    color: #555;\n",
       "    margin-left: 4px;\n",
       "    line-height: 19px;\n",
       "  }\n",
       "</style>"
      ]
     },
     "metadata": {
      "application/vnd.databricks.v1+output": {
       "arguments": {},
       "data": "",
       "errorSummary": "",
       "errorTraceType": null,
       "metadata": {},
       "type": "ipynbError"
      }
     },
     "output_type": "display_data"
    }
   ],
   "source": [
    "%sql\n",
    "-- scatter plot\n",
    "select fare, age from titanic_view"
   ]
  },
  {
   "cell_type": "code",
   "execution_count": 0,
   "metadata": {
    "application/vnd.databricks.v1+cell": {
     "inputWidgets": {},
     "nuid": "5ca234ee-16e8-4efb-9cf2-743ce703c1d5",
     "showTitle": false,
     "title": ""
    }
   },
   "outputs": [
    {
     "data": {
      "text/html": [
       "<style scoped>\n",
       "  .ansiout {\n",
       "    display: block;\n",
       "    unicode-bidi: embed;\n",
       "    white-space: pre-wrap;\n",
       "    word-wrap: break-word;\n",
       "    word-break: break-all;\n",
       "    font-family: \"Source Code Pro\", \"Menlo\", monospace;;\n",
       "    font-size: 13px;\n",
       "    color: #555;\n",
       "    margin-left: 4px;\n",
       "    line-height: 19px;\n",
       "  }\n",
       "</style>"
      ]
     },
     "metadata": {
      "application/vnd.databricks.v1+output": {
       "arguments": {},
       "data": "",
       "errorSummary": "",
       "errorTraceType": null,
       "metadata": {},
       "type": "ipynbError"
      }
     },
     "output_type": "display_data"
    }
   ],
   "source": [
    "%sql\n",
    "-- boxplot\n",
    "select age from titanic_view"
   ]
  },
  {
   "cell_type": "code",
   "execution_count": 0,
   "metadata": {
    "application/vnd.databricks.v1+cell": {
     "inputWidgets": {},
     "nuid": "50c3264f-35b1-45d5-b743-627b04982918",
     "showTitle": false,
     "title": ""
    }
   },
   "outputs": [
    {
     "data": {
      "text/html": [
       "<style scoped>\n",
       "  .ansiout {\n",
       "    display: block;\n",
       "    unicode-bidi: embed;\n",
       "    white-space: pre-wrap;\n",
       "    word-wrap: break-word;\n",
       "    word-break: break-all;\n",
       "    font-family: \"Source Code Pro\", \"Menlo\", monospace;;\n",
       "    font-size: 13px;\n",
       "    color: #555;\n",
       "    margin-left: 4px;\n",
       "    line-height: 19px;\n",
       "  }\n",
       "</style>"
      ]
     },
     "metadata": {
      "application/vnd.databricks.v1+output": {
       "arguments": {},
       "data": "",
       "errorSummary": "",
       "errorTraceType": null,
       "metadata": {},
       "type": "ipynbError"
      }
     },
     "output_type": "display_data"
    }
   ],
   "source": []
  }
 ],
 "metadata": {
  "application/vnd.databricks.v1+notebook": {
   "dashboards": [
    {
     "elements": [
      {
       "elementNUID": "f0da006c-6de9-4d4c-9cfe-dd7e942014b9",
       "elementType": "command",
       "guid": "5e7c0e98-c979-4f19-9eb9-f5cef83e7181",
       "options": null,
       "position": {
        "height": 6,
        "width": 12,
        "x": 0,
        "y": 0,
        "z": null
       }
      }
     ],
     "globalVars": {},
     "guid": "3a7cf3fd-f784-4f0a-b9b2-c86c63576688",
     "layoutOption": {
      "grid": true,
      "stack": true
     },
     "nuid": "851516b5-72cf-4f8c-8860-60dbd390a5fe",
     "origId": 63825981225268,
     "title": "Untitled",
     "version": "DashboardViewV1",
     "width": 1024
    },
    {
     "elements": [
      {
       "elementNUID": "f0da006c-6de9-4d4c-9cfe-dd7e942014b9",
       "elementType": "command",
       "guid": "4f80cee7-d3a5-4492-93e8-1199217e64e9",
       "options": null,
       "position": {
        "height": 6,
        "width": 12,
        "x": 0,
        "y": 0,
        "z": null
       }
      }
     ],
     "globalVars": {},
     "guid": "43aca801-a21a-4f7d-9dc3-daf9f21b73f9",
     "layoutOption": {
      "grid": true,
      "stack": true
     },
     "nuid": "729d180e-0c87-4f2e-a97f-f67e117a9938",
     "origId": 63825981225269,
     "title": "Untitled",
     "version": "DashboardViewV1",
     "width": 1024
    },
    {
     "elements": [
      {
       "elementNUID": "f0da006c-6de9-4d4c-9cfe-dd7e942014b9",
       "elementType": "command",
       "guid": "7a58cb24-19a1-4994-9fc2-88f70ffcc5d3",
       "options": null,
       "position": {
        "height": 6,
        "width": 12,
        "x": 0,
        "y": 0,
        "z": null
       }
      }
     ],
     "globalVars": {},
     "guid": "6f2c8736-6f92-411f-8232-2083b59a09ad",
     "layoutOption": {
      "grid": true,
      "stack": true
     },
     "nuid": "a2c065a5-dfa8-4ae3-8a8d-7648e03b14a3",
     "origId": 63825981225278,
     "title": "Untitled",
     "version": "DashboardViewV1",
     "width": 1024
    }
   ],
   "language": "python",
   "notebookMetadata": {
    "pythonIndentUnit": 4
   },
   "notebookName": "spark_sql_n_dataframe_exercise",
   "notebookOrigID": 2530590967125859,
   "widgets": {}
  },
  "kernelspec": {
   "display_name": "Python 3 (ipykernel)",
   "language": "python",
   "name": "python3"
  },
  "language_info": {
   "codemirror_mode": {
    "name": "ipython",
    "version": 3
   },
   "file_extension": ".py",
   "mimetype": "text/x-python",
   "name": "python",
   "nbconvert_exporter": "python",
   "pygments_lexer": "ipython3",
   "version": "3.10.7"
  }
 },
 "nbformat": 4,
 "nbformat_minor": 1
}
