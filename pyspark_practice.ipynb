{
 "cells": [
  {
   "cell_type": "code",
   "execution_count": 1,
   "id": "03915564",
   "metadata": {},
   "outputs": [],
   "source": [
    "import findspark"
   ]
  },
  {
   "cell_type": "code",
   "execution_count": 2,
   "id": "ba20100a",
   "metadata": {},
   "outputs": [],
   "source": [
    "findspark.init()"
   ]
  },
  {
   "cell_type": "code",
   "execution_count": 3,
   "id": "8e9ad130",
   "metadata": {},
   "outputs": [],
   "source": [
    "import pyspark"
   ]
  },
  {
   "cell_type": "code",
   "execution_count": 4,
   "id": "5a46dcd2",
   "metadata": {},
   "outputs": [
    {
     "name": "stdout",
     "output_type": "stream",
     "text": [
      "+-----+\n",
      "|hello|\n",
      "+-----+\n",
      "|spark|\n",
      "+-----+\n",
      "\n"
     ]
    }
   ],
   "source": [
    "from pyspark.sql import SparkSession\n",
    "spark = SparkSession.builder.getOrCreate()\n",
    "\n",
    "df = spark.sql('''select 'spark' as hello ''')\n",
    "df.show()"
   ]
  },
  {
   "cell_type": "code",
   "execution_count": null,
   "id": "dc464166",
   "metadata": {},
   "outputs": [],
   "source": []
  },
  {
   "cell_type": "code",
   "execution_count": null,
   "id": "9d82c57d",
   "metadata": {},
   "outputs": [],
   "source": []
  },
  {
   "cell_type": "code",
   "execution_count": 8,
   "id": "a4b837b4",
   "metadata": {},
   "outputs": [],
   "source": [
    "from pyspark.sql.functions import count, isnan, when, col,max, avg, sum, min,lit,substring,concat,concat_ws"
   ]
  },
  {
   "cell_type": "code",
   "execution_count": 5,
   "id": "cb85ccda",
   "metadata": {},
   "outputs": [
    {
     "data": {
      "text/html": [
       "\n",
       "            <div>\n",
       "                <p><b>SparkSession - in-memory</b></p>\n",
       "                \n",
       "        <div>\n",
       "            <p><b>SparkContext</b></p>\n",
       "\n",
       "            <p><a href=\"http://DESKTOP-SLBQNP5:4040\">Spark UI</a></p>\n",
       "\n",
       "            <dl>\n",
       "              <dt>Version</dt>\n",
       "                <dd><code>v3.3.0</code></dd>\n",
       "              <dt>Master</dt>\n",
       "                <dd><code>local[*]</code></dd>\n",
       "              <dt>AppName</dt>\n",
       "                <dd><code>pyspark-shell</code></dd>\n",
       "            </dl>\n",
       "        </div>\n",
       "        \n",
       "            </div>\n",
       "        "
      ],
      "text/plain": [
       "<pyspark.sql.session.SparkSession at 0x17b90de7f70>"
      ]
     },
     "execution_count": 5,
     "metadata": {},
     "output_type": "execute_result"
    }
   ],
   "source": [
    "spark"
   ]
  },
  {
   "cell_type": "code",
   "execution_count": 6,
   "id": "2911b4e8",
   "metadata": {},
   "outputs": [
    {
     "data": {
      "text/plain": [
       "'3.3.0'"
      ]
     },
     "execution_count": 6,
     "metadata": {},
     "output_type": "execute_result"
    }
   ],
   "source": [
    "spark.version"
   ]
  },
  {
   "cell_type": "code",
   "execution_count": 7,
   "id": "e1ca705f",
   "metadata": {},
   "outputs": [],
   "source": [
    "df=spark.read.csv('C:\\\\Users\\\\jihun\\\\Downloads\\\\stats (7).csv',header=True,inferSchema=True)"
   ]
  },
  {
   "cell_type": "code",
   "execution_count": 8,
   "id": "2ef35d9a",
   "metadata": {},
   "outputs": [
    {
     "data": {
      "text/plain": [
       "DataFrame[last_name: string,  first_name: string, player_id: int, year: int, p_k_percent: double, p_bb_percent: double, xwoba: double, z_swing_percent: double, z_swing_miss_percent: double, oz_swing_percent: double, oz_swing_miss_percent: double, oz_contact_percent: double, out_zone_percent: double, iz_contact_percent: double, in_zone_percent: double, edge_percent: double, whiff_percent: double, fastball_avg_speed: double, fastball_avg_spin: int, fastball_avg_break: double, breaking_avg_speed: double, breaking_avg_spin: int, breaking_avg_break: double, offspeed_avg_speed: double, offspeed_avg_spin: int, offspeed_avg_break: double, _c26: string]"
      ]
     },
     "execution_count": 8,
     "metadata": {},
     "output_type": "execute_result"
    }
   ],
   "source": [
    "df"
   ]
  },
  {
   "cell_type": "code",
   "execution_count": 9,
   "id": "f25ccf88",
   "metadata": {},
   "outputs": [
    {
     "name": "stdout",
     "output_type": "stream",
     "text": [
      "-RECORD 0---------------------------\n",
      " last_name             | Perez      \n",
      "  first_name           |  Oliver    \n",
      " player_id             | 424144     \n",
      " year                  | 2020       \n",
      " p_k_percent           | 19.4       \n",
      " p_bb_percent          | 8.3        \n",
      " xwoba                 | 0.274      \n",
      " z_swing_percent       | 62.3       \n",
      " z_swing_miss_percent  | 10.6       \n",
      " oz_swing_percent      | 23.8       \n",
      " oz_swing_miss_percent | 45.2       \n",
      " oz_contact_percent    | 54.8       \n",
      " out_zone_percent      | 46.3       \n",
      " iz_contact_percent    | 88.3       \n",
      " in_zone_percent       | 53.7       \n",
      " edge_percent          | 43.8       \n",
      " whiff_percent         | 19.2       \n",
      " fastball_avg_speed    | 89.9       \n",
      " fastball_avg_spin     | 2114       \n",
      " fastball_avg_break    | 19.4       \n",
      " breaking_avg_speed    | 76.1       \n",
      " breaking_avg_spin     | 2195       \n",
      " breaking_avg_break    | 10.3       \n",
      " offspeed_avg_speed    | null       \n",
      " offspeed_avg_spin     | null       \n",
      " offspeed_avg_break    | null       \n",
      " _c26                  | null       \n",
      "-RECORD 1---------------------------\n",
      " last_name             | Wainwright \n",
      "  first_name           |  Adam      \n",
      " player_id             | 425794     \n",
      " year                  | 2020       \n",
      " p_k_percent           | 20.6       \n",
      " p_bb_percent          | 5.7        \n",
      " xwoba                 | 0.324      \n",
      " z_swing_percent       | 62.9       \n",
      " z_swing_miss_percent  | 15.2       \n",
      " oz_swing_percent      | 30.2       \n",
      " oz_swing_miss_percent | 41.4       \n",
      " oz_contact_percent    | 58.6       \n",
      " out_zone_percent      | 51.6       \n",
      " iz_contact_percent    | 83.7       \n",
      " in_zone_percent       | 48.4       \n",
      " edge_percent          | 43.0       \n",
      " whiff_percent         | 24.1       \n",
      " fastball_avg_speed    | 87.6       \n",
      " fastball_avg_spin     | 2253       \n",
      " fastball_avg_break    | 13.5       \n",
      " breaking_avg_speed    | 73.5       \n",
      " breaking_avg_spin     | 2791       \n",
      " breaking_avg_break    | 22.0       \n",
      " offspeed_avg_speed    | 81.8       \n",
      " offspeed_avg_spin     | 1683       \n",
      " offspeed_avg_break    | 15.3       \n",
      " _c26                  | null       \n",
      "-RECORD 2---------------------------\n",
      " last_name             | Greinke    \n",
      "  first_name           |  Zack      \n",
      " player_id             | 425844     \n",
      " year                  | 2020       \n",
      " p_k_percent           | 24.5       \n",
      " p_bb_percent          | 3.3        \n",
      " xwoba                 | 0.299      \n",
      " z_swing_percent       | 59.7       \n",
      " z_swing_miss_percent  | 17.0       \n",
      " oz_swing_percent      | 26.3       \n",
      " oz_swing_miss_percent | 46.5       \n",
      " oz_contact_percent    | 53.5       \n",
      " out_zone_percent      | 56.4       \n",
      " iz_contact_percent    | 82.6       \n",
      " in_zone_percent       | 43.6       \n",
      " edge_percent          | 43.7       \n",
      " whiff_percent         | 27.7       \n",
      " fastball_avg_speed    | 88.1       \n",
      " fastball_avg_spin     | 2327       \n",
      " fastball_avg_break    | 17.6       \n",
      " breaking_avg_speed    | 77.7       \n",
      " breaking_avg_spin     | 2425       \n",
      " breaking_avg_break    | 12.2       \n",
      " offspeed_avg_speed    | 86.2       \n",
      " offspeed_avg_spin     | 1668       \n",
      " offspeed_avg_break    | 14.0       \n",
      " _c26                  | null       \n",
      "-RECORD 3---------------------------\n",
      " last_name             | Petit      \n",
      "  first_name           |  Yusmeiro  \n",
      " player_id             | 433589     \n",
      " year                  | 2020       \n",
      " p_k_percent           | 19.3       \n",
      " p_bb_percent          | 5.7        \n",
      " xwoba                 | 0.328      \n",
      " z_swing_percent       | 73.2       \n",
      " z_swing_miss_percent  | 22.6       \n",
      " oz_swing_percent      | 31.6       \n",
      " oz_swing_miss_percent | 34.0       \n",
      " oz_contact_percent    | 66.0       \n",
      " out_zone_percent      | 50.2       \n",
      " iz_contact_percent    | 76.5       \n",
      " in_zone_percent       | 49.8       \n",
      " edge_percent          | 41.0       \n",
      " whiff_percent         | 26.1       \n",
      " fastball_avg_speed    | 86.7       \n",
      " fastball_avg_spin     | 2134       \n",
      " fastball_avg_break    | 17.4       \n",
      " breaking_avg_speed    | 74.3       \n",
      " breaking_avg_spin     | 2000       \n",
      " breaking_avg_break    | 13.3       \n",
      " offspeed_avg_speed    | 81.3       \n",
      " offspeed_avg_spin     | 1753       \n",
      " offspeed_avg_break    | 18.3       \n",
      " _c26                  | null       \n",
      "-RECORD 4---------------------------\n",
      " last_name             | Sanchez    \n",
      "  first_name           |  Anibal    \n",
      " player_id             | 434671     \n",
      " year                  | 2020       \n",
      " p_k_percent           | 17.6       \n",
      " p_bb_percent          | 7.3        \n",
      " xwoba                 | 0.355      \n",
      " z_swing_percent       | 70.3       \n",
      " z_swing_miss_percent  | 16.8       \n",
      " oz_swing_percent      | 28.7       \n",
      " oz_swing_miss_percent | 36.8       \n",
      " oz_contact_percent    | 61.8       \n",
      " out_zone_percent      | 54.6       \n",
      " iz_contact_percent    | 81.6       \n",
      " in_zone_percent       | 45.4       \n",
      " edge_percent          | 43.5       \n",
      " whiff_percent         | 23.4       \n",
      " fastball_avg_speed    | 88.6       \n",
      " fastball_avg_spin     | 2152       \n",
      " fastball_avg_break    | 16.2       \n",
      " breaking_avg_speed    | 76.8       \n",
      " breaking_avg_spin     | 2044       \n",
      " breaking_avg_break    | 4.9        \n",
      " offspeed_avg_speed    | 79.6       \n",
      " offspeed_avg_spin     | 1492       \n",
      " offspeed_avg_break    | 15.0       \n",
      " _c26                  | null       \n",
      "only showing top 5 rows\n",
      "\n"
     ]
    }
   ],
   "source": [
    "df.show(n=5, truncate=False, vertical=True)"
   ]
  },
  {
   "cell_type": "code",
   "execution_count": 10,
   "id": "92de21b3",
   "metadata": {},
   "outputs": [
    {
     "data": {
      "text/plain": [
       "[('last_name', 'string'),\n",
       " (' first_name', 'string'),\n",
       " ('player_id', 'int'),\n",
       " ('year', 'int'),\n",
       " ('p_k_percent', 'double'),\n",
       " ('p_bb_percent', 'double'),\n",
       " ('xwoba', 'double'),\n",
       " ('z_swing_percent', 'double'),\n",
       " ('z_swing_miss_percent', 'double'),\n",
       " ('oz_swing_percent', 'double'),\n",
       " ('oz_swing_miss_percent', 'double'),\n",
       " ('oz_contact_percent', 'double'),\n",
       " ('out_zone_percent', 'double'),\n",
       " ('iz_contact_percent', 'double'),\n",
       " ('in_zone_percent', 'double'),\n",
       " ('edge_percent', 'double'),\n",
       " ('whiff_percent', 'double'),\n",
       " ('fastball_avg_speed', 'double'),\n",
       " ('fastball_avg_spin', 'int'),\n",
       " ('fastball_avg_break', 'double'),\n",
       " ('breaking_avg_speed', 'double'),\n",
       " ('breaking_avg_spin', 'int'),\n",
       " ('breaking_avg_break', 'double'),\n",
       " ('offspeed_avg_speed', 'double'),\n",
       " ('offspeed_avg_spin', 'int'),\n",
       " ('offspeed_avg_break', 'double'),\n",
       " ('_c26', 'string')]"
      ]
     },
     "execution_count": 10,
     "metadata": {},
     "output_type": "execute_result"
    }
   ],
   "source": [
    "df.dtypes"
   ]
  },
  {
   "cell_type": "code",
   "execution_count": 11,
   "id": "4ad0021b",
   "metadata": {},
   "outputs": [
    {
     "data": {
      "text/plain": [
       "DataFrame[last_name: bigint,  first_name: bigint, player_id: bigint, year: bigint, p_k_percent: bigint, p_bb_percent: bigint, xwoba: bigint, z_swing_percent: bigint, z_swing_miss_percent: bigint, oz_swing_percent: bigint, oz_swing_miss_percent: bigint, oz_contact_percent: bigint, out_zone_percent: bigint, iz_contact_percent: bigint, in_zone_percent: bigint, edge_percent: bigint, whiff_percent: bigint, fastball_avg_speed: bigint, fastball_avg_spin: bigint, fastball_avg_break: bigint, breaking_avg_speed: bigint, breaking_avg_spin: bigint, breaking_avg_break: bigint, offspeed_avg_speed: bigint, offspeed_avg_spin: bigint, offspeed_avg_break: bigint, _c26: bigint]"
      ]
     },
     "execution_count": 11,
     "metadata": {},
     "output_type": "execute_result"
    }
   ],
   "source": [
    "# SQL의 count case when과 유사한 로직으로 null 값을 포함한 컬럼 확인하기 \n",
    "from pyspark.sql.functions import count, isnan, when, col\n",
    "\n",
    "df.select([count(when(isnan(c) | col(c).isNull(), c)).alias(c) for c in df.columns])"
   ]
  },
  {
   "cell_type": "code",
   "execution_count": 12,
   "id": "68422dd3",
   "metadata": {},
   "outputs": [
    {
     "name": "stdout",
     "output_type": "stream",
     "text": [
      "+----------+-----+\n",
      "| last_name|xwoba|\n",
      "+----------+-----+\n",
      "|     Perez|0.274|\n",
      "|Wainwright|0.324|\n",
      "|   Greinke|0.299|\n",
      "|     Petit|0.328|\n",
      "|   Sanchez|0.355|\n",
      "|    Rondon|0.355|\n",
      "|  Kintzler|0.325|\n",
      "|    Jansen|0.266|\n",
      "|    Chavez|0.393|\n",
      "|  Detwiler|0.294|\n",
      "|      Hill|0.342|\n",
      "|    Guerra|0.321|\n",
      "|    Morton|0.305|\n",
      "|    Lester|0.363|\n",
      "|    Hughes|0.328|\n",
      "|   Kennedy|0.377|\n",
      "|    Miller| 0.22|\n",
      "|    Watson|0.303|\n",
      "|      Bard|0.306|\n",
      "|   LeBlanc|0.323|\n",
      "+----------+-----+\n",
      "only showing top 20 rows\n",
      "\n"
     ]
    }
   ],
   "source": [
    "df.select('last_name','xwoba').show()"
   ]
  },
  {
   "cell_type": "code",
   "execution_count": 13,
   "id": "54fbff19",
   "metadata": {},
   "outputs": [
    {
     "data": {
      "text/html": [
       "<div>\n",
       "<style scoped>\n",
       "    .dataframe tbody tr th:only-of-type {\n",
       "        vertical-align: middle;\n",
       "    }\n",
       "\n",
       "    .dataframe tbody tr th {\n",
       "        vertical-align: top;\n",
       "    }\n",
       "\n",
       "    .dataframe thead th {\n",
       "        text-align: right;\n",
       "    }\n",
       "</style>\n",
       "<table border=\"1\" class=\"dataframe\">\n",
       "  <thead>\n",
       "    <tr style=\"text-align: right;\">\n",
       "      <th></th>\n",
       "      <th>last_name</th>\n",
       "      <th>first_name</th>\n",
       "      <th>player_id</th>\n",
       "      <th>year</th>\n",
       "      <th>p_k_percent</th>\n",
       "      <th>p_bb_percent</th>\n",
       "      <th>xwoba</th>\n",
       "      <th>z_swing_percent</th>\n",
       "      <th>z_swing_miss_percent</th>\n",
       "      <th>oz_swing_percent</th>\n",
       "      <th>...</th>\n",
       "      <th>fastball_avg_speed</th>\n",
       "      <th>fastball_avg_spin</th>\n",
       "      <th>fastball_avg_break</th>\n",
       "      <th>breaking_avg_speed</th>\n",
       "      <th>breaking_avg_spin</th>\n",
       "      <th>breaking_avg_break</th>\n",
       "      <th>offspeed_avg_speed</th>\n",
       "      <th>offspeed_avg_spin</th>\n",
       "      <th>offspeed_avg_break</th>\n",
       "      <th>_c26</th>\n",
       "    </tr>\n",
       "  </thead>\n",
       "  <tbody>\n",
       "    <tr>\n",
       "      <th>0</th>\n",
       "      <td>Perez</td>\n",
       "      <td>Oliver</td>\n",
       "      <td>424144</td>\n",
       "      <td>2020</td>\n",
       "      <td>19.4</td>\n",
       "      <td>8.3</td>\n",
       "      <td>0.274</td>\n",
       "      <td>62.3</td>\n",
       "      <td>10.6</td>\n",
       "      <td>23.8</td>\n",
       "      <td>...</td>\n",
       "      <td>89.9</td>\n",
       "      <td>2114</td>\n",
       "      <td>19.4</td>\n",
       "      <td>76.1</td>\n",
       "      <td>2195.0</td>\n",
       "      <td>10.3</td>\n",
       "      <td>NaN</td>\n",
       "      <td>NaN</td>\n",
       "      <td>NaN</td>\n",
       "      <td>None</td>\n",
       "    </tr>\n",
       "    <tr>\n",
       "      <th>1</th>\n",
       "      <td>Wainwright</td>\n",
       "      <td>Adam</td>\n",
       "      <td>425794</td>\n",
       "      <td>2020</td>\n",
       "      <td>20.6</td>\n",
       "      <td>5.7</td>\n",
       "      <td>0.324</td>\n",
       "      <td>62.9</td>\n",
       "      <td>15.2</td>\n",
       "      <td>30.2</td>\n",
       "      <td>...</td>\n",
       "      <td>87.6</td>\n",
       "      <td>2253</td>\n",
       "      <td>13.5</td>\n",
       "      <td>73.5</td>\n",
       "      <td>2791.0</td>\n",
       "      <td>22.0</td>\n",
       "      <td>81.8</td>\n",
       "      <td>1683.0</td>\n",
       "      <td>15.3</td>\n",
       "      <td>None</td>\n",
       "    </tr>\n",
       "    <tr>\n",
       "      <th>2</th>\n",
       "      <td>Greinke</td>\n",
       "      <td>Zack</td>\n",
       "      <td>425844</td>\n",
       "      <td>2020</td>\n",
       "      <td>24.5</td>\n",
       "      <td>3.3</td>\n",
       "      <td>0.299</td>\n",
       "      <td>59.7</td>\n",
       "      <td>17.0</td>\n",
       "      <td>26.3</td>\n",
       "      <td>...</td>\n",
       "      <td>88.1</td>\n",
       "      <td>2327</td>\n",
       "      <td>17.6</td>\n",
       "      <td>77.7</td>\n",
       "      <td>2425.0</td>\n",
       "      <td>12.2</td>\n",
       "      <td>86.2</td>\n",
       "      <td>1668.0</td>\n",
       "      <td>14.0</td>\n",
       "      <td>None</td>\n",
       "    </tr>\n",
       "    <tr>\n",
       "      <th>3</th>\n",
       "      <td>Petit</td>\n",
       "      <td>Yusmeiro</td>\n",
       "      <td>433589</td>\n",
       "      <td>2020</td>\n",
       "      <td>19.3</td>\n",
       "      <td>5.7</td>\n",
       "      <td>0.328</td>\n",
       "      <td>73.2</td>\n",
       "      <td>22.6</td>\n",
       "      <td>31.6</td>\n",
       "      <td>...</td>\n",
       "      <td>86.7</td>\n",
       "      <td>2134</td>\n",
       "      <td>17.4</td>\n",
       "      <td>74.3</td>\n",
       "      <td>2000.0</td>\n",
       "      <td>13.3</td>\n",
       "      <td>81.3</td>\n",
       "      <td>1753.0</td>\n",
       "      <td>18.3</td>\n",
       "      <td>None</td>\n",
       "    </tr>\n",
       "    <tr>\n",
       "      <th>4</th>\n",
       "      <td>Sanchez</td>\n",
       "      <td>Anibal</td>\n",
       "      <td>434671</td>\n",
       "      <td>2020</td>\n",
       "      <td>17.6</td>\n",
       "      <td>7.3</td>\n",
       "      <td>0.355</td>\n",
       "      <td>70.3</td>\n",
       "      <td>16.8</td>\n",
       "      <td>28.7</td>\n",
       "      <td>...</td>\n",
       "      <td>88.6</td>\n",
       "      <td>2152</td>\n",
       "      <td>16.2</td>\n",
       "      <td>76.8</td>\n",
       "      <td>2044.0</td>\n",
       "      <td>4.9</td>\n",
       "      <td>79.6</td>\n",
       "      <td>1492.0</td>\n",
       "      <td>15.0</td>\n",
       "      <td>None</td>\n",
       "    </tr>\n",
       "    <tr>\n",
       "      <th>...</th>\n",
       "      <td>...</td>\n",
       "      <td>...</td>\n",
       "      <td>...</td>\n",
       "      <td>...</td>\n",
       "      <td>...</td>\n",
       "      <td>...</td>\n",
       "      <td>...</td>\n",
       "      <td>...</td>\n",
       "      <td>...</td>\n",
       "      <td>...</td>\n",
       "      <td>...</td>\n",
       "      <td>...</td>\n",
       "      <td>...</td>\n",
       "      <td>...</td>\n",
       "      <td>...</td>\n",
       "      <td>...</td>\n",
       "      <td>...</td>\n",
       "      <td>...</td>\n",
       "      <td>...</td>\n",
       "      <td>...</td>\n",
       "      <td>...</td>\n",
       "    </tr>\n",
       "    <tr>\n",
       "      <th>4193</th>\n",
       "      <td>Meisinger</td>\n",
       "      <td>Ryan</td>\n",
       "      <td>664682</td>\n",
       "      <td>2018</td>\n",
       "      <td>24.1</td>\n",
       "      <td>11.5</td>\n",
       "      <td>0.414</td>\n",
       "      <td>66.0</td>\n",
       "      <td>15.2</td>\n",
       "      <td>27.2</td>\n",
       "      <td>...</td>\n",
       "      <td>91.0</td>\n",
       "      <td>2129</td>\n",
       "      <td>17.0</td>\n",
       "      <td>82.2</td>\n",
       "      <td>2432.0</td>\n",
       "      <td>5.3</td>\n",
       "      <td>82.8</td>\n",
       "      <td>1510.0</td>\n",
       "      <td>15.9</td>\n",
       "      <td>None</td>\n",
       "    </tr>\n",
       "    <tr>\n",
       "      <th>4194</th>\n",
       "      <td>Burnes</td>\n",
       "      <td>Corbin</td>\n",
       "      <td>669203</td>\n",
       "      <td>2018</td>\n",
       "      <td>23.0</td>\n",
       "      <td>7.2</td>\n",
       "      <td>0.303</td>\n",
       "      <td>68.3</td>\n",
       "      <td>22.9</td>\n",
       "      <td>28.4</td>\n",
       "      <td>...</td>\n",
       "      <td>95.2</td>\n",
       "      <td>2560</td>\n",
       "      <td>13.1</td>\n",
       "      <td>85.5</td>\n",
       "      <td>2700.0</td>\n",
       "      <td>7.7</td>\n",
       "      <td>NaN</td>\n",
       "      <td>NaN</td>\n",
       "      <td>NaN</td>\n",
       "      <td>None</td>\n",
       "    </tr>\n",
       "    <tr>\n",
       "      <th>4195</th>\n",
       "      <td>Bieber</td>\n",
       "      <td>Shane</td>\n",
       "      <td>669456</td>\n",
       "      <td>2018</td>\n",
       "      <td>24.3</td>\n",
       "      <td>4.7</td>\n",
       "      <td>0.315</td>\n",
       "      <td>62.4</td>\n",
       "      <td>17.6</td>\n",
       "      <td>29.1</td>\n",
       "      <td>...</td>\n",
       "      <td>93.0</td>\n",
       "      <td>2268</td>\n",
       "      <td>19.1</td>\n",
       "      <td>82.2</td>\n",
       "      <td>2166.0</td>\n",
       "      <td>8.3</td>\n",
       "      <td>87.8</td>\n",
       "      <td>1623.0</td>\n",
       "      <td>16.4</td>\n",
       "      <td>None</td>\n",
       "    </tr>\n",
       "    <tr>\n",
       "      <th>4196</th>\n",
       "      <td>Richards</td>\n",
       "      <td>Trevor</td>\n",
       "      <td>670950</td>\n",
       "      <td>2018</td>\n",
       "      <td>23.8</td>\n",
       "      <td>9.9</td>\n",
       "      <td>0.319</td>\n",
       "      <td>67.3</td>\n",
       "      <td>18.2</td>\n",
       "      <td>28.4</td>\n",
       "      <td>...</td>\n",
       "      <td>90.7</td>\n",
       "      <td>2087</td>\n",
       "      <td>19.1</td>\n",
       "      <td>80.5</td>\n",
       "      <td>2038.0</td>\n",
       "      <td>4.6</td>\n",
       "      <td>82.9</td>\n",
       "      <td>2243.0</td>\n",
       "      <td>16.2</td>\n",
       "      <td>None</td>\n",
       "    </tr>\n",
       "    <tr>\n",
       "      <th>4197</th>\n",
       "      <td>Hirano</td>\n",
       "      <td>Yoshihisa</td>\n",
       "      <td>673633</td>\n",
       "      <td>2018</td>\n",
       "      <td>22.5</td>\n",
       "      <td>8.8</td>\n",
       "      <td>0.313</td>\n",
       "      <td>70.0</td>\n",
       "      <td>19.5</td>\n",
       "      <td>30.0</td>\n",
       "      <td>...</td>\n",
       "      <td>91.4</td>\n",
       "      <td>2214</td>\n",
       "      <td>19.5</td>\n",
       "      <td>82.5</td>\n",
       "      <td>881.0</td>\n",
       "      <td>6.3</td>\n",
       "      <td>83.3</td>\n",
       "      <td>1172.0</td>\n",
       "      <td>8.5</td>\n",
       "      <td>None</td>\n",
       "    </tr>\n",
       "  </tbody>\n",
       "</table>\n",
       "<p>4198 rows × 27 columns</p>\n",
       "</div>"
      ],
      "text/plain": [
       "       last_name  first_name  player_id  year  p_k_percent  p_bb_percent  \\\n",
       "0          Perez      Oliver     424144  2020         19.4           8.3   \n",
       "1     Wainwright        Adam     425794  2020         20.6           5.7   \n",
       "2        Greinke        Zack     425844  2020         24.5           3.3   \n",
       "3          Petit    Yusmeiro     433589  2020         19.3           5.7   \n",
       "4        Sanchez      Anibal     434671  2020         17.6           7.3   \n",
       "...          ...         ...        ...   ...          ...           ...   \n",
       "4193   Meisinger        Ryan     664682  2018         24.1          11.5   \n",
       "4194      Burnes      Corbin     669203  2018         23.0           7.2   \n",
       "4195      Bieber       Shane     669456  2018         24.3           4.7   \n",
       "4196    Richards      Trevor     670950  2018         23.8           9.9   \n",
       "4197      Hirano   Yoshihisa     673633  2018         22.5           8.8   \n",
       "\n",
       "      xwoba  z_swing_percent  z_swing_miss_percent  oz_swing_percent  ...  \\\n",
       "0     0.274             62.3                  10.6              23.8  ...   \n",
       "1     0.324             62.9                  15.2              30.2  ...   \n",
       "2     0.299             59.7                  17.0              26.3  ...   \n",
       "3     0.328             73.2                  22.6              31.6  ...   \n",
       "4     0.355             70.3                  16.8              28.7  ...   \n",
       "...     ...              ...                   ...               ...  ...   \n",
       "4193  0.414             66.0                  15.2              27.2  ...   \n",
       "4194  0.303             68.3                  22.9              28.4  ...   \n",
       "4195  0.315             62.4                  17.6              29.1  ...   \n",
       "4196  0.319             67.3                  18.2              28.4  ...   \n",
       "4197  0.313             70.0                  19.5              30.0  ...   \n",
       "\n",
       "      fastball_avg_speed  fastball_avg_spin  fastball_avg_break  \\\n",
       "0                   89.9               2114                19.4   \n",
       "1                   87.6               2253                13.5   \n",
       "2                   88.1               2327                17.6   \n",
       "3                   86.7               2134                17.4   \n",
       "4                   88.6               2152                16.2   \n",
       "...                  ...                ...                 ...   \n",
       "4193                91.0               2129                17.0   \n",
       "4194                95.2               2560                13.1   \n",
       "4195                93.0               2268                19.1   \n",
       "4196                90.7               2087                19.1   \n",
       "4197                91.4               2214                19.5   \n",
       "\n",
       "      breaking_avg_speed  breaking_avg_spin  breaking_avg_break  \\\n",
       "0                   76.1             2195.0                10.3   \n",
       "1                   73.5             2791.0                22.0   \n",
       "2                   77.7             2425.0                12.2   \n",
       "3                   74.3             2000.0                13.3   \n",
       "4                   76.8             2044.0                 4.9   \n",
       "...                  ...                ...                 ...   \n",
       "4193                82.2             2432.0                 5.3   \n",
       "4194                85.5             2700.0                 7.7   \n",
       "4195                82.2             2166.0                 8.3   \n",
       "4196                80.5             2038.0                 4.6   \n",
       "4197                82.5              881.0                 6.3   \n",
       "\n",
       "      offspeed_avg_speed  offspeed_avg_spin  offspeed_avg_break  _c26  \n",
       "0                    NaN                NaN                 NaN  None  \n",
       "1                   81.8             1683.0                15.3  None  \n",
       "2                   86.2             1668.0                14.0  None  \n",
       "3                   81.3             1753.0                18.3  None  \n",
       "4                   79.6             1492.0                15.0  None  \n",
       "...                  ...                ...                 ...   ...  \n",
       "4193                82.8             1510.0                15.9  None  \n",
       "4194                 NaN                NaN                 NaN  None  \n",
       "4195                87.8             1623.0                16.4  None  \n",
       "4196                82.9             2243.0                16.2  None  \n",
       "4197                83.3             1172.0                 8.5  None  \n",
       "\n",
       "[4198 rows x 27 columns]"
      ]
     },
     "execution_count": 13,
     "metadata": {},
     "output_type": "execute_result"
    }
   ],
   "source": [
    "df.select('*').toPandas()"
   ]
  },
  {
   "cell_type": "code",
   "execution_count": 14,
   "id": "29c911eb",
   "metadata": {},
   "outputs": [
    {
     "name": "stdout",
     "output_type": "stream",
     "text": [
      "+-----+\n",
      "|xwoba|\n",
      "+-----+\n",
      "|0.324|\n",
      "|0.328|\n",
      "|0.355|\n",
      "|0.355|\n",
      "|0.325|\n",
      "|0.393|\n",
      "|0.342|\n",
      "|0.321|\n",
      "|0.305|\n",
      "|0.363|\n",
      "|0.328|\n",
      "|0.377|\n",
      "|0.303|\n",
      "|0.306|\n",
      "|0.323|\n",
      "|0.321|\n",
      "|0.359|\n",
      "|0.336|\n",
      "|0.329|\n",
      "| 0.31|\n",
      "+-----+\n",
      "only showing top 20 rows\n",
      "\n"
     ]
    }
   ],
   "source": [
    "df.select('xwoba').where(df['xwoba'] > 0.3).show()"
   ]
  },
  {
   "cell_type": "code",
   "execution_count": 12,
   "id": "fbfd2056",
   "metadata": {},
   "outputs": [],
   "source": [
    "from pyspark.sql.functions import col"
   ]
  },
  {
   "cell_type": "code",
   "execution_count": 13,
   "id": "9a9a9410",
   "metadata": {},
   "outputs": [
    {
     "data": {
      "text/plain": [
       "DataFrame[xwoba: double]"
      ]
     },
     "execution_count": 13,
     "metadata": {},
     "output_type": "execute_result"
    }
   ],
   "source": [
    "df.select(col('xwoba'))"
   ]
  },
  {
   "cell_type": "code",
   "execution_count": 23,
   "id": "6bcfd871",
   "metadata": {},
   "outputs": [
    {
     "name": "stdout",
     "output_type": "stream",
     "text": [
      "+----------+\n",
      "| last_name|\n",
      "+----------+\n",
      "|     Perez|\n",
      "|Wainwright|\n",
      "|   Greinke|\n",
      "|     Petit|\n",
      "|   Sanchez|\n",
      "|    Rondon|\n",
      "|  Kintzler|\n",
      "|    Jansen|\n",
      "|    Chavez|\n",
      "|  Detwiler|\n",
      "|      Hill|\n",
      "|    Guerra|\n",
      "|    Morton|\n",
      "|    Lester|\n",
      "|    Hughes|\n",
      "|   Kennedy|\n",
      "|    Miller|\n",
      "|    Watson|\n",
      "|      Bard|\n",
      "|   LeBlanc|\n",
      "+----------+\n",
      "only showing top 20 rows\n",
      "\n"
     ]
    }
   ],
   "source": [
    "df.select('last_name').show()"
   ]
  },
  {
   "cell_type": "code",
   "execution_count": 25,
   "id": "57baa3ae",
   "metadata": {},
   "outputs": [
    {
     "name": "stdout",
     "output_type": "stream",
     "text": [
      "+---------+-----+\n",
      "|last_name|xwoba|\n",
      "+---------+-----+\n",
      "|     Hill|0.342|\n",
      "|   Hughes|0.328|\n",
      "|     Happ|0.279|\n",
      "|   Hunter|0.354|\n",
      "|   Harris|0.348|\n",
      "|  Holland|0.383|\n",
      "|   Harvey| 0.46|\n",
      "|  Holland| 0.26|\n",
      "| Hendriks| 0.24|\n",
      "|     Hahn|0.227|\n",
      "|     Hand|0.247|\n",
      "|Hendricks|0.274|\n",
      "|   Hudson|0.318|\n",
      "|     Hale|0.373|\n",
      "|   Heaney|0.322|\n",
      "|  Hembree|0.427|\n",
      "|   Houser|0.333|\n",
      "|     Hart|0.492|\n",
      "|   Harper|0.334|\n",
      "|   Howard|0.301|\n",
      "+---------+-----+\n",
      "only showing top 20 rows\n",
      "\n"
     ]
    }
   ],
   "source": [
    "df.select('last_name','xwoba').where(\"last_name like 'H%'\").show()"
   ]
  },
  {
   "cell_type": "code",
   "execution_count": 35,
   "id": "e053b281",
   "metadata": {},
   "outputs": [
    {
     "name": "stdout",
     "output_type": "stream",
     "text": [
      "+---------+-----------+----+-----+\n",
      "|last_name| first_name|year|xwoba|\n",
      "+---------+-----------+----+-----+\n",
      "|     Abad|   Fernando|2021|0.327|\n",
      "|     Abad|   Fernando|2017|0.284|\n",
      "|     Abad|   Fernando|2016|0.308|\n",
      "|   Abbott|       Cory|2022|0.325|\n",
      "|   Abbott|       Cory|2021|0.391|\n",
      "|    Abreu|      Bryan|2021|0.333|\n",
      "|    Abreu|      Bryan|2022|0.267|\n",
      "|    Abreu|     Albert|2021|0.338|\n",
      "|    Abreu|     Albert|2022|0.324|\n",
      "|  Acevedo|    Domingo|2022| 0.29|\n",
      "|   Achter|       A.J.|2016|0.372|\n",
      "|     Adam|      Jason|2021| 0.29|\n",
      "|     Adam|      Jason|2019| 0.27|\n",
      "|     Adam|      Jason|2020|0.259|\n",
      "|     Adam|      Jason|2022|0.227|\n",
      "|     Adam|      Jason|2018|0.351|\n",
      "|    Adams|     Chance|2019|0.376|\n",
      "|    Adams|     Austin|2019|  0.4|\n",
      "|    Adams|     Austin|2016| 0.37|\n",
      "|    Adams|     Austin|2019|0.269|\n",
      "+---------+-----------+----+-----+\n",
      "only showing top 20 rows\n",
      "\n"
     ]
    }
   ],
   "source": [
    "df.orderBy(col('last_name').asc(),col(' first_name').desc()).select('last_name',' first_name','year','xwoba').show()"
   ]
  },
  {
   "cell_type": "code",
   "execution_count": null,
   "id": "e0096150",
   "metadata": {},
   "outputs": [],
   "source": []
  },
  {
   "cell_type": "code",
   "execution_count": 16,
   "id": "6bb6c91c",
   "metadata": {},
   "outputs": [],
   "source": [
    "from pyspark.sql.functions import max, avg, sum, min"
   ]
  },
  {
   "cell_type": "code",
   "execution_count": 22,
   "id": "56b5a77a",
   "metadata": {},
   "outputs": [
    {
     "name": "stdout",
     "output_type": "stream",
     "text": [
      "+----+---------+-------------+------------+-----------------+\n",
      "|year|max_xwoba|max_k_percent|max_fastball|     avg_fastball|\n",
      "+----+---------+-------------+------------+-----------------+\n",
      "|2018|    0.491|         46.7|       100.5|92.50211382113824|\n",
      "|2022|     0.44|         50.2|       100.8| 93.3830455259026|\n",
      "|2019|    0.551|         47.8|       101.1|92.79556259904912|\n",
      "|2016|    0.502|         44.7|       101.1|92.55271186440686|\n",
      "|2021|    0.493|         45.5|       100.2| 93.0262121212121|\n",
      "+----+---------+-------------+------------+-----------------+\n",
      "\n"
     ]
    }
   ],
   "source": [
    "df.groupBy('year').agg(max('xwoba').alias('max_xwoba'),max('p_k_percent').alias('max_k_percent'),max('fastball_avg_speed').alias('max_fastball'),\n",
    "                      avg('fastball_avg_speed').alias('avg_fastball')).where(col('max_fastball')>100).show()"
   ]
  },
  {
   "cell_type": "code",
   "execution_count": 12,
   "id": "b7ec8983",
   "metadata": {},
   "outputs": [],
   "source": [
    "from pyspark.sql.functions import lit,col,substring"
   ]
  },
  {
   "cell_type": "code",
   "execution_count": 17,
   "id": "6c2741d8",
   "metadata": {},
   "outputs": [
    {
     "name": "stdout",
     "output_type": "stream",
     "text": [
      "+----+---------+-----+---+\n",
      "|year|last_name|xwoba|lit|\n",
      "+----+---------+-----+---+\n",
      "|2020|        P|0.274| 10|\n",
      "|2020|        W|0.324| 10|\n",
      "|2020|        G|0.299| 10|\n",
      "|2020|        P|0.328| 10|\n",
      "|2020|        S|0.355| 10|\n",
      "|2020|        R|0.355| 10|\n",
      "|2020|        K|0.325| 10|\n",
      "|2020|        J|0.266| 10|\n",
      "|2020|        C|0.393| 10|\n",
      "|2020|        D|0.294| 10|\n",
      "|2020|        H|0.342| 10|\n",
      "|2020|        G|0.321| 10|\n",
      "|2020|        M|0.305| 10|\n",
      "|2020|        L|0.363| 10|\n",
      "|2020|        H|0.328| 10|\n",
      "|2020|        K|0.377| 10|\n",
      "|2020|        M| 0.22| 10|\n",
      "|2020|        W|0.303| 10|\n",
      "|2020|        B|0.306| 10|\n",
      "|2020|        L|0.323| 10|\n",
      "+----+---------+-----+---+\n",
      "only showing top 20 rows\n",
      "\n"
     ]
    }
   ],
   "source": [
    "df.select('year','last_name','xwoba').withColumn('lit',lit(10)).withColumn('last_name',substring('last_name',0,1)).show()"
   ]
  },
  {
   "cell_type": "code",
   "execution_count": 24,
   "id": "17c7082c",
   "metadata": {},
   "outputs": [],
   "source": [
    "from pyspark.sql.functions import concat,concat_ws"
   ]
  },
  {
   "cell_type": "code",
   "execution_count": 27,
   "id": "ab2cfeaf",
   "metadata": {},
   "outputs": [
    {
     "name": "stdout",
     "output_type": "stream",
     "text": [
      "+----+-----------------+\n",
      "|year|        full name|\n",
      "+----+-----------------+\n",
      "|2020|    Perez  Oliver|\n",
      "|2020| Wainwright  Adam|\n",
      "|2020|    Greinke  Zack|\n",
      "|2020|  Petit  Yusmeiro|\n",
      "|2020|  Sanchez  Anibal|\n",
      "|2020|   Rondon  Hector|\n",
      "|2020|Kintzler  Brandon|\n",
      "|2020|   Jansen  Kenley|\n",
      "|2020|    Chavez  Jesse|\n",
      "|2020|   Detwiler  Ross|\n",
      "|2020|       Hill  Rich|\n",
      "|2020|   Guerra  Junior|\n",
      "|2020|  Morton  Charlie|\n",
      "|2020|      Lester  Jon|\n",
      "|2020|    Hughes  Jared|\n",
      "|2020|     Kennedy  Ian|\n",
      "|2020|   Miller  Andrew|\n",
      "|2020|     Watson  Tony|\n",
      "|2020|     Bard  Daniel|\n",
      "|2020|    LeBlanc  Wade|\n",
      "+----+-----------------+\n",
      "only showing top 20 rows\n",
      "\n"
     ]
    }
   ],
   "source": [
    "df.select('year',concat_ws(' ',col('last_name'), col(' first_name')).alias('name')).withColumnRenamed('name','full name').show()"
   ]
  },
  {
   "cell_type": "code",
   "execution_count": 37,
   "id": "2500fc91",
   "metadata": {},
   "outputs": [],
   "source": [
    "numerical = ['xwoba','fastball_avg_speed','fastball_avg_break']"
   ]
  },
  {
   "cell_type": "code",
   "execution_count": 38,
   "id": "9900459a",
   "metadata": {},
   "outputs": [],
   "source": [
    "bounds = {\n",
    "    c: dict(\n",
    "        zip([\"q1\", \"q3\"], df.approxQuantile(c, [0.25, 0.75], 0))\n",
    "    )\n",
    "    for c in numerical\n",
    "}"
   ]
  },
  {
   "cell_type": "code",
   "execution_count": 39,
   "id": "17bd1bf0",
   "metadata": {},
   "outputs": [
    {
     "data": {
      "text/plain": [
       "{'xwoba': {'q1': 0.291, 'q3': 0.345},\n",
       " 'fastball_avg_speed': {'q1': 91.2, 'q3': 94.6},\n",
       " 'fastball_avg_break': {'q1': 16.0, 'q3': 19.2}}"
      ]
     },
     "execution_count": 39,
     "metadata": {},
     "output_type": "execute_result"
    }
   ],
   "source": [
    "bounds"
   ]
  },
  {
   "cell_type": "code",
   "execution_count": 40,
   "id": "401db10e",
   "metadata": {},
   "outputs": [
    {
     "name": "stdout",
     "output_type": "stream",
     "text": [
      "{'xwoba': {'q1': 0.291, 'q3': 0.345, 'lower': 0.21, 'upper': 0.42599999999999993}, 'fastball_avg_speed': {'q1': 91.2, 'q3': 94.6, 'lower': 86.10000000000002, 'upper': 99.69999999999999}, 'fastball_avg_break': {'q1': 16.0, 'q3': 19.2, 'lower': 11.200000000000001, 'upper': 24.0}}\n"
     ]
    }
   ],
   "source": [
    "for c in bounds:\n",
    "    iqr = bounds[c]['q3'] - bounds[c]['q1']\n",
    "    bounds[c]['lower'] = bounds[c]['q1'] - (iqr * 1.5)\n",
    "    bounds[c]['upper'] = bounds[c]['q3'] + (iqr * 1.5)\n",
    "print(bounds)\n",
    "#{'age': {'lower': 3.0, 'q1': 33.0, 'q3': 53.0, 'upper': 83.0},\n",
    "# 'balance': {'lower': -570.0, 'q1': 6.0, 'q3': 390.0, 'upper': 966.0},\n",
    "# 'duration': {'lower': -143.0, 'q1': 76.0, 'q3': 222.0, 'upper': 441.0}}"
   ]
  },
  {
   "cell_type": "code",
   "execution_count": 43,
   "id": "94cdf504",
   "metadata": {},
   "outputs": [
    {
     "name": "stdout",
     "output_type": "stream",
     "text": [
      "+----------+-----+------------------+------------------+---------+----------------------+----------------------+\n",
      "| last_name|xwoba|fastball_avg_speed|fastball_avg_break|xwoba_out|fastball_avg_speed_out|fastball_avg_break_out|\n",
      "+----------+-----+------------------+------------------+---------+----------------------+----------------------+\n",
      "|     Perez|0.274|              89.9|              19.4|        0|                     0|                     0|\n",
      "|Wainwright|0.324|              87.6|              13.5|        0|                     0|                     0|\n",
      "|   Greinke|0.299|              88.1|              17.6|        0|                     0|                     0|\n",
      "|     Petit|0.328|              86.7|              17.4|        0|                     0|                     0|\n",
      "|   Sanchez|0.355|              88.6|              16.2|        0|                     0|                     0|\n",
      "|    Rondon|0.355|              95.6|              17.7|        0|                     0|                     0|\n",
      "|  Kintzler|0.325|              91.3|              18.1|        0|                     0|                     0|\n",
      "|    Jansen|0.266|              91.3|              16.9|        0|                     0|                     0|\n",
      "|    Chavez|0.393|              90.2|              16.7|        0|                     0|                     0|\n",
      "|  Detwiler|0.294|              91.1|              18.7|        0|                     0|                     0|\n",
      "|      Hill|0.342|              87.3|              20.2|        0|                     0|                     0|\n",
      "|    Guerra|0.321|              94.0|              19.8|        0|                     0|                     0|\n",
      "|    Morton|0.305|              92.1|              16.7|        0|                     0|                     0|\n",
      "|    Lester|0.363|              88.4|              14.2|        0|                     0|                     0|\n",
      "|    Hughes|0.328|              91.4|              15.4|        0|                     0|                     0|\n",
      "|   Kennedy|0.377|              92.1|              15.1|        0|                     0|                     0|\n",
      "|    Miller| 0.22|              90.2|              15.6|        0|                     0|                     0|\n",
      "|    Watson|0.303|              89.8|              18.2|        0|                     0|                     0|\n",
      "|      Bard|0.306|              97.0|              14.8|        0|                     0|                     0|\n",
      "|   LeBlanc|0.323|              85.1|              13.7|        0|                     1|                     0|\n",
      "+----------+-----+------------------+------------------+---------+----------------------+----------------------+\n",
      "only showing top 20 rows\n",
      "\n"
     ]
    }
   ],
   "source": [
    "import pyspark.sql.functions as f\n",
    "df.select(\n",
    "    \"last_name\",\"xwoba\",\"fastball_avg_speed\",\"fastball_avg_break\",\n",
    "    *[\n",
    "        f.when(\n",
    "            f.col(c).between(bounds[c]['lower'], bounds[c]['upper']),\n",
    "            0\n",
    "        ).otherwise(1).alias(c+\"_out\") \n",
    "        for c in numerical\n",
    "    ]\n",
    ").show()"
   ]
  },
  {
   "cell_type": "code",
   "execution_count": null,
   "id": "fcbd13d6",
   "metadata": {},
   "outputs": [],
   "source": []
  },
  {
   "cell_type": "code",
   "execution_count": null,
   "id": "e9ce60dc",
   "metadata": {},
   "outputs": [],
   "source": []
  },
  {
   "cell_type": "code",
   "execution_count": 9,
   "id": "ad06cb8e",
   "metadata": {},
   "outputs": [],
   "source": [
    "from pyspark.sql.functions import isnull"
   ]
  },
  {
   "cell_type": "code",
   "execution_count": 12,
   "id": "04e509be",
   "metadata": {},
   "outputs": [
    {
     "name": "stdout",
     "output_type": "stream",
     "text": [
      "+-------------------+---------------------+-------------------+--------------+---------------------+----------------------+---------------+-------------------------+------------------------------+--------------------------+-------------------------------+----------------------------+--------------------------+----------------------------+-------------------------+----------------------+-----------------------+----------------------------+---------------------------+----------------------------+----------------------------+---------------------------+----------------------------+----------------------------+---------------------------+----------------------------+--------------+\n",
      "|(last_name IS NULL)|( first_name IS NULL)|(player_id IS NULL)|(year IS NULL)|(p_k_percent IS NULL)|(p_bb_percent IS NULL)|(xwoba IS NULL)|(z_swing_percent IS NULL)|(z_swing_miss_percent IS NULL)|(oz_swing_percent IS NULL)|(oz_swing_miss_percent IS NULL)|(oz_contact_percent IS NULL)|(out_zone_percent IS NULL)|(iz_contact_percent IS NULL)|(in_zone_percent IS NULL)|(edge_percent IS NULL)|(whiff_percent IS NULL)|(fastball_avg_speed IS NULL)|(fastball_avg_spin IS NULL)|(fastball_avg_break IS NULL)|(breaking_avg_speed IS NULL)|(breaking_avg_spin IS NULL)|(breaking_avg_break IS NULL)|(offspeed_avg_speed IS NULL)|(offspeed_avg_spin IS NULL)|(offspeed_avg_break IS NULL)|(_c26 IS NULL)|\n",
      "+-------------------+---------------------+-------------------+--------------+---------------------+----------------------+---------------+-------------------------+------------------------------+--------------------------+-------------------------------+----------------------------+--------------------------+----------------------------+-------------------------+----------------------+-----------------------+----------------------------+---------------------------+----------------------------+----------------------------+---------------------------+----------------------------+----------------------------+---------------------------+----------------------------+--------------+\n",
      "|              false|                false|              false|         false|                false|                 false|          false|                    false|                         false|                     false|                          false|                       false|                     false|                       false|                    false|                 false|                  false|                       false|                      false|                       false|                       false|                      false|                       false|                        true|                       true|                        true|          true|\n",
      "|              false|                false|              false|         false|                false|                 false|          false|                    false|                         false|                     false|                          false|                       false|                     false|                       false|                    false|                 false|                  false|                       false|                      false|                       false|                       false|                      false|                       false|                       false|                      false|                       false|          true|\n",
      "|              false|                false|              false|         false|                false|                 false|          false|                    false|                         false|                     false|                          false|                       false|                     false|                       false|                    false|                 false|                  false|                       false|                      false|                       false|                       false|                      false|                       false|                       false|                      false|                       false|          true|\n",
      "|              false|                false|              false|         false|                false|                 false|          false|                    false|                         false|                     false|                          false|                       false|                     false|                       false|                    false|                 false|                  false|                       false|                      false|                       false|                       false|                      false|                       false|                       false|                      false|                       false|          true|\n",
      "|              false|                false|              false|         false|                false|                 false|          false|                    false|                         false|                     false|                          false|                       false|                     false|                       false|                    false|                 false|                  false|                       false|                      false|                       false|                       false|                      false|                       false|                       false|                      false|                       false|          true|\n",
      "|              false|                false|              false|         false|                false|                 false|          false|                    false|                         false|                     false|                          false|                       false|                     false|                       false|                    false|                 false|                  false|                       false|                      false|                       false|                       false|                      false|                       false|                       false|                      false|                       false|          true|\n",
      "|              false|                false|              false|         false|                false|                 false|          false|                    false|                         false|                     false|                          false|                       false|                     false|                       false|                    false|                 false|                  false|                       false|                      false|                       false|                       false|                      false|                       false|                       false|                      false|                       false|          true|\n",
      "|              false|                false|              false|         false|                false|                 false|          false|                    false|                         false|                     false|                          false|                       false|                     false|                       false|                    false|                 false|                  false|                       false|                      false|                       false|                       false|                      false|                       false|                        true|                       true|                        true|          true|\n",
      "|              false|                false|              false|         false|                false|                 false|          false|                    false|                         false|                     false|                          false|                       false|                     false|                       false|                    false|                 false|                  false|                       false|                      false|                       false|                       false|                      false|                       false|                       false|                      false|                       false|          true|\n",
      "|              false|                false|              false|         false|                false|                 false|          false|                    false|                         false|                     false|                          false|                       false|                     false|                       false|                    false|                 false|                  false|                       false|                      false|                       false|                       false|                      false|                       false|                       false|                      false|                       false|          true|\n",
      "|              false|                false|              false|         false|                false|                 false|          false|                    false|                         false|                     false|                          false|                       false|                     false|                       false|                    false|                 false|                  false|                       false|                      false|                       false|                       false|                      false|                       false|                       false|                      false|                       false|          true|\n",
      "|              false|                false|              false|         false|                false|                 false|          false|                    false|                         false|                     false|                          false|                       false|                     false|                       false|                    false|                 false|                  false|                       false|                      false|                       false|                       false|                      false|                       false|                       false|                      false|                       false|          true|\n",
      "|              false|                false|              false|         false|                false|                 false|          false|                    false|                         false|                     false|                          false|                       false|                     false|                       false|                    false|                 false|                  false|                       false|                      false|                       false|                       false|                      false|                       false|                       false|                      false|                       false|          true|\n",
      "|              false|                false|              false|         false|                false|                 false|          false|                    false|                         false|                     false|                          false|                       false|                     false|                       false|                    false|                 false|                  false|                       false|                      false|                       false|                       false|                      false|                       false|                       false|                      false|                       false|          true|\n",
      "|              false|                false|              false|         false|                false|                 false|          false|                    false|                         false|                     false|                          false|                       false|                     false|                       false|                    false|                 false|                  false|                       false|                      false|                       false|                       false|                      false|                       false|                       false|                      false|                       false|          true|\n",
      "|              false|                false|              false|         false|                false|                 false|          false|                    false|                         false|                     false|                          false|                       false|                     false|                       false|                    false|                 false|                  false|                       false|                      false|                       false|                       false|                      false|                       false|                       false|                      false|                       false|          true|\n",
      "|              false|                false|              false|         false|                false|                 false|          false|                    false|                         false|                     false|                          false|                       false|                     false|                       false|                    false|                 false|                  false|                       false|                      false|                       false|                       false|                      false|                       false|                        true|                       true|                        true|          true|\n",
      "|              false|                false|              false|         false|                false|                 false|          false|                    false|                         false|                     false|                          false|                       false|                     false|                       false|                    false|                 false|                  false|                       false|                      false|                       false|                       false|                      false|                       false|                       false|                      false|                       false|          true|\n",
      "|              false|                false|              false|         false|                false|                 false|          false|                    false|                         false|                     false|                          false|                       false|                     false|                       false|                    false|                 false|                  false|                       false|                      false|                       false|                       false|                      false|                       false|                       false|                      false|                       false|          true|\n",
      "|              false|                false|              false|         false|                false|                 false|          false|                    false|                         false|                     false|                          false|                       false|                     false|                       false|                    false|                 false|                  false|                       false|                      false|                       false|                       false|                      false|                       false|                       false|                      false|                       false|          true|\n",
      "+-------------------+---------------------+-------------------+--------------+---------------------+----------------------+---------------+-------------------------+------------------------------+--------------------------+-------------------------------+----------------------------+--------------------------+----------------------------+-------------------------+----------------------+-----------------------+----------------------------+---------------------------+----------------------------+----------------------------+---------------------------+----------------------------+----------------------------+---------------------------+----------------------------+--------------+\n",
      "only showing top 20 rows\n",
      "\n"
     ]
    }
   ],
   "source": [
    "df.select([col(column_name).isNull() for column_name in df.columns]).show()"
   ]
  },
  {
   "cell_type": "code",
   "execution_count": 19,
   "id": "1f0d1a6e",
   "metadata": {},
   "outputs": [
    {
     "data": {
      "text/html": [
       "<div>\n",
       "<style scoped>\n",
       "    .dataframe tbody tr th:only-of-type {\n",
       "        vertical-align: middle;\n",
       "    }\n",
       "\n",
       "    .dataframe tbody tr th {\n",
       "        vertical-align: top;\n",
       "    }\n",
       "\n",
       "    .dataframe thead th {\n",
       "        text-align: right;\n",
       "    }\n",
       "</style>\n",
       "<table border=\"1\" class=\"dataframe\">\n",
       "  <thead>\n",
       "    <tr style=\"text-align: right;\">\n",
       "      <th></th>\n",
       "      <th>last_name</th>\n",
       "      <th>first_name</th>\n",
       "      <th>player_id</th>\n",
       "      <th>year</th>\n",
       "      <th>p_k_percent</th>\n",
       "      <th>p_bb_percent</th>\n",
       "      <th>xwoba</th>\n",
       "      <th>z_swing_percent</th>\n",
       "      <th>z_swing_miss_percent</th>\n",
       "      <th>oz_swing_percent</th>\n",
       "      <th>...</th>\n",
       "      <th>fastball_avg_speed</th>\n",
       "      <th>fastball_avg_spin</th>\n",
       "      <th>fastball_avg_break</th>\n",
       "      <th>breaking_avg_speed</th>\n",
       "      <th>breaking_avg_spin</th>\n",
       "      <th>breaking_avg_break</th>\n",
       "      <th>offspeed_avg_speed</th>\n",
       "      <th>offspeed_avg_spin</th>\n",
       "      <th>offspeed_avg_break</th>\n",
       "      <th>_c26</th>\n",
       "    </tr>\n",
       "  </thead>\n",
       "  <tbody>\n",
       "    <tr>\n",
       "      <th>0</th>\n",
       "      <td>0</td>\n",
       "      <td>0</td>\n",
       "      <td>0</td>\n",
       "      <td>0</td>\n",
       "      <td>0</td>\n",
       "      <td>0</td>\n",
       "      <td>0</td>\n",
       "      <td>0</td>\n",
       "      <td>0</td>\n",
       "      <td>0</td>\n",
       "      <td>...</td>\n",
       "      <td>0</td>\n",
       "      <td>0</td>\n",
       "      <td>0</td>\n",
       "      <td>35</td>\n",
       "      <td>36</td>\n",
       "      <td>35</td>\n",
       "      <td>567</td>\n",
       "      <td>567</td>\n",
       "      <td>567</td>\n",
       "      <td>4198</td>\n",
       "    </tr>\n",
       "  </tbody>\n",
       "</table>\n",
       "<p>1 rows × 27 columns</p>\n",
       "</div>"
      ],
      "text/plain": [
       "   last_name   first_name  player_id  year  p_k_percent  p_bb_percent  xwoba  \\\n",
       "0          0            0          0     0            0             0      0   \n",
       "\n",
       "   z_swing_percent  z_swing_miss_percent  oz_swing_percent  ...  \\\n",
       "0                0                     0                 0  ...   \n",
       "\n",
       "   fastball_avg_speed  fastball_avg_spin  fastball_avg_break  \\\n",
       "0                   0                  0                   0   \n",
       "\n",
       "   breaking_avg_speed  breaking_avg_spin  breaking_avg_break  \\\n",
       "0                  35                 36                  35   \n",
       "\n",
       "   offspeed_avg_speed  offspeed_avg_spin  offspeed_avg_break  _c26  \n",
       "0                 567                567                 567  4198  \n",
       "\n",
       "[1 rows x 27 columns]"
      ]
     },
     "execution_count": 19,
     "metadata": {},
     "output_type": "execute_result"
    }
   ],
   "source": [
    "df.select([count(when(col(c).isNull(),c)).alias(c) for c in df.columns]).toPandas()"
   ]
  },
  {
   "cell_type": "code",
   "execution_count": 41,
   "id": "f9a3e75d",
   "metadata": {},
   "outputs": [],
   "source": [
    "df=df.drop('_c26')"
   ]
  },
  {
   "cell_type": "code",
   "execution_count": 45,
   "id": "a1b79704",
   "metadata": {},
   "outputs": [
    {
     "data": {
      "text/plain": [
       "DataFrame[last_name: string,  first_name: string, player_id: int, year: int, p_k_percent: double, p_bb_percent: double, xwoba: double, z_swing_percent: double, z_swing_miss_percent: double, oz_swing_percent: double, oz_swing_miss_percent: double, oz_contact_percent: double, out_zone_percent: double, iz_contact_percent: double, in_zone_percent: double, edge_percent: double, whiff_percent: double, fastball_avg_speed: double, fastball_avg_spin: int, fastball_avg_break: double, breaking_avg_speed: double, breaking_avg_spin: int, breaking_avg_break: double, offspeed_avg_speed: double, offspeed_avg_spin: int, offspeed_avg_break: double]"
      ]
     },
     "execution_count": 45,
     "metadata": {},
     "output_type": "execute_result"
    }
   ],
   "source": [
    "df.cache()"
   ]
  },
  {
   "cell_type": "code",
   "execution_count": 46,
   "id": "7a59146d",
   "metadata": {},
   "outputs": [
    {
     "name": "stdout",
     "output_type": "stream",
     "text": [
      "+---------+------------------+------------------+-----+\n",
      "|last_name|fastball_avg_speed|offspeed_avg_speed|xwoba|\n",
      "+---------+------------------+------------------+-----+\n",
      "|    Perez|              89.9|              null|0.274|\n",
      "|   Jansen|              91.3|              null|0.266|\n",
      "|   Miller|              90.2|              null| 0.22|\n",
      "|   Wilson|              93.3|              null|0.286|\n",
      "|    McGee|              94.9|              null|0.242|\n",
      "|   Phelps|              92.7|              null|0.323|\n",
      "| Betances|              93.6|              null|0.354|\n",
      "|   Hunter|              91.7|              null|0.354|\n",
      "|   Harris|              90.5|              null|0.348|\n",
      "|  Britton|              94.8|              null|0.249|\n",
      "|    O'Day|              85.9|              null|0.253|\n",
      "|   Colome|              90.8|              null|0.268|\n",
      "|Alexander|              93.1|              null|0.348|\n",
      "|  Kimbrel|              96.9|              null|0.332|\n",
      "| Pomeranz|              94.6|              null|0.209|\n",
      "|  Pressly|              94.6|              null|0.258|\n",
      "|    Smith|              92.6|              null|0.344|\n",
      "|   Walden|              91.2|              null|0.479|\n",
      "|  Workman|              89.7|              null|0.388|\n",
      "|     Hahn|              94.9|              null|0.227|\n",
      "+---------+------------------+------------------+-----+\n",
      "only showing top 20 rows\n",
      "\n"
     ]
    }
   ],
   "source": [
    "df.select('last_name','fastball_avg_speed','offspeed_avg_speed','xwoba').where(\"offspeed_avg_spin IS NULL\").show()"
   ]
  },
  {
   "cell_type": "code",
   "execution_count": 47,
   "id": "2ac45639",
   "metadata": {},
   "outputs": [],
   "source": [
    "from functools import reduce\n",
    "\n",
    "def select_rows_with_nulls(from_df):\n",
    "\treturn from_df.where(\n",
    "\t\treduce(\n",
    "\t\t\tlambda col1, col2: col1 | col2, \n",
    "\t\t\t[col(col_name).isNull() for col_name in from_df.columns]\n",
    "\t\t)\n",
    "\t)"
   ]
  },
  {
   "cell_type": "code",
   "execution_count": 48,
   "id": "9ac77a5c",
   "metadata": {},
   "outputs": [
    {
     "name": "stdout",
     "output_type": "stream",
     "text": [
      "+----------------+------------------+----------------+-----------+------------------+-------------------+------------+----------------------+---------------------------+-----------------------+----------------------------+-------------------------+-----------------------+-------------------------+----------------------+-------------------+--------------------+-------------------------+------------------------+-------------------------+-------------------------+------------------------+-------------------------+-------------------------+------------------------+-------------------------+\n",
      "|count(last_name)|count( first_name)|count(player_id)|count(year)|count(p_k_percent)|count(p_bb_percent)|count(xwoba)|count(z_swing_percent)|count(z_swing_miss_percent)|count(oz_swing_percent)|count(oz_swing_miss_percent)|count(oz_contact_percent)|count(out_zone_percent)|count(iz_contact_percent)|count(in_zone_percent)|count(edge_percent)|count(whiff_percent)|count(fastball_avg_speed)|count(fastball_avg_spin)|count(fastball_avg_break)|count(breaking_avg_speed)|count(breaking_avg_spin)|count(breaking_avg_break)|count(offspeed_avg_speed)|count(offspeed_avg_spin)|count(offspeed_avg_break)|\n",
      "+----------------+------------------+----------------+-----------+------------------+-------------------+------------+----------------------+---------------------------+-----------------------+----------------------------+-------------------------+-----------------------+-------------------------+----------------------+-------------------+--------------------+-------------------------+------------------------+-------------------------+-------------------------+------------------------+-------------------------+-------------------------+------------------------+-------------------------+\n",
      "|             597|               597|             597|        597|               597|                597|         597|                   597|                        597|                    597|                         597|                      597|                    597|                      597|                   597|                597|                 597|                      597|                     597|                      597|                      562|                     561|                      562|                       30|                      30|                       30|\n",
      "+----------------+------------------+----------------+-----------+------------------+-------------------+------------+----------------------+---------------------------+-----------------------+----------------------------+-------------------------+-----------------------+-------------------------+----------------------+-------------------+--------------------+-------------------------+------------------------+-------------------------+-------------------------+------------------------+-------------------------+-------------------------+------------------------+-------------------------+\n",
      "\n"
     ]
    }
   ],
   "source": [
    "select_rows_with_nulls(from_df=df).select([count(col(c)) for c in df.columns]).show()"
   ]
  },
  {
   "cell_type": "code",
   "execution_count": 54,
   "id": "2cc1cd2d",
   "metadata": {},
   "outputs": [
    {
     "name": "stdout",
     "output_type": "stream",
     "text": [
      "+---------+-----------+---------+----+-----------+------------+-----+---------------+--------------------+----------------+---------------------+------------------+----------------+------------------+---------------+------------+-------------+------------------+-----------------+------------------+------------------+-----------------+------------------+------------------+-----------------+------------------+\n",
      "|last_name| first_name|player_id|year|p_k_percent|p_bb_percent|xwoba|z_swing_percent|z_swing_miss_percent|oz_swing_percent|oz_swing_miss_percent|oz_contact_percent|out_zone_percent|iz_contact_percent|in_zone_percent|edge_percent|whiff_percent|fastball_avg_speed|fastball_avg_spin|fastball_avg_break|breaking_avg_speed|breaking_avg_spin|breaking_avg_break|offspeed_avg_speed|offspeed_avg_spin|offspeed_avg_break|\n",
      "+---------+-----------+---------+----+-----------+------------+-----+---------------+--------------------+----------------+---------------------+------------------+----------------+------------------+---------------+------------+-------------+------------------+-----------------+------------------+------------------+-----------------+------------------+------------------+-----------------+------------------+\n",
      "|        0|          0|        0|   0|          0|           0|    0|              0|                   0|               0|                    0|                 0|               0|                 0|              0|           0|            0|                 0|                0|                 0|                 0|                0|                 0|                 0|                0|                 0|\n",
      "+---------+-----------+---------+----+-----------+------------+-----+---------------+--------------------+----------------+---------------------+------------------+----------------+------------------+---------------+------------+-------------+------------------+-----------------+------------------+------------------+-----------------+------------------+------------------+-----------------+------------------+\n",
      "\n"
     ]
    }
   ],
   "source": [
    "df.dropna().select([count(when(col(c).isNull(),c)).alias(c) for c in df.columns]).show()"
   ]
  },
  {
   "cell_type": "code",
   "execution_count": 55,
   "id": "cc720374",
   "metadata": {},
   "outputs": [
    {
     "name": "stdout",
     "output_type": "stream",
     "text": [
      "root\n",
      " |-- last_name: string (nullable = true)\n",
      " |--  first_name: string (nullable = true)\n",
      " |-- player_id: integer (nullable = true)\n",
      " |-- year: integer (nullable = true)\n",
      " |-- p_k_percent: double (nullable = true)\n",
      " |-- p_bb_percent: double (nullable = true)\n",
      " |-- xwoba: double (nullable = true)\n",
      " |-- z_swing_percent: double (nullable = true)\n",
      " |-- z_swing_miss_percent: double (nullable = true)\n",
      " |-- oz_swing_percent: double (nullable = true)\n",
      " |-- oz_swing_miss_percent: double (nullable = true)\n",
      " |-- oz_contact_percent: double (nullable = true)\n",
      " |-- out_zone_percent: double (nullable = true)\n",
      " |-- iz_contact_percent: double (nullable = true)\n",
      " |-- in_zone_percent: double (nullable = true)\n",
      " |-- edge_percent: double (nullable = true)\n",
      " |-- whiff_percent: double (nullable = true)\n",
      " |-- fastball_avg_speed: double (nullable = true)\n",
      " |-- fastball_avg_spin: integer (nullable = true)\n",
      " |-- fastball_avg_break: double (nullable = true)\n",
      " |-- breaking_avg_speed: double (nullable = true)\n",
      " |-- breaking_avg_spin: integer (nullable = true)\n",
      " |-- breaking_avg_break: double (nullable = true)\n",
      " |-- offspeed_avg_speed: double (nullable = true)\n",
      " |-- offspeed_avg_spin: integer (nullable = true)\n",
      " |-- offspeed_avg_break: double (nullable = true)\n",
      "\n"
     ]
    }
   ],
   "source": [
    "df.printSchema()"
   ]
  },
  {
   "cell_type": "code",
   "execution_count": null,
   "id": "d605048f",
   "metadata": {},
   "outputs": [],
   "source": []
  }
 ],
 "metadata": {
  "kernelspec": {
   "display_name": "Python 3 (ipykernel)",
   "language": "python",
   "name": "python3"
  },
  "language_info": {
   "codemirror_mode": {
    "name": "ipython",
    "version": 3
   },
   "file_extension": ".py",
   "mimetype": "text/x-python",
   "name": "python",
   "nbconvert_exporter": "python",
   "pygments_lexer": "ipython3",
   "version": "3.10.7"
  }
 },
 "nbformat": 4,
 "nbformat_minor": 5
}
