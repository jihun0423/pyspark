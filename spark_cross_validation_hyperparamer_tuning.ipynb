{
 "cells": [
  {
   "cell_type": "code",
   "execution_count": 2,
   "metadata": {},
   "outputs": [],
   "source": [
    "import findspark\n",
    "findspark.init()\n",
    "import pyspark\n",
    "from pyspark.sql import SparkSession\n",
    "spark = SparkSession.builder.getOrCreate()"
   ]
  },
  {
   "cell_type": "code",
   "execution_count": 3,
   "metadata": {},
   "outputs": [],
   "source": [
    "df=spark.read.csv('C:\\\\Users\\\\jihun\\\\Downloads\\\\stats (7).csv',header=True,inferSchema=True)\n",
    "\n",
    "\n",
    "from pyspark.sql.types import StructType,StructField, StringType\n",
    "import re\n",
    "\n",
    "for each in df.schema.names:\n",
    "    df = df.withColumnRenamed(each,  re.sub(r'\\s+([a-zA-Z_][a-zA-Z_0-9]*)\\s*','',each.replace(' ', '')))\n",
    "# 일부 컬럼에 있는 공백 없애기    \n",
    "    \n",
    "# pandas DataFrame을 spark DataFrame으로 부터 생성. \n",
    "pdf = df.select('*').toPandas()"
   ]
  },
  {
   "cell_type": "code",
   "execution_count": 4,
   "metadata": {},
   "outputs": [
    {
     "data": {
      "text/plain": [
       "DataFrame[last_name: string, first_name: string, player_id: int, year: int, p_k_percent: double, p_bb_percent: double, xwoba: double, z_swing_percent: double, z_swing_miss_percent: double, oz_swing_percent: double, oz_swing_miss_percent: double, oz_contact_percent: double, out_zone_percent: double, iz_contact_percent: double, in_zone_percent: double, edge_percent: double, whiff_percent: double, fastball_avg_speed: double, fastball_avg_spin: int, fastball_avg_break: double, breaking_avg_speed: double, breaking_avg_spin: int, breaking_avg_break: double, offspeed_avg_speed: double, offspeed_avg_spin: int, offspeed_avg_break: double, _c26: string]"
      ]
     },
     "execution_count": 4,
     "metadata": {},
     "output_type": "execute_result"
    }
   ],
   "source": [
    "df.cache()"
   ]
  },
  {
   "cell_type": "code",
   "execution_count": 5,
   "metadata": {},
   "outputs": [],
   "source": [
    "from pyspark.sql.functions import count, isnan, isnull,when, col,max, avg, sum, min,lit,substring,concat,concat_ws"
   ]
  },
  {
   "cell_type": "code",
   "execution_count": 6,
   "metadata": {},
   "outputs": [],
   "source": [
    "df=df.drop('_c26')\n",
    "df=df.na.drop('any')"
   ]
  },
  {
   "cell_type": "code",
   "execution_count": null,
   "metadata": {},
   "outputs": [],
   "source": []
  },
  {
   "cell_type": "code",
   "execution_count": 13,
   "metadata": {},
   "outputs": [],
   "source": [
    "from pyspark.ml.tuning import CrossValidator, ParamGridBuilder\n",
    "\n",
    "paramGrid = ParamGridBuilder().addGrid(lr.regParam, [0.1, 0.01]) .addGrid(lr.fitIntercept, [False, True]).\\\n",
    "addGrid(lr.elasticNetParam, [0.0, 0.5, 1.0]).build()"
   ]
  },
  {
   "cell_type": "code",
   "execution_count": 9,
   "metadata": {},
   "outputs": [
    {
     "name": "stdout",
     "output_type": "stream",
     "text": [
      "3601 2859 742\n"
     ]
    }
   ],
   "source": [
    "train_sdf, test_sdf = df.randomSplit([0.8,0.2])\n",
    "train_sdf.cache()\n",
    "print(df.count(),train_sdf.count(),test_sdf.count())"
   ]
  },
  {
   "cell_type": "code",
   "execution_count": 8,
   "metadata": {},
   "outputs": [],
   "source": [
    "features = ['p_k_percent','p_bb_percent','z_swing_percent','z_swing_miss_percent','oz_swing_percent', 'oz_swing_miss_percent',\n",
    " 'oz_contact_percent', 'out_zone_percent','iz_contact_percent','in_zone_percent','edge_percent','whiff_percent','fastball_avg_speed', 'fastball_avg_spin',\n",
    " 'fastball_avg_break', 'breaking_avg_speed', 'breaking_avg_spin', 'breaking_avg_break', 'offspeed_avg_speed', 'offspeed_avg_spin', 'offspeed_avg_break']"
   ]
  },
  {
   "cell_type": "markdown",
   "metadata": {
    "application/vnd.databricks.v1+cell": {
     "inputWidgets": {},
     "nuid": "76d30e88-27ea-4d44-989d-06ba70d99f0d",
     "showTitle": false,
     "title": ""
    }
   },
   "source": [
    "### Feature Vectorization 변환과 Estimator 객체 생성."
   ]
  },
  {
   "cell_type": "code",
   "execution_count": 17,
   "metadata": {},
   "outputs": [],
   "source": [
    "from pyspark.ml.feature import VectorAssembler\n",
    "from pyspark.ml.regression import LinearRegression\n",
    "from pyspark.ml.evaluation import RegressionEvaluator\n",
    "\n",
    "\n",
    "vec_assembler = VectorAssembler(inputCols = features, outputCol = 'features')\n",
    "train_vec = vec_assembler.transform(train_sdf)\n",
    "\n",
    "lr = LinearRegression(featuresCol = 'features', labelCol = 'xwoba')"
   ]
  },
  {
   "cell_type": "markdown",
   "metadata": {
    "application/vnd.databricks.v1+cell": {
     "inputWidgets": {},
     "nuid": "c9f1bcd3-6fc3-4bf2-b32b-f12a5b054093",
     "showTitle": false,
     "title": ""
    }
   },
   "source": [
    "### CrossValidator로 교차 검증과 하이퍼파라미터 튜닝 수행. \n",
    "* ParamGridBuilder로 하이퍼파라미터 튜닝을 위한 그리드 서치(Grid Search)용 Param Grid를 생성.\n",
    "* 교차 검증 시 성능 평가할 Evaluator 생성. \n",
    "* CrossValidator 객체 생성시 Estimator객체, 그리드 서치용 Param Grid, 성능 평가용 Evaluator 객체, Fold 수를 인자로 입력함. \n",
    "* CrossValidator 객체의 fit(입력DataFrame) 메소드를 호출하여 교차 검증과 하이퍼파라미터 튜닝 수행. fit() 수행 후 CrossValidatorModel 반환. \n",
    "* 반환된 CrossValidatorModel의 avgMetrics 속성에 교차 검증별 평균 성능 평가점수, bestModel에 최적 하이퍼파라미터로 refit된 EstimatorModel 객체를 가짐."
   ]
  },
  {
   "cell_type": "code",
   "execution_count": 31,
   "metadata": {
    "application/vnd.databricks.v1+cell": {
     "inputWidgets": {},
     "nuid": "8e9c8dc8-e9cc-41e1-b09e-c3947dabd21a",
     "showTitle": false,
     "title": ""
    }
   },
   "outputs": [],
   "source": [
    "from pyspark.ml.tuning import CrossValidator, ParamGridBuilder\n",
    "\n",
    "param_grid = ParamGridBuilder().addGrid(lr.regParam, [0.1, 0.01]) .addGrid(lr.fitIntercept, [False, True]).\\\n",
    "addGrid(lr.elasticNetParam, [0.0, 0.5, 1.0]).build()\n",
    "#CrossValidator에서 하이퍼파라미터 튜닝을 위한 그리드 서치(Grid Search)용 ParamGrid 생성.\n",
    "\n",
    "#CrossValidator에서 적용할 Evaluator 객체 생성. \n",
    "evaluator_rmse = RegressionEvaluator(labelCol='xwoba', predictionCol='prediction', metricName='rmse')\n",
    "\n",
    "# Estimator 객체, 하이퍼파라미터 Grid를 가지는, Evaluator 객체, Fold수를 인자로 입력하여 CrossValidator 객체 생성. \n",
    "cv = CrossValidator(estimator=lr, estimatorParamMaps=param_grid, evaluator=evaluator_rmse, numFolds=5)\n",
    "\n",
    "# Cross validation 과 하이퍼파라미터 튜닝 수행. \n",
    "cv_model = cv.fit(train_vec)"
   ]
  },
  {
   "cell_type": "code",
   "execution_count": 32,
   "metadata": {
    "application/vnd.databricks.v1+cell": {
     "inputWidgets": {},
     "nuid": "32c5e4e3-2f89-47eb-81ed-c42273b7bd41",
     "showTitle": false,
     "title": ""
    }
   },
   "outputs": [
    {
     "name": "stdout",
     "output_type": "stream",
     "text": [
      "<class 'pyspark.ml.tuning.CrossValidatorModel'>\n"
     ]
    }
   ],
   "source": [
    "print(type(cv_model))"
   ]
  },
  {
   "cell_type": "code",
   "execution_count": 33,
   "metadata": {
    "application/vnd.databricks.v1+cell": {
     "inputWidgets": {},
     "nuid": "fd8dfc03-abb4-44e7-a951-cc44e9721e5d",
     "showTitle": false,
     "title": ""
    }
   },
   "outputs": [
    {
     "data": {
      "text/plain": [
       "[(0.03421144528122676,\n",
       "  {Param(parent='LinearRegression_96aa715c3aea', name='regParam', doc='regularization parameter (>= 0).'): 0.1,\n",
       "   Param(parent='LinearRegression_96aa715c3aea', name='fitIntercept', doc='whether to fit an intercept term.'): False,\n",
       "   Param(parent='LinearRegression_96aa715c3aea', name='elasticNetParam', doc='the ElasticNet mixing parameter, in range [0, 1]. For alpha = 0, the penalty is an L2 penalty. For alpha = 1, it is an L1 penalty.'): 0.0}),\n",
       " (0.04267140670406968,\n",
       "  {Param(parent='LinearRegression_96aa715c3aea', name='regParam', doc='regularization parameter (>= 0).'): 0.1,\n",
       "   Param(parent='LinearRegression_96aa715c3aea', name='fitIntercept', doc='whether to fit an intercept term.'): False,\n",
       "   Param(parent='LinearRegression_96aa715c3aea', name='elasticNetParam', doc='the ElasticNet mixing parameter, in range [0, 1]. For alpha = 0, the penalty is an L2 penalty. For alpha = 1, it is an L1 penalty.'): 0.5}),\n",
       " (0.045228911921964786,\n",
       "  {Param(parent='LinearRegression_96aa715c3aea', name='regParam', doc='regularization parameter (>= 0).'): 0.1,\n",
       "   Param(parent='LinearRegression_96aa715c3aea', name='fitIntercept', doc='whether to fit an intercept term.'): False,\n",
       "   Param(parent='LinearRegression_96aa715c3aea', name='elasticNetParam', doc='the ElasticNet mixing parameter, in range [0, 1]. For alpha = 0, the penalty is an L2 penalty. For alpha = 1, it is an L1 penalty.'): 1.0}),\n",
       " (0.03343771350524049,\n",
       "  {Param(parent='LinearRegression_96aa715c3aea', name='regParam', doc='regularization parameter (>= 0).'): 0.1,\n",
       "   Param(parent='LinearRegression_96aa715c3aea', name='fitIntercept', doc='whether to fit an intercept term.'): True,\n",
       "   Param(parent='LinearRegression_96aa715c3aea', name='elasticNetParam', doc='the ElasticNet mixing parameter, in range [0, 1]. For alpha = 0, the penalty is an L2 penalty. For alpha = 1, it is an L1 penalty.'): 0.0}),\n",
       " (0.042136624358354594,\n",
       "  {Param(parent='LinearRegression_96aa715c3aea', name='regParam', doc='regularization parameter (>= 0).'): 0.1,\n",
       "   Param(parent='LinearRegression_96aa715c3aea', name='fitIntercept', doc='whether to fit an intercept term.'): True,\n",
       "   Param(parent='LinearRegression_96aa715c3aea', name='elasticNetParam', doc='the ElasticNet mixing parameter, in range [0, 1]. For alpha = 0, the penalty is an L2 penalty. For alpha = 1, it is an L1 penalty.'): 0.5}),\n",
       " (0.042136624358354594,\n",
       "  {Param(parent='LinearRegression_96aa715c3aea', name='regParam', doc='regularization parameter (>= 0).'): 0.1,\n",
       "   Param(parent='LinearRegression_96aa715c3aea', name='fitIntercept', doc='whether to fit an intercept term.'): True,\n",
       "   Param(parent='LinearRegression_96aa715c3aea', name='elasticNetParam', doc='the ElasticNet mixing parameter, in range [0, 1]. For alpha = 0, the penalty is an L2 penalty. For alpha = 1, it is an L1 penalty.'): 1.0}),\n",
       " (0.03038723590256326,\n",
       "  {Param(parent='LinearRegression_96aa715c3aea', name='regParam', doc='regularization parameter (>= 0).'): 0.01,\n",
       "   Param(parent='LinearRegression_96aa715c3aea', name='fitIntercept', doc='whether to fit an intercept term.'): False,\n",
       "   Param(parent='LinearRegression_96aa715c3aea', name='elasticNetParam', doc='the ElasticNet mixing parameter, in range [0, 1]. For alpha = 0, the penalty is an L2 penalty. For alpha = 1, it is an L1 penalty.'): 0.0}),\n",
       " (0.03253436557226967,\n",
       "  {Param(parent='LinearRegression_96aa715c3aea', name='regParam', doc='regularization parameter (>= 0).'): 0.01,\n",
       "   Param(parent='LinearRegression_96aa715c3aea', name='fitIntercept', doc='whether to fit an intercept term.'): False,\n",
       "   Param(parent='LinearRegression_96aa715c3aea', name='elasticNetParam', doc='the ElasticNet mixing parameter, in range [0, 1]. For alpha = 0, the penalty is an L2 penalty. For alpha = 1, it is an L1 penalty.'): 0.5}),\n",
       " (0.03481422419855752,\n",
       "  {Param(parent='LinearRegression_96aa715c3aea', name='regParam', doc='regularization parameter (>= 0).'): 0.01,\n",
       "   Param(parent='LinearRegression_96aa715c3aea', name='fitIntercept', doc='whether to fit an intercept term.'): False,\n",
       "   Param(parent='LinearRegression_96aa715c3aea', name='elasticNetParam', doc='the ElasticNet mixing parameter, in range [0, 1]. For alpha = 0, the penalty is an L2 penalty. For alpha = 1, it is an L1 penalty.'): 1.0}),\n",
       " (0.03016438868856356,\n",
       "  {Param(parent='LinearRegression_96aa715c3aea', name='regParam', doc='regularization parameter (>= 0).'): 0.01,\n",
       "   Param(parent='LinearRegression_96aa715c3aea', name='fitIntercept', doc='whether to fit an intercept term.'): True,\n",
       "   Param(parent='LinearRegression_96aa715c3aea', name='elasticNetParam', doc='the ElasticNet mixing parameter, in range [0, 1]. For alpha = 0, the penalty is an L2 penalty. For alpha = 1, it is an L1 penalty.'): 0.0}),\n",
       " (0.03162773062927452,\n",
       "  {Param(parent='LinearRegression_96aa715c3aea', name='regParam', doc='regularization parameter (>= 0).'): 0.01,\n",
       "   Param(parent='LinearRegression_96aa715c3aea', name='fitIntercept', doc='whether to fit an intercept term.'): True,\n",
       "   Param(parent='LinearRegression_96aa715c3aea', name='elasticNetParam', doc='the ElasticNet mixing parameter, in range [0, 1]. For alpha = 0, the penalty is an L2 penalty. For alpha = 1, it is an L1 penalty.'): 0.5}),\n",
       " (0.03355745520361229,\n",
       "  {Param(parent='LinearRegression_96aa715c3aea', name='regParam', doc='regularization parameter (>= 0).'): 0.01,\n",
       "   Param(parent='LinearRegression_96aa715c3aea', name='fitIntercept', doc='whether to fit an intercept term.'): True,\n",
       "   Param(parent='LinearRegression_96aa715c3aea', name='elasticNetParam', doc='the ElasticNet mixing parameter, in range [0, 1]. For alpha = 0, the penalty is an L2 penalty. For alpha = 1, it is an L1 penalty.'): 1.0})]"
      ]
     },
     "execution_count": 33,
     "metadata": {},
     "output_type": "execute_result"
    }
   ],
   "source": [
    "# avgMetrics 속성과 param grid 속성 값을 함께 출력\n",
    "list(zip(cv_model.avgMetrics, cv_model.getEstimatorParamMaps()))"
   ]
  },
  {
   "cell_type": "code",
   "execution_count": 35,
   "metadata": {
    "application/vnd.databricks.v1+cell": {
     "inputWidgets": {},
     "nuid": "c677a692-9537-47fa-b1d0-391f2c18b975",
     "showTitle": false,
     "title": ""
    }
   },
   "outputs": [
    {
     "name": "stdout",
     "output_type": "stream",
     "text": [
      "[{'regParam': 0.1, 'fitIntercept': False, 'elasticNetParam': 0.0}, {'regParam': 0.1, 'fitIntercept': False, 'elasticNetParam': 0.5}, {'regParam': 0.1, 'fitIntercept': False, 'elasticNetParam': 1.0}, {'regParam': 0.1, 'fitIntercept': True, 'elasticNetParam': 0.0}, {'regParam': 0.1, 'fitIntercept': True, 'elasticNetParam': 0.5}, {'regParam': 0.1, 'fitIntercept': True, 'elasticNetParam': 1.0}, {'regParam': 0.01, 'fitIntercept': False, 'elasticNetParam': 0.0}, {'regParam': 0.01, 'fitIntercept': False, 'elasticNetParam': 0.5}, {'regParam': 0.01, 'fitIntercept': False, 'elasticNetParam': 1.0}, {'regParam': 0.01, 'fitIntercept': True, 'elasticNetParam': 0.0}, {'regParam': 0.01, 'fitIntercept': True, 'elasticNetParam': 0.5}, {'regParam': 0.01, 'fitIntercept': True, 'elasticNetParam': 1.0}]\n"
     ]
    }
   ],
   "source": [
    "# param 명과 값을 출력\n",
    "params = [{p.name: v for p, v in m.items()} for m in cv_model.getEstimatorParamMaps()]\n",
    "print(params)"
   ]
  },
  {
   "cell_type": "code",
   "execution_count": 36,
   "metadata": {
    "application/vnd.databricks.v1+cell": {
     "inputWidgets": {},
     "nuid": "5a5289d6-42ca-4148-a97b-79ea730a8877",
     "showTitle": false,
     "title": ""
    }
   },
   "outputs": [
    {
     "name": "stdout",
     "output_type": "stream",
     "text": [
      "[({'regParam': 0.1, 'fitIntercept': False, 'elasticNetParam': 0.0}, 0.03421144528122676), ({'regParam': 0.1, 'fitIntercept': False, 'elasticNetParam': 0.5}, 0.04267140670406968), ({'regParam': 0.1, 'fitIntercept': False, 'elasticNetParam': 1.0}, 0.045228911921964786), ({'regParam': 0.1, 'fitIntercept': True, 'elasticNetParam': 0.0}, 0.03343771350524049), ({'regParam': 0.1, 'fitIntercept': True, 'elasticNetParam': 0.5}, 0.042136624358354594), ({'regParam': 0.1, 'fitIntercept': True, 'elasticNetParam': 1.0}, 0.042136624358354594), ({'regParam': 0.01, 'fitIntercept': False, 'elasticNetParam': 0.0}, 0.03038723590256326), ({'regParam': 0.01, 'fitIntercept': False, 'elasticNetParam': 0.5}, 0.03253436557226967), ({'regParam': 0.01, 'fitIntercept': False, 'elasticNetParam': 1.0}, 0.03481422419855752), ({'regParam': 0.01, 'fitIntercept': True, 'elasticNetParam': 0.0}, 0.03016438868856356), ({'regParam': 0.01, 'fitIntercept': True, 'elasticNetParam': 0.5}, 0.03162773062927452), ({'regParam': 0.01, 'fitIntercept': True, 'elasticNetParam': 1.0}, 0.03355745520361229)]\n"
     ]
    },
    {
     "data": {
      "text/html": [
       "<div>\n",
       "<style scoped>\n",
       "    .dataframe tbody tr th:only-of-type {\n",
       "        vertical-align: middle;\n",
       "    }\n",
       "\n",
       "    .dataframe tbody tr th {\n",
       "        vertical-align: top;\n",
       "    }\n",
       "\n",
       "    .dataframe thead th {\n",
       "        text-align: right;\n",
       "    }\n",
       "</style>\n",
       "<table border=\"1\" class=\"dataframe\">\n",
       "  <thead>\n",
       "    <tr style=\"text-align: right;\">\n",
       "      <th></th>\n",
       "      <th>params</th>\n",
       "      <th>evaluation_result</th>\n",
       "    </tr>\n",
       "  </thead>\n",
       "  <tbody>\n",
       "    <tr>\n",
       "      <th>0</th>\n",
       "      <td>{'regParam': 0.1, 'fitIntercept': False, 'elas...</td>\n",
       "      <td>0.034211</td>\n",
       "    </tr>\n",
       "    <tr>\n",
       "      <th>1</th>\n",
       "      <td>{'regParam': 0.1, 'fitIntercept': False, 'elas...</td>\n",
       "      <td>0.042671</td>\n",
       "    </tr>\n",
       "    <tr>\n",
       "      <th>2</th>\n",
       "      <td>{'regParam': 0.1, 'fitIntercept': False, 'elas...</td>\n",
       "      <td>0.045229</td>\n",
       "    </tr>\n",
       "    <tr>\n",
       "      <th>3</th>\n",
       "      <td>{'regParam': 0.1, 'fitIntercept': True, 'elast...</td>\n",
       "      <td>0.033438</td>\n",
       "    </tr>\n",
       "    <tr>\n",
       "      <th>4</th>\n",
       "      <td>{'regParam': 0.1, 'fitIntercept': True, 'elast...</td>\n",
       "      <td>0.042137</td>\n",
       "    </tr>\n",
       "    <tr>\n",
       "      <th>5</th>\n",
       "      <td>{'regParam': 0.1, 'fitIntercept': True, 'elast...</td>\n",
       "      <td>0.042137</td>\n",
       "    </tr>\n",
       "    <tr>\n",
       "      <th>6</th>\n",
       "      <td>{'regParam': 0.01, 'fitIntercept': False, 'ela...</td>\n",
       "      <td>0.030387</td>\n",
       "    </tr>\n",
       "    <tr>\n",
       "      <th>7</th>\n",
       "      <td>{'regParam': 0.01, 'fitIntercept': False, 'ela...</td>\n",
       "      <td>0.032534</td>\n",
       "    </tr>\n",
       "    <tr>\n",
       "      <th>8</th>\n",
       "      <td>{'regParam': 0.01, 'fitIntercept': False, 'ela...</td>\n",
       "      <td>0.034814</td>\n",
       "    </tr>\n",
       "    <tr>\n",
       "      <th>9</th>\n",
       "      <td>{'regParam': 0.01, 'fitIntercept': True, 'elas...</td>\n",
       "      <td>0.030164</td>\n",
       "    </tr>\n",
       "    <tr>\n",
       "      <th>10</th>\n",
       "      <td>{'regParam': 0.01, 'fitIntercept': True, 'elas...</td>\n",
       "      <td>0.031628</td>\n",
       "    </tr>\n",
       "    <tr>\n",
       "      <th>11</th>\n",
       "      <td>{'regParam': 0.01, 'fitIntercept': True, 'elas...</td>\n",
       "      <td>0.033557</td>\n",
       "    </tr>\n",
       "  </tbody>\n",
       "</table>\n",
       "</div>"
      ],
      "text/plain": [
       "                                               params  evaluation_result\n",
       "0   {'regParam': 0.1, 'fitIntercept': False, 'elas...           0.034211\n",
       "1   {'regParam': 0.1, 'fitIntercept': False, 'elas...           0.042671\n",
       "2   {'regParam': 0.1, 'fitIntercept': False, 'elas...           0.045229\n",
       "3   {'regParam': 0.1, 'fitIntercept': True, 'elast...           0.033438\n",
       "4   {'regParam': 0.1, 'fitIntercept': True, 'elast...           0.042137\n",
       "5   {'regParam': 0.1, 'fitIntercept': True, 'elast...           0.042137\n",
       "6   {'regParam': 0.01, 'fitIntercept': False, 'ela...           0.030387\n",
       "7   {'regParam': 0.01, 'fitIntercept': False, 'ela...           0.032534\n",
       "8   {'regParam': 0.01, 'fitIntercept': False, 'ela...           0.034814\n",
       "9   {'regParam': 0.01, 'fitIntercept': True, 'elas...           0.030164\n",
       "10  {'regParam': 0.01, 'fitIntercept': True, 'elas...           0.031628\n",
       "11  {'regParam': 0.01, 'fitIntercept': True, 'elas...           0.033557"
      ]
     },
     "metadata": {},
     "output_type": "display_data"
    }
   ],
   "source": [
    "import pandas as pd\n",
    "\n",
    "print(list(zip(params, cv_model.avgMetrics)))\n",
    "# param명과 값에 따른 evaluation  결과를 Pandas DataFrame으로 생성. \n",
    "cv_result= pd.DataFrame({'params': params, \n",
    "              'evaluation_result':cv_model.avgMetrics\n",
    "})\n",
    "\n",
    "display(cv_result)"
   ]
  },
  {
   "cell_type": "code",
   "execution_count": 37,
   "metadata": {
    "application/vnd.databricks.v1+cell": {
     "inputWidgets": {},
     "nuid": "c881690a-7d8c-40ef-93fe-5f03687fffb5",
     "showTitle": false,
     "title": ""
    }
   },
   "outputs": [],
   "source": [
    "import pandas as pd\n",
    "\n",
    "# 교차 검증 결과를 pandas DataFrame으로 반환하는 함수 생성. \n",
    "def get_cv_result_pdf(cv_model):\n",
    "    params = [{p.name: v for p, v in m.items()} for m in cv_model.getEstimatorParamMaps()]\n",
    "\n",
    "    cv_result_pdf= pd.DataFrame({'params': params, 'evaluation_result':cv_model.avgMetrics })\n",
    "    \n",
    "    return cv_result_pdf"
   ]
  },
  {
   "cell_type": "code",
   "execution_count": 38,
   "metadata": {},
   "outputs": [
    {
     "data": {
      "text/html": [
       "<div>\n",
       "<style scoped>\n",
       "    .dataframe tbody tr th:only-of-type {\n",
       "        vertical-align: middle;\n",
       "    }\n",
       "\n",
       "    .dataframe tbody tr th {\n",
       "        vertical-align: top;\n",
       "    }\n",
       "\n",
       "    .dataframe thead th {\n",
       "        text-align: right;\n",
       "    }\n",
       "</style>\n",
       "<table border=\"1\" class=\"dataframe\">\n",
       "  <thead>\n",
       "    <tr style=\"text-align: right;\">\n",
       "      <th></th>\n",
       "      <th>params</th>\n",
       "      <th>evaluation_result</th>\n",
       "    </tr>\n",
       "  </thead>\n",
       "  <tbody>\n",
       "    <tr>\n",
       "      <th>0</th>\n",
       "      <td>{'regParam': 0.1, 'fitIntercept': False, 'elas...</td>\n",
       "      <td>0.034211</td>\n",
       "    </tr>\n",
       "    <tr>\n",
       "      <th>1</th>\n",
       "      <td>{'regParam': 0.1, 'fitIntercept': False, 'elas...</td>\n",
       "      <td>0.042671</td>\n",
       "    </tr>\n",
       "    <tr>\n",
       "      <th>2</th>\n",
       "      <td>{'regParam': 0.1, 'fitIntercept': False, 'elas...</td>\n",
       "      <td>0.045229</td>\n",
       "    </tr>\n",
       "    <tr>\n",
       "      <th>3</th>\n",
       "      <td>{'regParam': 0.1, 'fitIntercept': True, 'elast...</td>\n",
       "      <td>0.033438</td>\n",
       "    </tr>\n",
       "    <tr>\n",
       "      <th>4</th>\n",
       "      <td>{'regParam': 0.1, 'fitIntercept': True, 'elast...</td>\n",
       "      <td>0.042137</td>\n",
       "    </tr>\n",
       "    <tr>\n",
       "      <th>5</th>\n",
       "      <td>{'regParam': 0.1, 'fitIntercept': True, 'elast...</td>\n",
       "      <td>0.042137</td>\n",
       "    </tr>\n",
       "    <tr>\n",
       "      <th>6</th>\n",
       "      <td>{'regParam': 0.01, 'fitIntercept': False, 'ela...</td>\n",
       "      <td>0.030387</td>\n",
       "    </tr>\n",
       "    <tr>\n",
       "      <th>7</th>\n",
       "      <td>{'regParam': 0.01, 'fitIntercept': False, 'ela...</td>\n",
       "      <td>0.032534</td>\n",
       "    </tr>\n",
       "    <tr>\n",
       "      <th>8</th>\n",
       "      <td>{'regParam': 0.01, 'fitIntercept': False, 'ela...</td>\n",
       "      <td>0.034814</td>\n",
       "    </tr>\n",
       "    <tr>\n",
       "      <th>9</th>\n",
       "      <td>{'regParam': 0.01, 'fitIntercept': True, 'elas...</td>\n",
       "      <td>0.030164</td>\n",
       "    </tr>\n",
       "    <tr>\n",
       "      <th>10</th>\n",
       "      <td>{'regParam': 0.01, 'fitIntercept': True, 'elas...</td>\n",
       "      <td>0.031628</td>\n",
       "    </tr>\n",
       "    <tr>\n",
       "      <th>11</th>\n",
       "      <td>{'regParam': 0.01, 'fitIntercept': True, 'elas...</td>\n",
       "      <td>0.033557</td>\n",
       "    </tr>\n",
       "  </tbody>\n",
       "</table>\n",
       "</div>"
      ],
      "text/plain": [
       "                                               params  evaluation_result\n",
       "0   {'regParam': 0.1, 'fitIntercept': False, 'elas...           0.034211\n",
       "1   {'regParam': 0.1, 'fitIntercept': False, 'elas...           0.042671\n",
       "2   {'regParam': 0.1, 'fitIntercept': False, 'elas...           0.045229\n",
       "3   {'regParam': 0.1, 'fitIntercept': True, 'elast...           0.033438\n",
       "4   {'regParam': 0.1, 'fitIntercept': True, 'elast...           0.042137\n",
       "5   {'regParam': 0.1, 'fitIntercept': True, 'elast...           0.042137\n",
       "6   {'regParam': 0.01, 'fitIntercept': False, 'ela...           0.030387\n",
       "7   {'regParam': 0.01, 'fitIntercept': False, 'ela...           0.032534\n",
       "8   {'regParam': 0.01, 'fitIntercept': False, 'ela...           0.034814\n",
       "9   {'regParam': 0.01, 'fitIntercept': True, 'elas...           0.030164\n",
       "10  {'regParam': 0.01, 'fitIntercept': True, 'elas...           0.031628\n",
       "11  {'regParam': 0.01, 'fitIntercept': True, 'elas...           0.033557"
      ]
     },
     "execution_count": 38,
     "metadata": {},
     "output_type": "execute_result"
    }
   ],
   "source": [
    "get_cv_result_pdf(cv_model)"
   ]
  },
  {
   "cell_type": "markdown",
   "metadata": {
    "application/vnd.databricks.v1+cell": {
     "inputWidgets": {},
     "nuid": "959b71d4-5cdd-4dbc-bd46-7a98bf91177a",
     "showTitle": false,
     "title": ""
    }
   },
   "source": [
    "### CrossValidatorModel을 이용하여 예측 수행. \n",
    "* CrossValidatorModel 객체의 transform(테스트 DataFrame)을 호출하여 예측. CrossValidatorModel객체는 최적의 하이퍼 파라미터로 학습되었음. \n",
    "* CrossValidatorModel 객체의 bestModel은 최적 하이퍼파라미터로 EstimatorModel이 재학습된 것임."
   ]
  },
  {
   "cell_type": "code",
   "execution_count": 39,
   "metadata": {},
   "outputs": [
    {
     "name": "stdout",
     "output_type": "stream",
     "text": [
      "rmse :  0.02950179582961995\n"
     ]
    }
   ],
   "source": [
    "test_vec = vec_assembler.transform(test_sdf)\n",
    "predictions = cv_model.transform(test_vec)\n",
    "\n",
    "\n",
    "evaluator_rmse = RegressionEvaluator(labelCol='xwoba', predictionCol='prediction', metricName='rmse')\n",
    "print('rmse : ', evaluator_rmse.evaluate(predictions))"
   ]
  },
  {
   "cell_type": "code",
   "execution_count": 40,
   "metadata": {},
   "outputs": [
    {
     "name": "stdout",
     "output_type": "stream",
     "text": [
      "LinearRegressionModel: uid=LinearRegression_96aa715c3aea, numFeatures=21\n"
     ]
    }
   ],
   "source": [
    "best_lr_model = cv_model.bestModel\n",
    "print(best_lr_model)"
   ]
  },
  {
   "cell_type": "code",
   "execution_count": 48,
   "metadata": {},
   "outputs": [
    {
     "data": {
      "text/plain": [
       "{'aggregationDepth': 2,\n",
       " 'elasticNetParam': 0.0,\n",
       " 'epsilon': 1.35,\n",
       " 'featuresCol': 'features',\n",
       " 'fitIntercept': True,\n",
       " 'labelCol': 'xwoba',\n",
       " 'loss': 'squaredError',\n",
       " 'maxBlockSizeInMB': 0.0,\n",
       " 'maxIter': 100,\n",
       " 'predictionCol': 'prediction',\n",
       " 'regParam': 0.01,\n",
       " 'solver': 'auto',\n",
       " 'standardization': True,\n",
       " 'tol': 1e-06}"
      ]
     },
     "execution_count": 48,
     "metadata": {},
     "output_type": "execute_result"
    }
   ],
   "source": [
    " {param.name: value for param, value in zip(cv_model.bestModel.extractParamMap().keys(), cv_model.bestModel.extractParamMap().values())}"
   ]
  },
  {
   "cell_type": "code",
   "execution_count": 50,
   "metadata": {},
   "outputs": [
    {
     "data": {
      "text/plain": [
       "{Param(parent='LinearRegression_96aa715c3aea', name='aggregationDepth', doc='suggested depth for treeAggregate (>= 2).'): 2,\n",
       " Param(parent='LinearRegression_96aa715c3aea', name='elasticNetParam', doc='the ElasticNet mixing parameter, in range [0, 1]. For alpha = 0, the penalty is an L2 penalty. For alpha = 1, it is an L1 penalty.'): 0.0,\n",
       " Param(parent='LinearRegression_96aa715c3aea', name='epsilon', doc='The shape parameter to control the amount of robustness. Must be > 1.0. Only valid when loss is huber'): 1.35,\n",
       " Param(parent='LinearRegression_96aa715c3aea', name='featuresCol', doc='features column name.'): 'features',\n",
       " Param(parent='LinearRegression_96aa715c3aea', name='fitIntercept', doc='whether to fit an intercept term.'): True,\n",
       " Param(parent='LinearRegression_96aa715c3aea', name='labelCol', doc='label column name.'): 'xwoba',\n",
       " Param(parent='LinearRegression_96aa715c3aea', name='loss', doc='The loss function to be optimized. Supported options: squaredError, huber.'): 'squaredError',\n",
       " Param(parent='LinearRegression_96aa715c3aea', name='maxBlockSizeInMB', doc='maximum memory in MB for stacking input data into blocks. Data is stacked within partitions. If more than remaining data size in a partition then it is adjusted to the data size. Default 0.0 represents choosing optimal value, depends on specific algorithm. Must be >= 0.'): 0.0,\n",
       " Param(parent='LinearRegression_96aa715c3aea', name='maxIter', doc='max number of iterations (>= 0).'): 100,\n",
       " Param(parent='LinearRegression_96aa715c3aea', name='predictionCol', doc='prediction column name.'): 'prediction',\n",
       " Param(parent='LinearRegression_96aa715c3aea', name='regParam', doc='regularization parameter (>= 0).'): 0.01,\n",
       " Param(parent='LinearRegression_96aa715c3aea', name='solver', doc='The solver algorithm for optimization. Supported options: auto, normal, l-bfgs.'): 'auto',\n",
       " Param(parent='LinearRegression_96aa715c3aea', name='standardization', doc='whether to standardize the training features before fitting the model.'): True,\n",
       " Param(parent='LinearRegression_96aa715c3aea', name='tol', doc='the convergence tolerance for iterative algorithms (>= 0).'): 1e-06}"
      ]
     },
     "execution_count": 50,
     "metadata": {},
     "output_type": "execute_result"
    }
   ],
   "source": [
    "best_lr_model.extractParamMap()"
   ]
  },
  {
   "cell_type": "code",
   "execution_count": 51,
   "metadata": {
    "application/vnd.databricks.v1+cell": {
     "inputWidgets": {},
     "nuid": "8631bc6c-92cf-4518-b3d8-e6cf099c150c",
     "showTitle": false,
     "title": ""
    }
   },
   "outputs": [
    {
     "name": "stdout",
     "output_type": "stream",
     "text": [
      "\n",
      "##### Best Model로 테스트 데이터 예측 결과 ######\n",
      "정확도: 0.02950179582961995\n"
     ]
    },
    {
     "data": {
      "text/plain": [
       "DataFrame[last_name: string, first_name: string, player_id: int, year: int, p_k_percent: double, p_bb_percent: double, xwoba: double, z_swing_percent: double, z_swing_miss_percent: double, oz_swing_percent: double, oz_swing_miss_percent: double, oz_contact_percent: double, out_zone_percent: double, iz_contact_percent: double, in_zone_percent: double, edge_percent: double, whiff_percent: double, fastball_avg_speed: double, fastball_avg_spin: int, fastball_avg_break: double, breaking_avg_speed: double, breaking_avg_spin: int, breaking_avg_break: double, offspeed_avg_speed: double, offspeed_avg_spin: int, offspeed_avg_break: double, features: vector, prediction: double]"
      ]
     },
     "metadata": {},
     "output_type": "display_data"
    }
   ],
   "source": [
    "best_model_predictions = best_lr_model.transform(test_vec)\n",
    "\n",
    "print(\"\\n##### Best Model로 테스트 데이터 예측 결과 ######\")\n",
    "print('정확도:', evaluator_rmse.evaluate(best_model_predictions))\n",
    "\n",
    "display(best_model_predictions)"
   ]
  },
  {
   "cell_type": "markdown",
   "metadata": {
    "application/vnd.databricks.v1+cell": {
     "inputWidgets": {},
     "nuid": "15eab9cc-5c6a-4f75-a341-bc9861d4b6a7",
     "showTitle": false,
     "title": ""
    }
   },
   "source": [
    "### Pipeline과 결합하여 사용하기\n",
    "* CrossValidator에서 Estimator 대신 Pipeline을 적용할 수 있음. \n",
    "* Pipeline의 stage에 CrossValidator를 등록 시킬 수 있음."
   ]
  },
  {
   "cell_type": "markdown",
   "metadata": {
    "application/vnd.databricks.v1+cell": {
     "inputWidgets": {},
     "nuid": "9ee74548-eb75-4df0-a3f0-231896551799",
     "showTitle": false,
     "title": ""
    }
   },
   "source": [
    "#### CrossValidator에서 Estimator 대신 Pipeline을 적용"
   ]
  },
  {
   "cell_type": "code",
   "execution_count": 0,
   "metadata": {
    "application/vnd.databricks.v1+cell": {
     "inputWidgets": {},
     "nuid": "5c33a611-ae90-4f65-b4ab-ab80556c0e11",
     "showTitle": false,
     "title": ""
    }
   },
   "outputs": [
    {
     "data": {
      "text/html": [
       "<style scoped>\n",
       "  .ansiout {\n",
       "    display: block;\n",
       "    unicode-bidi: embed;\n",
       "    white-space: pre-wrap;\n",
       "    word-wrap: break-word;\n",
       "    word-break: break-all;\n",
       "    font-family: \"Source Code Pro\", \"Menlo\", monospace;;\n",
       "    font-size: 13px;\n",
       "    color: #555;\n",
       "    margin-left: 4px;\n",
       "    line-height: 19px;\n",
       "  }\n",
       "</style>"
      ]
     },
     "metadata": {
      "application/vnd.databricks.v1+output": {
       "arguments": {},
       "data": "",
       "errorSummary": "",
       "errorTraceType": null,
       "metadata": {},
       "type": "ipynbError"
      }
     },
     "output_type": "display_data"
    }
   ],
   "source": [
    "from pyspark.ml import Pipeline\n",
    "\n",
    "train_sdf, test_sdf = iris_sdf.randomSplit([0.7, 0.3], seed=0)\n",
    "\n",
    "iris_columns = ['sepal_length', 'sepal_width', 'petal_length', 'petal_width']\n",
    "stage_1 = VectorAssembler(inputCols=iris_columns, outputCol='features')\n",
    "stage_2 = DecisionTreeClassifier(featuresCol='features', labelCol='label', maxDepth=10 )\n",
    "\n",
    "# Feature Vectorization 변환, Estimator 객체 등록하여 Pipeline 객체 생성. \n",
    "pipeline_01 = Pipeline(stages=[stage_1, stage_2])\n",
    "\n",
    "# 하이퍼파라미터 튜닝을 위한 그리드 서치(Grid Search)용 ParamGrid 생성. stage_2.maxDepth로 지정해야함\n",
    "param_grid_01 = ParamGridBuilder().addGrid(stage_2.maxDepth, [5, 7, 8, 10])\\\n",
    "                               .addGrid(stage_2.minInstancesPerNode, [3, 5, 6])\\\n",
    "                               .build()\n",
    "\n",
    "evaluator_accuracy_01 = MulticlassClassificationEvaluator(labelCol='label', predictionCol='prediction', metricName='accuracy')\n",
    "\n",
    "#CrossValidator 객체 생성 시 estimator 인자로 Estimator 객체가 아닌 Pipeline 객체 입력\n",
    "cv = CrossValidator(estimator=pipeline_01, estimatorParamMaps=param_grid_01, evaluator=evaluator_accuracy_01, numFolds=3)\n",
    "\n",
    "# Cross validationr과 하이퍼 파라미터 튜닝을 그리드 서치 방법으로 수행. \n",
    "# fit(입력 DataFrame)에서 입력 DataFrame은 feature vectorization이 되어 있지 않아야 함. Pipeline에서 feature vectorization을 수행하기 때문임. \n",
    "cv_model_01 = cv.fit(train_sdf) # pipeline_01.fit(train_sdf) \n",
    "\n",
    "cv_result_pdf = get_cv_result_pdf(cv_model_01)\n",
    "display(cv_result_pdf)"
   ]
  },
  {
   "cell_type": "code",
   "execution_count": 0,
   "metadata": {
    "application/vnd.databricks.v1+cell": {
     "inputWidgets": {},
     "nuid": "9b6193f0-fa65-4b07-a524-69d6fbf4f9fb",
     "showTitle": false,
     "title": ""
    }
   },
   "outputs": [
    {
     "data": {
      "text/html": [
       "<style scoped>\n",
       "  .ansiout {\n",
       "    display: block;\n",
       "    unicode-bidi: embed;\n",
       "    white-space: pre-wrap;\n",
       "    word-wrap: break-word;\n",
       "    word-break: break-all;\n",
       "    font-family: \"Source Code Pro\", \"Menlo\", monospace;;\n",
       "    font-size: 13px;\n",
       "    color: #555;\n",
       "    margin-left: 4px;\n",
       "    line-height: 19px;\n",
       "  }\n",
       "</style>"
      ]
     },
     "metadata": {
      "application/vnd.databricks.v1+output": {
       "arguments": {},
       "data": "",
       "errorSummary": "",
       "errorTraceType": null,
       "metadata": {},
       "type": "ipynbError"
      }
     },
     "output_type": "display_data"
    }
   ],
   "source": [
    "#cv_model의 tranform()호출 시 test_sdf는 feature vectorization되지 않아야 함. Pipeline에서 feature vectorization을 수행하기 때문임. \n",
    "predictions = cv_model_01.transform(test_sdf)\n",
    "evaluator_accuracy = MulticlassClassificationEvaluator(labelCol='label', predictionCol='prediction', metricName='accuracy')\n",
    "print(evaluator_accuracy.evaluate(predictions))"
   ]
  },
  {
   "cell_type": "markdown",
   "metadata": {
    "application/vnd.databricks.v1+cell": {
     "inputWidgets": {},
     "nuid": "d83d846a-62b5-42af-8dd2-464f2faa4822",
     "showTitle": false,
     "title": ""
    }
   },
   "source": [
    "#### Pipeline의 stage에 CrossValidator를 등록"
   ]
  },
  {
   "cell_type": "code",
   "execution_count": 0,
   "metadata": {
    "application/vnd.databricks.v1+cell": {
     "inputWidgets": {},
     "nuid": "b825e675-2775-4c4b-8fa4-88b6193760bf",
     "showTitle": false,
     "title": ""
    }
   },
   "outputs": [
    {
     "data": {
      "text/html": [
       "<style scoped>\n",
       "  .ansiout {\n",
       "    display: block;\n",
       "    unicode-bidi: embed;\n",
       "    white-space: pre-wrap;\n",
       "    word-wrap: break-word;\n",
       "    word-break: break-all;\n",
       "    font-family: \"Source Code Pro\", \"Menlo\", monospace;;\n",
       "    font-size: 13px;\n",
       "    color: #555;\n",
       "    margin-left: 4px;\n",
       "    line-height: 19px;\n",
       "  }\n",
       "</style>"
      ]
     },
     "metadata": {
      "application/vnd.databricks.v1+output": {
       "arguments": {},
       "data": "",
       "errorSummary": "",
       "errorTraceType": null,
       "metadata": {},
       "type": "ipynbError"
      }
     },
     "output_type": "display_data"
    }
   ],
   "source": [
    "# feature vectorization stage와 Cross Validation Stage로 Pipeline 구성. \n",
    "stage_vectorized = VectorAssembler(inputCols=iris_columns, outputCol='features')\n",
    "# Cross Validation Stage를 위하여 CrossValidator용 Estimator 생성. \n",
    "dt_estimator = DecisionTreeClassifier(featuresCol='features', labelCol='label')\n",
    "\n",
    "# Cross Validation Stage를 위하여 CrossValidator용 Param Grid 생성. \n",
    "param_grid_02 = ParamGridBuilder().addGrid(dt_estimator.maxDepth, [5, 7, 8, 10])\\\n",
    "                                  .addGrid(dt_estimator.minInstancesPerNode, [3, 5, 6])\\\n",
    "                                  .build()\n",
    "\n",
    "evaluator_accuracy = MulticlassClassificationEvaluator(labelCol='label', predictionCol='prediction', metricName='accuracy')\n",
    "\n",
    "# Cross Validation Stage를 위하여 CrossValidator객체 생성. \n",
    "stage_cv = CrossValidator(estimator=dt_estimator, estimatorParamMaps=param_grid_02, evaluator=evaluator_accuracy, numFolds=3)\n",
    "\n",
    "# feature vectorization stage와 Cross Validation Stage를 등록하여 Pipeline 객체 생성. \n",
    "pipeline_02 = Pipeline(stages=[stage_vectorized, stage_cv])\n",
    "\n",
    "# Pipeline fit()수행하여 feature vectorization -> Cross Validation 수행. \n",
    "pipeline_model_02 = pipeline_02.fit(train_sdf)\n"
   ]
  },
  {
   "cell_type": "code",
   "execution_count": 0,
   "metadata": {
    "application/vnd.databricks.v1+cell": {
     "inputWidgets": {},
     "nuid": "91dda566-47b0-4322-b2f5-fe5e58f38e24",
     "showTitle": false,
     "title": ""
    }
   },
   "outputs": [
    {
     "data": {
      "text/html": [
       "<style scoped>\n",
       "  .ansiout {\n",
       "    display: block;\n",
       "    unicode-bidi: embed;\n",
       "    white-space: pre-wrap;\n",
       "    word-wrap: break-word;\n",
       "    word-break: break-all;\n",
       "    font-family: \"Source Code Pro\", \"Menlo\", monospace;;\n",
       "    font-size: 13px;\n",
       "    color: #555;\n",
       "    margin-left: 4px;\n",
       "    line-height: 19px;\n",
       "  }\n",
       "</style>"
      ]
     },
     "metadata": {
      "application/vnd.databricks.v1+output": {
       "arguments": {},
       "data": "",
       "errorSummary": "",
       "errorTraceType": null,
       "metadata": {},
       "type": "ipynbError"
      }
     },
     "output_type": "display_data"
    }
   ],
   "source": [
    "print(pipeline_model_02.stages)\n",
    "print(type(pipeline_model_02.stages[-1]))"
   ]
  },
  {
   "cell_type": "code",
   "execution_count": 0,
   "metadata": {
    "application/vnd.databricks.v1+cell": {
     "inputWidgets": {},
     "nuid": "120f1c18-b89c-4426-b599-c84978a9a98c",
     "showTitle": false,
     "title": ""
    }
   },
   "outputs": [
    {
     "data": {
      "text/html": [
       "<style scoped>\n",
       "  .ansiout {\n",
       "    display: block;\n",
       "    unicode-bidi: embed;\n",
       "    white-space: pre-wrap;\n",
       "    word-wrap: break-word;\n",
       "    word-break: break-all;\n",
       "    font-family: \"Source Code Pro\", \"Menlo\", monospace;;\n",
       "    font-size: 13px;\n",
       "    color: #555;\n",
       "    margin-left: 4px;\n",
       "    line-height: 19px;\n",
       "  }\n",
       "</style>"
      ]
     },
     "metadata": {
      "application/vnd.databricks.v1+output": {
       "arguments": {},
       "data": "",
       "errorSummary": "",
       "errorTraceType": null,
       "metadata": {},
       "type": "ipynbError"
      }
     },
     "output_type": "display_data"
    }
   ],
   "source": [
    "cv_model_02 = pipeline_model_02.stages[-1]\n",
    "cv_result_pdf = get_cv_result_pdf(cv_model_02)\n",
    "display(cv_result_pdf)"
   ]
  },
  {
   "cell_type": "code",
   "execution_count": 0,
   "metadata": {
    "application/vnd.databricks.v1+cell": {
     "inputWidgets": {},
     "nuid": "40c7009b-f1ad-404d-8040-4458e683afa9",
     "showTitle": false,
     "title": ""
    }
   },
   "outputs": [
    {
     "data": {
      "text/html": [
       "<style scoped>\n",
       "  .ansiout {\n",
       "    display: block;\n",
       "    unicode-bidi: embed;\n",
       "    white-space: pre-wrap;\n",
       "    word-wrap: break-word;\n",
       "    word-break: break-all;\n",
       "    font-family: \"Source Code Pro\", \"Menlo\", monospace;;\n",
       "    font-size: 13px;\n",
       "    color: #555;\n",
       "    margin-left: 4px;\n",
       "    line-height: 19px;\n",
       "  }\n",
       "</style>"
      ]
     },
     "metadata": {
      "application/vnd.databricks.v1+output": {
       "arguments": {},
       "data": "",
       "errorSummary": "",
       "errorTraceType": null,
       "metadata": {},
       "type": "ipynbError"
      }
     },
     "output_type": "display_data"
    }
   ],
   "source": [
    "# 예측을 위해 test용 DataFrame을 pipeline에 등록된 feature vectorization 적용 -> CrossValidatorModel의 transform() 수행하여 예측 \n",
    "predictions = pipeline_model_02.transform(test_sdf) \n",
    "evaluator_accuracy = MulticlassClassificationEvaluator(labelCol='label', predictionCol='prediction', metricName='accuracy')\n",
    "print(evaluator_accuracy.evaluate(predictions))"
   ]
  },
  {
   "cell_type": "markdown",
   "metadata": {
    "application/vnd.databricks.v1+cell": {
     "inputWidgets": {},
     "nuid": "a42f2f5b-fb99-41a6-b7ca-dcf06aee9566",
     "showTitle": false,
     "title": ""
    }
   },
   "source": [
    "### TrainValidationSplit를 이용하여 하이퍼 파라미터 튜닝"
   ]
  },
  {
   "cell_type": "code",
   "execution_count": 0,
   "metadata": {
    "application/vnd.databricks.v1+cell": {
     "inputWidgets": {},
     "nuid": "c7769359-c618-4e23-a526-56e6c86930e5",
     "showTitle": false,
     "title": ""
    }
   },
   "outputs": [
    {
     "data": {
      "text/html": [
       "<style scoped>\n",
       "  .ansiout {\n",
       "    display: block;\n",
       "    unicode-bidi: embed;\n",
       "    white-space: pre-wrap;\n",
       "    word-wrap: break-word;\n",
       "    word-break: break-all;\n",
       "    font-family: \"Source Code Pro\", \"Menlo\", monospace;;\n",
       "    font-size: 13px;\n",
       "    color: #555;\n",
       "    margin-left: 4px;\n",
       "    line-height: 19px;\n",
       "  }\n",
       "</style>"
      ]
     },
     "metadata": {
      "application/vnd.databricks.v1+output": {
       "arguments": {},
       "data": "",
       "errorSummary": "",
       "errorTraceType": null,
       "metadata": {},
       "type": "ipynbError"
      }
     },
     "output_type": "display_data"
    }
   ],
   "source": [
    "from pyspark.ml.tuning import TrainValidationSplit, ParamGridBuilder\n",
    "\n",
    "vector_assembler = VectorAssembler(inputCols=iris_columns, outputCol='features')\n",
    "train_sdf_vectorized = vector_assembler.transform(train_sdf)\n",
    "\n",
    "dt_estimator = DecisionTreeClassifier(featuresCol='features', labelCol='label', maxDepth=10 )\n",
    "tvs_param_grid = ParamGridBuilder().addGrid(dt_estimator.maxDepth, [5, 7, 8, 10])\\\n",
    "                                  .addGrid(dt_estimator.minInstancesPerNode, [3, 5, 6])\\\n",
    "                                  .build()\n",
    "\n",
    "evaluator_accuracy = MulticlassClassificationEvaluator(labelCol='label', predictionCol='prediction', metricName='accuracy')\n",
    "\n",
    "# TrainValidationSplit 객체 생성. \n",
    "tvs = TrainValidationSplit(estimator=dt_estimator, estimatorParamMaps=tvs_param_grid, evaluator=evaluator_accuracy, trainRatio=0.75, seed=0)\n",
    "# train과 validation 데이터세트 분리후 하이퍼파라미터 튜닝 수행. \n",
    "tvs_model = tvs.fit(train_sdf_vectorized)"
   ]
  },
  {
   "cell_type": "code",
   "execution_count": 0,
   "metadata": {
    "application/vnd.databricks.v1+cell": {
     "inputWidgets": {},
     "nuid": "ac605490-347e-4e02-9a13-f47efbcc845c",
     "showTitle": false,
     "title": ""
    }
   },
   "outputs": [
    {
     "data": {
      "text/html": [
       "<style scoped>\n",
       "  .ansiout {\n",
       "    display: block;\n",
       "    unicode-bidi: embed;\n",
       "    white-space: pre-wrap;\n",
       "    word-wrap: break-word;\n",
       "    word-break: break-all;\n",
       "    font-family: \"Source Code Pro\", \"Menlo\", monospace;;\n",
       "    font-size: 13px;\n",
       "    color: #555;\n",
       "    margin-left: 4px;\n",
       "    line-height: 19px;\n",
       "  }\n",
       "</style>"
      ]
     },
     "metadata": {
      "application/vnd.databricks.v1+output": {
       "arguments": {},
       "data": "",
       "errorSummary": "",
       "errorTraceType": null,
       "metadata": {},
       "type": "ipynbError"
      }
     },
     "output_type": "display_data"
    }
   ],
   "source": [
    "print('validation metrics:', tvs_model.validationMetrics)\n",
    "params = [{p.name: v for p, v in m.items()} for m in tvs_model.getEstimatorParamMaps()]\n",
    "print(params)"
   ]
  },
  {
   "cell_type": "code",
   "execution_count": 0,
   "metadata": {
    "application/vnd.databricks.v1+cell": {
     "inputWidgets": {},
     "nuid": "fb36672a-278e-454c-9028-f88235bcb747",
     "showTitle": false,
     "title": ""
    }
   },
   "outputs": [
    {
     "data": {
      "text/html": [
       "<style scoped>\n",
       "  .ansiout {\n",
       "    display: block;\n",
       "    unicode-bidi: embed;\n",
       "    white-space: pre-wrap;\n",
       "    word-wrap: break-word;\n",
       "    word-break: break-all;\n",
       "    font-family: \"Source Code Pro\", \"Menlo\", monospace;;\n",
       "    font-size: 13px;\n",
       "    color: #555;\n",
       "    margin-left: 4px;\n",
       "    line-height: 19px;\n",
       "  }\n",
       "</style>"
      ]
     },
     "metadata": {
      "application/vnd.databricks.v1+output": {
       "arguments": {},
       "data": "",
       "errorSummary": "",
       "errorTraceType": null,
       "metadata": {},
       "type": "ipynbError"
      }
     },
     "output_type": "display_data"
    }
   ],
   "source": [
    "import pandas as pd\n",
    "\n",
    "# 검증 결과를 pandas DataFrame으로 반환하는 함수 생성. \n",
    "def get_tvs_result_pdf(tvs_model):\n",
    "    params = [{p.name: v for p, v in m.items()} for m in tvs_model.getEstimatorParamMaps()]\n",
    "\n",
    "    tvs_result_pdf= pd.DataFrame({'params': params, 'evaluation_result':tvs_model.validationMetrics })\n",
    "    \n",
    "    return tvs_result_pdf\n",
    "\n",
    "tvs_result_pdf = get_tvs_result_pdf(tvs_model)\n",
    "tvs_result_pdf.head(10)"
   ]
  },
  {
   "cell_type": "code",
   "execution_count": 0,
   "metadata": {
    "application/vnd.databricks.v1+cell": {
     "inputWidgets": {},
     "nuid": "2e511228-1937-4fe1-8e02-da55ef1dda7d",
     "showTitle": false,
     "title": ""
    }
   },
   "outputs": [
    {
     "data": {
      "text/html": [
       "<style scoped>\n",
       "  .ansiout {\n",
       "    display: block;\n",
       "    unicode-bidi: embed;\n",
       "    white-space: pre-wrap;\n",
       "    word-wrap: break-word;\n",
       "    word-break: break-all;\n",
       "    font-family: \"Source Code Pro\", \"Menlo\", monospace;;\n",
       "    font-size: 13px;\n",
       "    color: #555;\n",
       "    margin-left: 4px;\n",
       "    line-height: 19px;\n",
       "  }\n",
       "</style>"
      ]
     },
     "metadata": {
      "application/vnd.databricks.v1+output": {
       "arguments": {},
       "data": "",
       "errorSummary": "",
       "errorTraceType": null,
       "metadata": {},
       "type": "ipynbError"
      }
     },
     "output_type": "display_data"
    }
   ],
   "source": [
    "#tvs_model은 fit()수행시 best model이 가지는 hyperparameter로 refit되고, 해당 EstimatorModel이 bestModel속성으로 저장됨. \n",
    "best_dt_model = tvs_model.bestModel\n",
    "\n",
    "best_model_predictions = best_dt_model.transform(test_sdf_vectorized)\n",
    "\n",
    "print(\"\\n##### Best Model로 테스트 데이터 예측 결과 ######\")\n",
    "evaluator_accuracy = MulticlassClassificationEvaluator(labelCol='label', predictionCol='prediction', metricName='accuracy')\n",
    "print('정확도:', evaluator_accuracy.evaluate(best_model_predictions))\n",
    "\n",
    "display(best_model_predictions)"
   ]
  },
  {
   "cell_type": "code",
   "execution_count": 0,
   "metadata": {
    "application/vnd.databricks.v1+cell": {
     "inputWidgets": {},
     "nuid": "e242a710-778c-48ee-abd9-6888f15160f6",
     "showTitle": false,
     "title": ""
    }
   },
   "outputs": [
    {
     "data": {
      "text/html": [
       "<style scoped>\n",
       "  .ansiout {\n",
       "    display: block;\n",
       "    unicode-bidi: embed;\n",
       "    white-space: pre-wrap;\n",
       "    word-wrap: break-word;\n",
       "    word-break: break-all;\n",
       "    font-family: \"Source Code Pro\", \"Menlo\", monospace;;\n",
       "    font-size: 13px;\n",
       "    color: #555;\n",
       "    margin-left: 4px;\n",
       "    line-height: 19px;\n",
       "  }\n",
       "</style>"
      ]
     },
     "metadata": {
      "application/vnd.databricks.v1+output": {
       "arguments": {},
       "data": "",
       "errorSummary": "",
       "errorTraceType": null,
       "metadata": {},
       "type": "ipynbError"
      }
     },
     "output_type": "display_data"
    }
   ],
   "source": []
  },
  {
   "cell_type": "code",
   "execution_count": 0,
   "metadata": {
    "application/vnd.databricks.v1+cell": {
     "inputWidgets": {},
     "nuid": "b059cf26-b9ef-48c3-b8dc-ccdc9604e02e",
     "showTitle": false,
     "title": ""
    }
   },
   "outputs": [
    {
     "data": {
      "text/html": [
       "<style scoped>\n",
       "  .ansiout {\n",
       "    display: block;\n",
       "    unicode-bidi: embed;\n",
       "    white-space: pre-wrap;\n",
       "    word-wrap: break-word;\n",
       "    word-break: break-all;\n",
       "    font-family: \"Source Code Pro\", \"Menlo\", monospace;;\n",
       "    font-size: 13px;\n",
       "    color: #555;\n",
       "    margin-left: 4px;\n",
       "    line-height: 19px;\n",
       "  }\n",
       "</style>"
      ]
     },
     "metadata": {
      "application/vnd.databricks.v1+output": {
       "arguments": {},
       "data": "",
       "errorSummary": "",
       "errorTraceType": null,
       "metadata": {},
       "type": "ipynbError"
      }
     },
     "output_type": "display_data"
    }
   ],
   "source": []
  }
 ],
 "metadata": {
  "application/vnd.databricks.v1+notebook": {
   "dashboards": [],
   "language": "python",
   "notebookMetadata": {
    "pythonIndentUnit": 4
   },
   "notebookName": "spark_cross_validation_hyperparamer_tuning (2)",
   "notebookOrigID": 3696907485425467,
   "widgets": {}
  },
  "kernelspec": {
   "display_name": "Python 3 (ipykernel)",
   "language": "python",
   "name": "python3"
  },
  "language_info": {
   "codemirror_mode": {
    "name": "ipython",
    "version": 3
   },
   "file_extension": ".py",
   "mimetype": "text/x-python",
   "name": "python",
   "nbconvert_exporter": "python",
   "pygments_lexer": "ipython3",
   "version": "3.10.7"
  }
 },
 "nbformat": 4,
 "nbformat_minor": 1
}
