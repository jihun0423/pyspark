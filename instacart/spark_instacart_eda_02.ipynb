{
 "cells": [
  {
   "cell_type": "code",
   "execution_count": 0,
   "metadata": {
    "application/vnd.databricks.v1+cell": {
     "cellMetadata": {},
     "inputWidgets": {},
     "nuid": "87dbc996-bc33-44a4-a477-094f7ad30654",
     "showTitle": false,
     "title": ""
    }
   },
   "outputs": [
    {
     "output_type": "display_data",
     "data": {
      "text/html": [
       "<style scoped>\n",
       "  .ansiout {\n",
       "    display: block;\n",
       "    unicode-bidi: embed;\n",
       "    white-space: pre-wrap;\n",
       "    word-wrap: break-word;\n",
       "    word-break: break-all;\n",
       "    font-family: \"Source Code Pro\", \"Menlo\", monospace;;\n",
       "    font-size: 13px;\n",
       "    color: #555;\n",
       "    margin-left: 4px;\n",
       "    line-height: 19px;\n",
       "  }\n",
       "</style>"
      ]
     },
     "metadata": {
      "application/vnd.databricks.v1+output": {
       "arguments": {},
       "data": "",
       "errorSummary": "",
       "errorTraceType": null,
       "metadata": {},
       "type": "ipynbError"
      }
     },
     "output_type": "display_data"
    }
   ],
   "source": [
    "%sh\n",
    "vmstat 3"
   ]
  },
  {
   "cell_type": "code",
   "execution_count": 0,
   "metadata": {
    "application/vnd.databricks.v1+cell": {
     "cellMetadata": {},
     "inputWidgets": {},
     "nuid": "842f289b-a84a-4468-8555-d5838fde3f40",
     "showTitle": false,
     "title": ""
    }
   },
   "outputs": [
    {
     "output_type": "display_data",
     "data": {
      "text/html": [
       "<style scoped>\n",
       "  .ansiout {\n",
       "    display: block;\n",
       "    unicode-bidi: embed;\n",
       "    white-space: pre-wrap;\n",
       "    word-wrap: break-word;\n",
       "    word-break: break-all;\n",
       "    font-family: \"Source Code Pro\", \"Menlo\", monospace;;\n",
       "    font-size: 13px;\n",
       "    color: #555;\n",
       "    margin-left: 4px;\n",
       "    line-height: 19px;\n",
       "  }\n",
       "</style>"
      ]
     },
     "metadata": {
      "application/vnd.databricks.v1+output": {
       "arguments": {},
       "data": "",
       "errorSummary": "",
       "errorTraceType": null,
       "metadata": {},
       "type": "ipynbError"
      }
     },
     "output_type": "display_data"
    }
   ],
   "source": [
    "orders_sdf = spark.read.csv('/FileStore/tables/orders.csv', header=True, inferSchema=True)\n",
    "trains_sdf = spark.read.csv('/FileStore/tables/order_products_train.csv', header=True, inferSchema=True)\n",
    "products_sdf = spark.read.csv('/FileStore/tables/products.csv', header=True, inferSchema=True)\n",
    "aisles_sdf = spark.read.csv('/FileStore/tables/aisles.csv', header=True, inferSchema=True)\n",
    "depts_sdf = spark.read.csv('/FileStore/tables/departments.csv', header=True, inferSchema=True)"
   ]
  },
  {
   "cell_type": "markdown",
   "metadata": {
    "application/vnd.databricks.v1+cell": {
     "cellMetadata": {},
     "inputWidgets": {},
     "nuid": "81b9fbb1-eff7-4196-ba3a-582bcf4818bf",
     "showTitle": false,
     "title": ""
    }
   },
   "source": [
    "300MB 이상의 파일을 Databricks cloud storage에 upload 되지 않으므로 order_products_prior.zip 파일을 압축된 채 그대로 로드하고, 이를 pandas의 read_csv()의 option인 compressed를 이용하여 pandas DataFrame으로 로드한 뒤 다시 spark DataFrame으로 변환"
   ]
  },
  {
   "cell_type": "code",
   "execution_count": 0,
   "metadata": {
    "application/vnd.databricks.v1+cell": {
     "cellMetadata": {},
     "inputWidgets": {},
     "nuid": "df501c66-042d-4148-b0bc-e1e030592dcb",
     "showTitle": false,
     "title": ""
    }
   },
   "outputs": [
    {
     "output_type": "display_data",
     "data": {
      "text/html": [
       "<style scoped>\n",
       "  .ansiout {\n",
       "    display: block;\n",
       "    unicode-bidi: embed;\n",
       "    white-space: pre-wrap;\n",
       "    word-wrap: break-word;\n",
       "    word-break: break-all;\n",
       "    font-family: \"Source Code Pro\", \"Menlo\", monospace;;\n",
       "    font-size: 13px;\n",
       "    color: #555;\n",
       "    margin-left: 4px;\n",
       "    line-height: 19px;\n",
       "  }\n",
       "</style>"
      ]
     },
     "metadata": {
      "application/vnd.databricks.v1+output": {
       "arguments": {},
       "data": "",
       "errorSummary": "",
       "errorTraceType": null,
       "metadata": {},
       "type": "ipynbError"
      }
     },
     "output_type": "display_data"
    }
   ],
   "source": [
    "%fs \n",
    "cp /FileStore/tables/order_products_prior.zip file:/home/order_products_prior.zip "
   ]
  },
  {
   "cell_type": "code",
   "execution_count": 0,
   "metadata": {
    "application/vnd.databricks.v1+cell": {
     "cellMetadata": {},
     "inputWidgets": {},
     "nuid": "1141c126-1276-4c5e-b628-aad7fd1dcfaa",
     "showTitle": false,
     "title": ""
    }
   },
   "outputs": [
    {
     "output_type": "display_data",
     "data": {
      "text/html": [
       "<style scoped>\n",
       "  .ansiout {\n",
       "    display: block;\n",
       "    unicode-bidi: embed;\n",
       "    white-space: pre-wrap;\n",
       "    word-wrap: break-word;\n",
       "    word-break: break-all;\n",
       "    font-family: \"Source Code Pro\", \"Menlo\", monospace;;\n",
       "    font-size: 13px;\n",
       "    color: #555;\n",
       "    margin-left: 4px;\n",
       "    line-height: 19px;\n",
       "  }\n",
       "</style>"
      ]
     },
     "metadata": {
      "application/vnd.databricks.v1+output": {
       "arguments": {},
       "data": "",
       "errorSummary": "",
       "errorTraceType": null,
       "metadata": {},
       "type": "ipynbError"
      }
     },
     "output_type": "display_data"
    }
   ],
   "source": [
    "import pandas as pd\n",
    "\n",
    "priors_pdf = pd.read_csv('/home/order_products_prior.zip', compression='zip', header=0, sep=',', quotechar='\"')\n",
    "priors_sdf = spark.createDataFrame(priors_pdf)\n",
    "del priors_pdf # 메모리 절약을 위해 pandas dataframe삭제 "
   ]
  },
  {
   "cell_type": "code",
   "execution_count": 0,
   "metadata": {
    "application/vnd.databricks.v1+cell": {
     "cellMetadata": {},
     "inputWidgets": {},
     "nuid": "05edeb05-3f0d-4eba-bdcd-d9b5f9407b8f",
     "showTitle": false,
     "title": ""
    }
   },
   "outputs": [
    {
     "output_type": "display_data",
     "data": {
      "text/html": [
       "<style scoped>\n",
       "  .ansiout {\n",
       "    display: block;\n",
       "    unicode-bidi: embed;\n",
       "    white-space: pre-wrap;\n",
       "    word-wrap: break-word;\n",
       "    word-break: break-all;\n",
       "    font-family: \"Source Code Pro\", \"Menlo\", monospace;;\n",
       "    font-size: 13px;\n",
       "    color: #555;\n",
       "    margin-left: 4px;\n",
       "    line-height: 19px;\n",
       "  }\n",
       "</style>"
      ]
     },
     "metadata": {
      "application/vnd.databricks.v1+output": {
       "arguments": {},
       "data": "",
       "errorSummary": "",
       "errorTraceType": null,
       "metadata": {},
       "type": "ipynbError"
      }
     },
     "output_type": "display_data"
    }
   ],
   "source": [
    "# 로드한 DataFrame을 임시 table/view로 생성. \n",
    "orders_sdf.createOrReplaceTempView(\"orders\")\n",
    "priors_sdf.createOrReplaceTempView(\"priors\")\n",
    "trains_sdf.createOrReplaceTempView(\"trains\")\n",
    "products_sdf.createOrReplaceTempView(\"products\")\n",
    "aisles_sdf.createOrReplaceTempView(\"aisles\")\n",
    "depts_sdf.createOrReplaceTempView(\"depts\")"
   ]
  },
  {
   "cell_type": "code",
   "execution_count": 0,
   "metadata": {
    "application/vnd.databricks.v1+cell": {
     "cellMetadata": {},
     "inputWidgets": {},
     "nuid": "80eccad2-ef7f-4c36-9d06-2acea43160f2",
     "showTitle": false,
     "title": ""
    }
   },
   "outputs": [
    {
     "output_type": "display_data",
     "data": {
      "text/html": [
       "<style scoped>\n",
       "  .ansiout {\n",
       "    display: block;\n",
       "    unicode-bidi: embed;\n",
       "    white-space: pre-wrap;\n",
       "    word-wrap: break-word;\n",
       "    word-break: break-all;\n",
       "    font-family: \"Source Code Pro\", \"Menlo\", monospace;;\n",
       "    font-size: 13px;\n",
       "    color: #555;\n",
       "    margin-left: 4px;\n",
       "    line-height: 19px;\n",
       "  }\n",
       "</style>"
      ]
     },
     "metadata": {
      "application/vnd.databricks.v1+output": {
       "arguments": {},
       "data": "",
       "errorSummary": "",
       "errorTraceType": null,
       "metadata": {},
       "type": "ipynbError"
      }
     },
     "output_type": "display_data"
    }
   ],
   "source": [
    "# temporary table/view로 등록되어 있는지 확인. \n",
    "spark.catalog.listTables()"
   ]
  },
  {
   "cell_type": "code",
   "execution_count": 0,
   "metadata": {
    "application/vnd.databricks.v1+cell": {
     "cellMetadata": {},
     "inputWidgets": {},
     "nuid": "00db0642-1c1d-409b-8338-42bea8ae89ea",
     "showTitle": false,
     "title": ""
    }
   },
   "outputs": [
    {
     "output_type": "display_data",
     "data": {
      "text/html": [
       "<style scoped>\n",
       "  .ansiout {\n",
       "    display: block;\n",
       "    unicode-bidi: embed;\n",
       "    white-space: pre-wrap;\n",
       "    word-wrap: break-word;\n",
       "    word-break: break-all;\n",
       "    font-family: \"Source Code Pro\", \"Menlo\", monospace;;\n",
       "    font-size: 13px;\n",
       "    color: #555;\n",
       "    margin-left: 4px;\n",
       "    line-height: 19px;\n",
       "  }\n",
       "</style>"
      ]
     },
     "metadata": {
      "application/vnd.databricks.v1+output": {
       "arguments": {},
       "data": "",
       "errorSummary": "",
       "errorTraceType": null,
       "metadata": {},
       "type": "ipynbError"
      }
     },
     "output_type": "display_data"
    }
   ],
   "source": [
    "%sql\n",
    "drop table if exists order_all_prods"
   ]
  },
  {
   "cell_type": "code",
   "execution_count": 0,
   "metadata": {
    "application/vnd.databricks.v1+cell": {
     "cellMetadata": {},
     "inputWidgets": {},
     "nuid": "8762ef44-6f4c-42dd-bee4-e5035ce21b69",
     "showTitle": false,
     "title": ""
    }
   },
   "outputs": [
    {
     "output_type": "display_data",
     "data": {
      "text/html": [
       "<style scoped>\n",
       "  .ansiout {\n",
       "    display: block;\n",
       "    unicode-bidi: embed;\n",
       "    white-space: pre-wrap;\n",
       "    word-wrap: break-word;\n",
       "    word-break: break-all;\n",
       "    font-family: \"Source Code Pro\", \"Menlo\", monospace;;\n",
       "    font-size: 13px;\n",
       "    color: #555;\n",
       "    margin-left: 4px;\n",
       "    line-height: 19px;\n",
       "  }\n",
       "</style>"
      ]
     },
     "metadata": {
      "application/vnd.databricks.v1+output": {
       "arguments": {},
       "data": "",
       "errorSummary": "",
       "errorTraceType": null,
       "metadata": {},
       "type": "ipynbError"
      }
     },
     "output_type": "display_data"
    }
   ],
   "source": [
    "%fs\n",
    "rm -r dbfs:/user/hive/warehouse/order_all_prods"
   ]
  },
  {
   "cell_type": "code",
   "execution_count": 0,
   "metadata": {
    "application/vnd.databricks.v1+cell": {
     "cellMetadata": {},
     "inputWidgets": {},
     "nuid": "1076a15d-d719-45cf-b61a-d54ede2c1f7b",
     "showTitle": false,
     "title": ""
    }
   },
   "outputs": [
    {
     "output_type": "display_data",
     "data": {
      "text/html": [
       "<style scoped>\n",
       "  .ansiout {\n",
       "    display: block;\n",
       "    unicode-bidi: embed;\n",
       "    white-space: pre-wrap;\n",
       "    word-wrap: break-word;\n",
       "    word-break: break-all;\n",
       "    font-family: \"Source Code Pro\", \"Menlo\", monospace;;\n",
       "    font-size: 13px;\n",
       "    color: #555;\n",
       "    margin-left: 4px;\n",
       "    line-height: 19px;\n",
       "  }\n",
       "</style>"
      ]
     },
     "metadata": {
      "application/vnd.databricks.v1+output": {
       "arguments": {},
       "data": "",
       "errorSummary": "",
       "errorTraceType": null,
       "metadata": {},
       "type": "ipynbError"
      }
     },
     "output_type": "display_data"
    }
   ],
   "source": [
    "%sql\n",
    "\n",
    "\n",
    "-- priors와 orders를 조인\n",
    "create table order_all_prods\n",
    "as\n",
    "with priors_trains\n",
    "as\n",
    "(\n",
    "  select 'prior' as gubun, a.* from priors a\n",
    "  union all\n",
    "  select 'train' as gubun, a.* from trains a\n",
    ")\n",
    "select a.order_id, a.product_id, a.add_to_cart_order, a.reordered\n",
    "  ,b.user_id, b.eval_set, b.order_number, b.order_dow, b.order_hour_of_day\n",
    "  ,b.days_since_prior_order\n",
    "from  priors_trains a, orders b\n",
    "where a.order_id = b.order_id"
   ]
  },
  {
   "cell_type": "code",
   "execution_count": 0,
   "metadata": {
    "application/vnd.databricks.v1+cell": {
     "cellMetadata": {},
     "inputWidgets": {},
     "nuid": "0f65a7df-6728-47f4-bef4-453d3ef82b7c",
     "showTitle": false,
     "title": ""
    }
   },
   "outputs": [
    {
     "output_type": "display_data",
     "data": {
      "text/html": [
       "<style scoped>\n",
       "  .ansiout {\n",
       "    display: block;\n",
       "    unicode-bidi: embed;\n",
       "    white-space: pre-wrap;\n",
       "    word-wrap: break-word;\n",
       "    word-break: break-all;\n",
       "    font-family: \"Source Code Pro\", \"Menlo\", monospace;;\n",
       "    font-size: 13px;\n",
       "    color: #555;\n",
       "    margin-left: 4px;\n",
       "    line-height: 19px;\n",
       "  }\n",
       "</style>"
      ]
     },
     "metadata": {
      "application/vnd.databricks.v1+output": {
       "arguments": {},
       "data": "",
       "errorSummary": "",
       "errorTraceType": null,
       "metadata": {},
       "type": "ipynbError"
      }
     },
     "output_type": "display_data"
    }
   ],
   "source": [
    "%sql\n",
    "select * from order_all_prods where user_id = 1 order by order_number"
   ]
  },
  {
   "cell_type": "markdown",
   "metadata": {
    "application/vnd.databricks.v1+cell": {
     "cellMetadata": {},
     "inputWidgets": {},
     "nuid": "12984077-cd50-4236-93b5-0e5a021a3aec",
     "showTitle": false,
     "title": ""
    }
   },
   "source": [
    "### 사용자별(USER_ID)별 주문 건수 관련 분석\n",
    "* 사용자가 주문을 많이 하는 성향인지, 1회 주문시 많은 상품을 주문하는 성향인지, 특정 상품만 주로 주문하는지에 대한 속성 분석\n",
    "* 사용자별 주문/상품 건수, 고유주문/고유상품 건수 분석\n",
    "* 사용자별 1회 주문 시 상품 건수, 고유 주문상품 대비 주문 상품 건수, 사용자별 주문 상품 건수 대비 고유 상품 건수 비율"
   ]
  },
  {
   "cell_type": "code",
   "execution_count": 0,
   "metadata": {
    "application/vnd.databricks.v1+cell": {
     "cellMetadata": {},
     "inputWidgets": {},
     "nuid": "0f125b00-91a2-4690-898f-be6f321be17e",
     "showTitle": false,
     "title": ""
    }
   },
   "outputs": [
    {
     "output_type": "display_data",
     "data": {
      "text/html": [
       "<style scoped>\n",
       "  .ansiout {\n",
       "    display: block;\n",
       "    unicode-bidi: embed;\n",
       "    white-space: pre-wrap;\n",
       "    word-wrap: break-word;\n",
       "    word-break: break-all;\n",
       "    font-family: \"Source Code Pro\", \"Menlo\", monospace;;\n",
       "    font-size: 13px;\n",
       "    color: #555;\n",
       "    margin-left: 4px;\n",
       "    line-height: 19px;\n",
       "  }\n",
       "</style>"
      ]
     },
     "metadata": {
      "application/vnd.databricks.v1+output": {
       "arguments": {},
       "data": "",
       "errorSummary": "",
       "errorTraceType": null,
       "metadata": {},
       "type": "ipynbError"
      }
     },
     "output_type": "display_data"
    }
   ],
   "source": [
    "%sql\n",
    "-- 사용자별 1회 주문시 평균 주문 상품 건수, 1회 주문시 평균 고유 주문 상품 건수, 사용자별 총 상품 건수 대비 고유 상품 건수 비율 \n",
    "select user_id, usr_total_cnt, prd_distinct_cnt, order_distinct_cnt\n",
    "  , usr_total_cnt/order_distinct_cnt as usr_avg_prd_cnt -- 사용자별 1회 주문시 주문 상품 건수(평균)\n",
    "  , usr_total_cnt/prd_distinct_cnt as usr_avg_unq_prd_cnt -- 사용자별 고유 주문 상품 대비 주문 상품 건수(평균) \n",
    "  , prd_distinct_cnt/usr_total_cnt as usr_unq_prd_ratio --사용자별 주문 총 상품 건수 대비 고유 상품 건수 비율\n",
    "from (\n",
    "  select user_id\n",
    "    , count(*) as usr_total_cnt -- 사용자별 상품 주문 건수\n",
    "    ,count(distinct product_id) prd_distinct_cnt -- 사용자별 고유 상품 주문 건수 \n",
    "    ,count(distinct order_id) order_distinct_cnt -- 사용자별 고유 주문 건수\n",
    "  from order_all_prods a group by user_id -- where order_id in (2539329, 2398795, 473747)\n",
    ")\n"
   ]
  },
  {
   "cell_type": "code",
   "execution_count": 0,
   "metadata": {
    "application/vnd.databricks.v1+cell": {
     "cellMetadata": {},
     "inputWidgets": {},
     "nuid": "ef1b072e-d346-4c62-9a48-4cda208d3d5e",
     "showTitle": false,
     "title": ""
    }
   },
   "outputs": [
    {
     "output_type": "display_data",
     "data": {
      "text/html": [
       "<style scoped>\n",
       "  .ansiout {\n",
       "    display: block;\n",
       "    unicode-bidi: embed;\n",
       "    white-space: pre-wrap;\n",
       "    word-wrap: break-word;\n",
       "    word-break: break-all;\n",
       "    font-family: \"Source Code Pro\", \"Menlo\", monospace;;\n",
       "    font-size: 13px;\n",
       "    color: #555;\n",
       "    margin-left: 4px;\n",
       "    line-height: 19px;\n",
       "  }\n",
       "</style>"
      ]
     },
     "metadata": {
      "application/vnd.databricks.v1+output": {
       "arguments": {},
       "data": "",
       "errorSummary": "",
       "errorTraceType": null,
       "metadata": {},
       "type": "ipynbError"
      }
     },
     "output_type": "display_data"
    }
   ],
   "source": [
    "%sql\n",
    "with\n",
    "-- 사용자별 1회 주문시 평균 주문 상품 건수, 1회 주문시 평균 고유 주문 상품 건수, 사용자별 총 상품 건수 대비 고유 상품 건수 비율 \n",
    "order_usr_grp as\n",
    "(\n",
    "  -- 사용자별 1회 주문시 평균 주문 상품 건수, 1회 주문시 평균 고유 주문 상품 건수, 사용자별 총 상품 건수 대비 고유 상품 건수 비율 \n",
    "  select usr_total_cnt, prd_distinct_cnt, order_distinct_cnt\n",
    "    , usr_total_cnt/order_distinct_cnt as usr_avg_prd_cnt -- 사용자별 1회 주문시 주문 상품 건수(평균)\n",
    "    , usr_total_cnt/prd_distinct_cnt as usr_avg_unq_prd_cnt -- 사용자별 고유 주문 상품 대비 주문 상품 건수(평균) \n",
    "    , prd_distinct_cnt/usr_total_cnt as usr_unq_prd_ratio --사용자별 주문 총 상품 건수 대비 고유 상품 건수 비율\n",
    "  from (\n",
    "    select user_id\n",
    "      , count(*) as usr_total_cnt -- 사용자별 상품 주문 건수\n",
    "      ,count(distinct product_id) prd_distinct_cnt -- 사용자별 고유 상품 주문 건수 \n",
    "      ,count(distinct order_id) order_distinct_cnt -- 사용자별 고유 주문 건수\n",
    "    from order_all_prods a group by user_id -- where order_id in (2539329, 2398795, 473747)\n",
    "  )\n",
    ")\n",
    "-- end of with 구문\n",
    "select avg(usr_avg_prd_cnt), min(usr_avg_prd_cnt), max(usr_avg_prd_cnt)\n",
    "from order_usr_grp"
   ]
  },
  {
   "cell_type": "code",
   "execution_count": 0,
   "metadata": {
    "application/vnd.databricks.v1+cell": {
     "cellMetadata": {},
     "inputWidgets": {},
     "nuid": "d2b358bb-e740-467e-bca3-ea16cc715565",
     "showTitle": false,
     "title": ""
    }
   },
   "outputs": [
    {
     "output_type": "display_data",
     "data": {
      "text/html": [
       "<style scoped>\n",
       "  .ansiout {\n",
       "    display: block;\n",
       "    unicode-bidi: embed;\n",
       "    white-space: pre-wrap;\n",
       "    word-wrap: break-word;\n",
       "    word-break: break-all;\n",
       "    font-family: \"Source Code Pro\", \"Menlo\", monospace;;\n",
       "    font-size: 13px;\n",
       "    color: #555;\n",
       "    margin-left: 4px;\n",
       "    line-height: 19px;\n",
       "  }\n",
       "</style>"
      ]
     },
     "metadata": {
      "application/vnd.databricks.v1+output": {
       "arguments": {},
       "data": "",
       "errorSummary": "",
       "errorTraceType": null,
       "metadata": {},
       "type": "ipynbError"
      }
     },
     "output_type": "display_data"
    }
   ],
   "source": [
    "%sql\n",
    "with\n",
    "-- 사용자별 1회 주문시 평균 주문 상품 건수, 1회 주문시 평균 고유 주문 상품 건수, 사용자별 총 상품 건수 대비 고유 상품 건수 비율\n",
    "-- 개별 select 값들의 histogram 확인. \n",
    "order_usr_grp as\n",
    "(\n",
    " -- 사용자별 1회 주문시 평균 주문 상품 건수, 1회 주문시 평균 고유 주문 상품 건수, 사용자별 총 상품 건수 대비 고유 상품 건수 비율 \n",
    "  select usr_total_cnt, prd_distinct_cnt, order_distinct_cnt\n",
    "    , usr_total_cnt/order_distinct_cnt as usr_avg_prd_cnt -- 사용자별 1회 주문시 주문 상품 건수(평균)\n",
    "    , usr_total_cnt/prd_distinct_cnt as usr_avg_unq_prd_cnt -- 사용자별 고유 주문 상품 대비 주문 상품 건수(평균) \n",
    "    , prd_distinct_cnt/usr_total_cnt as usr_unq_prd_ratio --사용자별 주문 총 상품 건수 대비 고유 상품 건수 비율\n",
    "  from (\n",
    "    select user_id\n",
    "      , count(*) as usr_total_cnt -- 사용자별 상품 주문 건수\n",
    "      ,count(distinct product_id) prd_distinct_cnt -- 사용자별 고유 상품 주문 건수 \n",
    "      ,count(distinct order_id) order_distinct_cnt -- 사용자별 고유 주문 건수\n",
    "    from order_all_prods a group by user_id -- where order_id in (2539329, 2398795, 473747)\n",
    "  )\n",
    ")\n",
    "-- end of with 구문\n",
    "select floor(usr_avg_prd_cnt/5.0)*5 as bin, count(*) bin_cnt\n",
    "from order_usr_grp group by floor(usr_avg_prd_cnt/5.0)*5 order by 1 "
   ]
  },
  {
   "cell_type": "markdown",
   "metadata": {
    "application/vnd.databricks.v1+cell": {
     "cellMetadata": {},
     "inputWidgets": {},
     "nuid": "3e646166-6ba3-4efd-90a4-e57eaaec7ca4",
     "showTitle": false,
     "title": ""
    }
   },
   "source": [
    "#### 사용자별 reordered 관련 속성 분석\n",
    "* 사용자별 reordered 총합(사용자별 REORDERED된 상품 건수)\n",
    "* 사용자별 reordered 비율(사용자별 전체 주문 건수 대비 사용자별 REORDERED된 상품 건수)"
   ]
  },
  {
   "cell_type": "code",
   "execution_count": 0,
   "metadata": {
    "application/vnd.databricks.v1+cell": {
     "cellMetadata": {},
     "inputWidgets": {},
     "nuid": "83475086-20ab-4aba-b55f-cadd460cda69",
     "showTitle": false,
     "title": ""
    }
   },
   "outputs": [
    {
     "output_type": "display_data",
     "data": {
      "text/html": [
       "<style scoped>\n",
       "  .ansiout {\n",
       "    display: block;\n",
       "    unicode-bidi: embed;\n",
       "    white-space: pre-wrap;\n",
       "    word-wrap: break-word;\n",
       "    word-break: break-all;\n",
       "    font-family: \"Source Code Pro\", \"Menlo\", monospace;;\n",
       "    font-size: 13px;\n",
       "    color: #555;\n",
       "    margin-left: 4px;\n",
       "    line-height: 19px;\n",
       "  }\n",
       "</style>"
      ]
     },
     "metadata": {
      "application/vnd.databricks.v1+output": {
       "arguments": {},
       "data": "",
       "errorSummary": "",
       "errorTraceType": null,
       "metadata": {},
       "type": "ipynbError"
      }
     },
     "output_type": "display_data"
    }
   ],
   "source": [
    "%sql\n",
    "select user_id, count(*) usr_total_cnt\n",
    ", sum(reordered) usr_reord_cnt -- 사용자별 reordered된 상품 건수 -- sum(case when reordered=1 then 1 else 0 end)\n",
    ", sum(case when reordered = 0 then 1 else 0 end) as usr_no_reord_cnt -- 사용자별 reorder 하지 않은 상품 건수. count(*) - sum(reoredred)와 동일.\n",
    ", avg(reordered) usr_reord_avg -- 사용자별 reordered 비율\n",
    "from order_all_prods group by user_id\n",
    "/*\n",
    "select a.*, usr_reordered_cnt/usr_total_cnt\n",
    "from (\n",
    "select user_id, count(*) usr_total_cnt\n",
    ", sum(case when reordered=1 then 1 else 0 end) usr_reordered_cnt\n",
    "from order_all_prods group by user_id\n",
    ") a\n",
    "*/"
   ]
  },
  {
   "cell_type": "code",
   "execution_count": 0,
   "metadata": {
    "application/vnd.databricks.v1+cell": {
     "cellMetadata": {},
     "inputWidgets": {},
     "nuid": "3976a088-c530-4755-878e-875aa1090572",
     "showTitle": false,
     "title": ""
    }
   },
   "outputs": [
    {
     "output_type": "display_data",
     "data": {
      "text/html": [
       "<style scoped>\n",
       "  .ansiout {\n",
       "    display: block;\n",
       "    unicode-bidi: embed;\n",
       "    white-space: pre-wrap;\n",
       "    word-wrap: break-word;\n",
       "    word-break: break-all;\n",
       "    font-family: \"Source Code Pro\", \"Menlo\", monospace;;\n",
       "    font-size: 13px;\n",
       "    color: #555;\n",
       "    margin-left: 4px;\n",
       "    line-height: 19px;\n",
       "  }\n",
       "</style>"
      ]
     },
     "metadata": {
      "application/vnd.databricks.v1+output": {
       "arguments": {},
       "data": "",
       "errorSummary": "",
       "errorTraceType": null,
       "metadata": {},
       "type": "ipynbError"
      }
     },
     "output_type": "display_data"
    }
   ],
   "source": [
    "%sql\n",
    "with\n",
    "order_usr_grp as\n",
    "(\n",
    "select user_id, count(*) usr_total_cnt\n",
    ", sum(reordered) usr_reordered_cnt\n",
    ", avg(reordered) usr_reordered_avg\n",
    "from order_all_prods group by user_id\n",
    ") \n",
    "-- end of view 절\n",
    "select floor(usr_reordered_avg/0.1)*0.1 as bin, count(*) bin_cnt\n",
    "from order_usr_grp group by floor(usr_reordered_avg/0.1)*0.1 order by 1  \n",
    "/* \n",
    "select min(usr_reordered_cnt), max(usr_reordered_cnt), avg(usr_reordered_cnt)\n",
    "from order_usr_grp \n",
    "\n",
    "-- user별 재주문 건수 histogram, 재주문 건수는 주문을 많이 한 고객일 경우 많아짐.\n",
    "select floor(usr_reordered_cnt/30)*30 as bin, count(*) bin_cnt\n",
    "from order_usr_grp group by floor(usr_reordered_cnt/30)*30 order by 1 \n",
    "\n",
    "-- user별 재주문 비율 histogram\n",
    "select floor(usr_reordered_avg/0.1)*0.1 as bin, count(*) bin_cnt\n",
    "from order_usr_grp group by floor(usr_reordered_avg/0.1)*0.1 order by 1 \n",
    "*/"
   ]
  },
  {
   "cell_type": "markdown",
   "metadata": {
    "application/vnd.databricks.v1+cell": {
     "cellMetadata": {},
     "inputWidgets": {},
     "nuid": "3a4e1974-00c7-46ac-8f12-2722eb7b90e5",
     "showTitle": false,
     "title": ""
    }
   },
   "source": [
    "#### 사용자별 지난 주문이후 걸린 일자(days_since_prior_order)의 평균/최대/최소값 추출, 사용자별 평균 dow, hourofday 추출"
   ]
  },
  {
   "cell_type": "code",
   "execution_count": 0,
   "metadata": {
    "application/vnd.databricks.v1+cell": {
     "cellMetadata": {},
     "inputWidgets": {},
     "nuid": "7eee03a6-fa73-4bbb-80f6-80d33e14b4a6",
     "showTitle": false,
     "title": ""
    }
   },
   "outputs": [
    {
     "output_type": "display_data",
     "data": {
      "text/html": [
       "<style scoped>\n",
       "  .ansiout {\n",
       "    display: block;\n",
       "    unicode-bidi: embed;\n",
       "    white-space: pre-wrap;\n",
       "    word-wrap: break-word;\n",
       "    word-break: break-all;\n",
       "    font-family: \"Source Code Pro\", \"Menlo\", monospace;;\n",
       "    font-size: 13px;\n",
       "    color: #555;\n",
       "    margin-left: 4px;\n",
       "    line-height: 19px;\n",
       "  }\n",
       "</style>"
      ]
     },
     "metadata": {
      "application/vnd.databricks.v1+output": {
       "arguments": {},
       "data": "",
       "errorSummary": "",
       "errorTraceType": null,
       "metadata": {},
       "type": "ipynbError"
      }
     },
     "output_type": "display_data"
    }
   ],
   "source": [
    "%sql\n",
    "-- user별로 지난 주문이후 걸린 일자의 평균/최대/최소값을 추출\n",
    "-- avg(days_since_prior_order) 값이 작을 수록 보다 자주 주문을 수행. \n",
    "-- instacart는 30일 자동 주문 기능이 있음. 30일이 넘는 데이터는 데이터로 만들지 않은 것으로 보임. \n",
    "select user_id, avg(days_since_prior_order) uer_avg_prior_days \n",
    "    , max(days_since_prior_order) usr_max_prior_days\n",
    "    , min(days_since_prior_order) usr_min_prior_days\n",
    "from order_all_prods group by user_id order by user_id limit 30"
   ]
  },
  {
   "cell_type": "code",
   "execution_count": 0,
   "metadata": {
    "application/vnd.databricks.v1+cell": {
     "cellMetadata": {},
     "inputWidgets": {},
     "nuid": "51f3ca31-1af0-445c-8bfc-2c18b5379d57",
     "showTitle": false,
     "title": ""
    }
   },
   "outputs": [
    {
     "output_type": "display_data",
     "data": {
      "text/html": [
       "<style scoped>\n",
       "  .ansiout {\n",
       "    display: block;\n",
       "    unicode-bidi: embed;\n",
       "    white-space: pre-wrap;\n",
       "    word-wrap: break-word;\n",
       "    word-break: break-all;\n",
       "    font-family: \"Source Code Pro\", \"Menlo\", monospace;;\n",
       "    font-size: 13px;\n",
       "    color: #555;\n",
       "    margin-left: 4px;\n",
       "    line-height: 19px;\n",
       "  }\n",
       "</style>"
      ]
     },
     "metadata": {
      "application/vnd.databricks.v1+output": {
       "arguments": {},
       "data": "",
       "errorSummary": "",
       "errorTraceType": null,
       "metadata": {},
       "type": "ipynbError"
      }
     },
     "output_type": "display_data"
    }
   ],
   "source": [
    "%sql\n",
    "with\n",
    "order_usr_grp as\n",
    "( \n",
    "select user_id, avg(days_since_prior_order) usr_avg_prior_days\n",
    "    , max(days_since_prior_order) usr_max_prior_days\n",
    "    , min(days_since_prior_order) usr_min_prior_days\n",
    "from order_all_prods group by user_id\n",
    ")\n",
    "-- end of with절\n",
    "select max(usr_avg_prior_days), avg(usr_avg_prior_days), min(usr_avg_prior_days)\n",
    "from order_usr_grp\n",
    "/* \n",
    "select * from order_usr_grp where usr_max_prior_days > 30\n",
    "\n",
    "select max(usr_avg_prior_days), avg(usr_avg_prior_days), min(usr_avg_prior_days)\n",
    "from order_usr_grp \n",
    "*/ "
   ]
  },
  {
   "cell_type": "code",
   "execution_count": 0,
   "metadata": {
    "application/vnd.databricks.v1+cell": {
     "cellMetadata": {},
     "inputWidgets": {},
     "nuid": "d26ce5c2-d388-410c-b0c7-40efc1cece7b",
     "showTitle": false,
     "title": ""
    }
   },
   "outputs": [
    {
     "output_type": "display_data",
     "data": {
      "text/html": [
       "<style scoped>\n",
       "  .ansiout {\n",
       "    display: block;\n",
       "    unicode-bidi: embed;\n",
       "    white-space: pre-wrap;\n",
       "    word-wrap: break-word;\n",
       "    word-break: break-all;\n",
       "    font-family: \"Source Code Pro\", \"Menlo\", monospace;;\n",
       "    font-size: 13px;\n",
       "    color: #555;\n",
       "    margin-left: 4px;\n",
       "    line-height: 19px;\n",
       "  }\n",
       "</style>"
      ]
     },
     "metadata": {
      "application/vnd.databricks.v1+output": {
       "arguments": {},
       "data": "",
       "errorSummary": "",
       "errorTraceType": null,
       "metadata": {},
       "type": "ipynbError"
      }
     },
     "output_type": "display_data"
    }
   ],
   "source": [
    "%sql\n",
    "-- 사용자의 사용자의 평균 order_dow, 사용자의 평균 order_hour_day\n",
    "select user_id\n",
    "    , avg(order_dow) usr_avg_order_dow\n",
    "    , avg(order_hour_of_day) usr_avg_order_hour_of_day\n",
    "from order_all_prods group by user_id order by user_id limit 10"
   ]
  },
  {
   "cell_type": "markdown",
   "metadata": {
    "application/vnd.databricks.v1+cell": {
     "cellMetadata": {},
     "inputWidgets": {},
     "nuid": "708e772d-ed65-4957-8b48-cf19b403009b",
     "showTitle": false,
     "title": ""
    }
   },
   "source": [
    "### 사용자+상품 레벨 속성 분석\n",
    "* 사용자+상품별 주문건수, reorder건수, reorder비율, 카트에 담는 순서\n",
    "* 사용자+상품별 평균/최대/최소 이전 주문까지 걸리는 일자"
   ]
  },
  {
   "cell_type": "code",
   "execution_count": 0,
   "metadata": {
    "application/vnd.databricks.v1+cell": {
     "cellMetadata": {},
     "inputWidgets": {},
     "nuid": "1a224a6f-54a2-40f2-9fd5-91f89322a9ae",
     "showTitle": false,
     "title": ""
    }
   },
   "outputs": [
    {
     "output_type": "display_data",
     "data": {
      "text/html": [
       "<style scoped>\n",
       "  .ansiout {\n",
       "    display: block;\n",
       "    unicode-bidi: embed;\n",
       "    white-space: pre-wrap;\n",
       "    word-wrap: break-word;\n",
       "    word-break: break-all;\n",
       "    font-family: \"Source Code Pro\", \"Menlo\", monospace;;\n",
       "    font-size: 13px;\n",
       "    color: #555;\n",
       "    margin-left: 4px;\n",
       "    line-height: 19px;\n",
       "  }\n",
       "</style>"
      ]
     },
     "metadata": {
      "application/vnd.databricks.v1+output": {
       "arguments": {},
       "data": "",
       "errorSummary": "",
       "errorTraceType": null,
       "metadata": {},
       "type": "ipynbError"
      }
     },
     "output_type": "display_data"
    }
   ],
   "source": [
    "%sql\n",
    "select * from order_all_prods where user_id = 1 order by order_number"
   ]
  },
  {
   "cell_type": "code",
   "execution_count": 0,
   "metadata": {
    "application/vnd.databricks.v1+cell": {
     "cellMetadata": {},
     "inputWidgets": {},
     "nuid": "67dd1d97-e8c7-4cf5-9237-fb4428ea97df",
     "showTitle": false,
     "title": ""
    }
   },
   "outputs": [
    {
     "output_type": "display_data",
     "data": {
      "text/html": [
       "<style scoped>\n",
       "  .ansiout {\n",
       "    display: block;\n",
       "    unicode-bidi: embed;\n",
       "    white-space: pre-wrap;\n",
       "    word-wrap: break-word;\n",
       "    word-break: break-all;\n",
       "    font-family: \"Source Code Pro\", \"Menlo\", monospace;;\n",
       "    font-size: 13px;\n",
       "    color: #555;\n",
       "    margin-left: 4px;\n",
       "    line-height: 19px;\n",
       "  }\n",
       "</style>"
      ]
     },
     "metadata": {
      "application/vnd.databricks.v1+output": {
       "arguments": {},
       "data": "",
       "errorSummary": "",
       "errorTraceType": null,
       "metadata": {},
       "type": "ipynbError"
      }
     },
     "output_type": "display_data"
    }
   ],
   "source": [
    "%sql\n",
    "-- 사용자+상품 레벨 속성 추출.\n",
    "SELECT user_id, product_id,\n",
    "    count(*) as up_prd_cnt,  -- 사용자의 개별 상품별 주문 건수\n",
    "    sum(reordered) as up_reordered_sum, -- 사용자+상품 레벨의 reorder 건수 \n",
    "    avg(reordered) as up_reoredered_avg, -- 사용자+상품 레벨의 주문별 reorder비율 \n",
    "    sum(reordered)/count(*) as up_reoredered_avg1,\n",
    "    avg(add_to_cart_order) as up_avg_cart --사용자+상품레벨에서 보통 cart에 몇번째로 담는가? \n",
    "FROM order_all_prods GROUP BY user_id, product_id;"
   ]
  },
  {
   "cell_type": "code",
   "execution_count": 0,
   "metadata": {
    "application/vnd.databricks.v1+cell": {
     "cellMetadata": {},
     "inputWidgets": {},
     "nuid": "f88073a8-35eb-44de-869d-46fe02076466",
     "showTitle": false,
     "title": ""
    }
   },
   "outputs": [
    {
     "output_type": "display_data",
     "data": {
      "text/html": [
       "<style scoped>\n",
       "  .ansiout {\n",
       "    display: block;\n",
       "    unicode-bidi: embed;\n",
       "    white-space: pre-wrap;\n",
       "    word-wrap: break-word;\n",
       "    word-break: break-all;\n",
       "    font-family: \"Source Code Pro\", \"Menlo\", monospace;;\n",
       "    font-size: 13px;\n",
       "    color: #555;\n",
       "    margin-left: 4px;\n",
       "    line-height: 19px;\n",
       "  }\n",
       "</style>"
      ]
     },
     "metadata": {
      "application/vnd.databricks.v1+output": {
       "arguments": {},
       "data": "",
       "errorSummary": "",
       "errorTraceType": null,
       "metadata": {},
       "type": "ipynbError"
      }
     },
     "output_type": "display_data"
    }
   ],
   "source": [
    "%sql\n",
    "with user_prd_grp\n",
    "as\n",
    "(\n",
    "SELECT user_id, product_id,\n",
    "    count(*) as up_prd_cnt,  -- 사용자의 개별 상품별 주문 건수\n",
    "    sum(reordered) as up_reordered_sum, -- 사용자+상품 레벨의 reorder 건수 \n",
    "    avg(reordered) as up_reoredered_avg, -- 사용자+상품 레벨의 주문별 reorder비율 \n",
    "    avg(add_to_cart_order) as up_avg_cart --사용자+상품레벨에서 보통 cart에 몇번째로 담는가? \n",
    "FROM order_all_prods GROUP BY user_id, product_id\n",
    ")\n",
    "select floor(up_reordered_sum/10.0)*10 as bin, avg(up_reoredered_avg) from user_prd_grp\n",
    "group by floor(up_reordered_sum/10.0)*10 order by 1"
   ]
  },
  {
   "cell_type": "code",
   "execution_count": 0,
   "metadata": {
    "application/vnd.databricks.v1+cell": {
     "cellMetadata": {},
     "inputWidgets": {},
     "nuid": "ef17b3e0-a7af-49cd-bc2f-e7f7b18f2b6f",
     "showTitle": false,
     "title": ""
    }
   },
   "outputs": [
    {
     "output_type": "display_data",
     "data": {
      "text/html": [
       "<style scoped>\n",
       "  .ansiout {\n",
       "    display: block;\n",
       "    unicode-bidi: embed;\n",
       "    white-space: pre-wrap;\n",
       "    word-wrap: break-word;\n",
       "    word-break: break-all;\n",
       "    font-family: \"Source Code Pro\", \"Menlo\", monospace;;\n",
       "    font-size: 13px;\n",
       "    color: #555;\n",
       "    margin-left: 4px;\n",
       "    line-height: 19px;\n",
       "  }\n",
       "</style>"
      ]
     },
     "metadata": {
      "application/vnd.databricks.v1+output": {
       "arguments": {},
       "data": "",
       "errorSummary": "",
       "errorTraceType": null,
       "metadata": {},
       "type": "ipynbError"
      }
     },
     "output_type": "display_data"
    }
   ],
   "source": [
    "%sql\n",
    "-- 사용자+상품 레벨 속성 추출.\n",
    "SELECT user_id, product_id,\n",
    "    avg(days_since_prior_order) as up_avg_prior_days,\n",
    "    max(days_since_prior_order) as up_max_prior_days,\n",
    "    min(days_since_prior_order) as up_min_prior_days,\n",
    "    avg(order_dow) as up_avg_ord_dow,\n",
    "    avg(order_hour_of_day) as up_avg_ord_hour\n",
    "FROM order_all_prods GROUP BY user_id, product_id;"
   ]
  },
  {
   "cell_type": "code",
   "execution_count": 0,
   "metadata": {
    "application/vnd.databricks.v1+cell": {
     "cellMetadata": {},
     "inputWidgets": {},
     "nuid": "2aacf9ab-5d1d-4b83-9049-cb86c3f0196b",
     "showTitle": false,
     "title": ""
    }
   },
   "outputs": [
    {
     "output_type": "display_data",
     "data": {
      "text/html": [
       "<style scoped>\n",
       "  .ansiout {\n",
       "    display: block;\n",
       "    unicode-bidi: embed;\n",
       "    white-space: pre-wrap;\n",
       "    word-wrap: break-word;\n",
       "    word-break: break-all;\n",
       "    font-family: \"Source Code Pro\", \"Menlo\", monospace;;\n",
       "    font-size: 13px;\n",
       "    color: #555;\n",
       "    margin-left: 4px;\n",
       "    line-height: 19px;\n",
       "  }\n",
       "</style>"
      ]
     },
     "metadata": {
      "application/vnd.databricks.v1+output": {
       "arguments": {},
       "data": "",
       "errorSummary": "",
       "errorTraceType": null,
       "metadata": {},
       "type": "ipynbError"
      }
     },
     "output_type": "display_data"
    }
   ],
   "source": []
  }
 ],
 "metadata": {
  "application/vnd.databricks.v1+notebook": {
   "dashboards": [],
   "language": "python",
   "notebookMetadata": {
    "pythonIndentUnit": 4
   },
   "notebookName": "spark_instacart_eda_02",
   "widgets": {}
  }
 },
 "nbformat": 4,
 "nbformat_minor": 0
}
